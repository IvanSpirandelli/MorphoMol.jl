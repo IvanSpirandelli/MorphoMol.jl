{
 "cells": [
  {
   "cell_type": "code",
   "execution_count": 24,
   "metadata": {},
   "outputs": [
    {
     "data": {
      "text/plain": [
       "720.0"
      ]
     },
     "metadata": {},
     "output_type": "display_data"
    }
   ],
   "source": [
    "vdw_type = \"protor\"\n",
    "n = 4\n",
    "\n",
    "T = 2.5\n",
    "ε = 0.1\n",
    "L = 5\n",
    "rs = 1.4\n",
    "η = 0.3665\n",
    "bounds = 200.0\n",
    "σ_t = 1.25\n",
    "σ_r = 0.15\n",
    "overlap_jump = 0.0\n",
    "overlap_slope = 0.85\n",
    "delaunay_eps = 10.0\n",
    "comment = \"\"\n",
    "\n",
    "energy_specifier = \"oj_$(replace(string(overlap_jump), \".\" => \"_\"))_os_$(replace(string(overlap_slope), \".\" => \"_\"))\"\n",
    "simulation_time_minutes = 12.0 * 60.0"
   ]
  },
  {
   "cell_type": "code",
   "execution_count": 27,
   "metadata": {},
   "outputs": [],
   "source": [
    "Ts = [1.4, 1.6, 1.8, 2.0, 2.2, 2.4, 2.6, 2.8, 3.0]\n",
    "simulations_per_combination = 5\n",
    "mol_type = \"6sag\"\n",
    "open(\"configs/$(vdw_type)_$(energy_specifier)_config.txt\", \"w\") do io\n",
    "    println(io,\"ArrayTaskID input_string\")\n",
    "    for (i, T) in enumerate(Ts)\n",
    "        template_file = \"assets/input/jld2/2_6sag_protor_hardsphere_assembly.jld2\"\n",
    "        output_directory = \"assets/output/assembly/$(mol_type)_$(vdw_type)_$(energy_specifier)/\"\n",
    "        for j in 1:simulations_per_combination\n",
    "            name = \"$((i-1)*simulations_per_combination+j)_$(mol_type)_$(vdw_type)_$(energy_specifier)\"\n",
    "            input_string = escape_string(\"name=\\\"$name\\\";T=$(T);rs=$rs;η=$η;L=$L;ε=$ε;σ_t=$σ_t;σ_r=$σ_r;overlap_jump=$overlap_jump;overlap_slope=$overlap_slope;simulation_time_minutes=$simulation_time_minutes;output_directory=\\\"$output_directory\\\";template_file=\\\"$template_file\\\";delaunay_eps=$delaunay_eps;comment=\\\"$comment\\\"\")\n",
    "            println(io, \"$((i-1)*simulations_per_combination + j) $input_string\")\n",
    "        end\n",
    "    end\n",
    "end"
   ]
  },
  {
   "cell_type": "code",
   "execution_count": 28,
   "metadata": {},
   "outputs": [],
   "source": [
    "hours = Int(round(simulation_time_minutes / 60.0))\n",
    "days = hours ÷ 24\n",
    "remaining_hours = hours % 24\n",
    "remaining_hours_string = remaining_hours < 10 ? \"0$(remaining_hours)\" : string(remaining_hours)\n",
    "buffer_time_string = simulation_time_minutes < 5 ? \"0$(Int(simulation_time_minutes)+2)\" : \"30\"\n",
    "\n",
    "open(\"$(vdw_type)_$(energy_specifier)_script.job\", \"w\") do io\n",
    "    println(io, \"#!/bin/bash\")\n",
    "    println(io, \"#SBATCH --job-name=SolvationSimulations\")\n",
    "    println(io, \"#SBATCH --time=0$(days)-$(remaining_hours_string):$(buffer_time_string)\")\n",
    "    println(io, \"#SBATCH --ntasks=1\")\n",
    "    println(io, \"#SBATCH --cpus-per-task=1\")\n",
    "    println(io, \"#SBATCH --array=1-$(simulations_per_combination * length(Ts))\")\n",
    "    println(io, \"#SBATCH --chdir=/work/spirandelli/MorphoMolMonteCarlo/\")\n",
    "    println(io, \"#SBATCH -o ./tools/hpc/%a.out # STDOUT\")\n",
    "    println(io, \"\")\n",
    "    println(io, \"export http_proxy=http://proxy2.uni-potsdam.de:3128 #Setting proxy, due to lack of Internet on compute nodes.\")\n",
    "    println(io, \"export https_proxy=http://proxy2.uni-potsdam.de:3128\")\n",
    "    println(io, \"\")\n",
    "    println(io, \"module purge\")\n",
    "    println(io, \"module load lang/Julia/1.7.3-linux-x86_64\")\n",
    "    println(io, \"\")\n",
    "    println(io, \"# Specify the path to the config file\")\n",
    "    println(io, \"config=tools/hpc/configs/$(vdw_type)_$(energy_specifier)_config.txt\")\n",
    "    println(io, \"\")\n",
    "    println(io, \"# Extract the variables from config file\")\n",
    "    println(io, \"config_string=\\$(awk -v ArrayTaskID=\\$SLURM_ARRAY_TASK_ID '\\$1==ArrayTaskID {print \\$2}' \\$config)\")\n",
    "    println(io, \"\")\n",
    "    println(io, \"julia -e \\\"$(escape_string(\"include(\\\"hpc/hmc_call.jl\\\"); hmc_call(\\\"\\$config_string\\\")\"))\\\"\")\n",
    "    println(io, \"\")\n",
    "    println(io, \"# copy back results\")\n",
    "    println(io, \"mkdir -p ~/outputs/ && cp -r assets/output/assembly/* ~/outputs/\")\n",
    "end"
   ]
  }
 ],
 "metadata": {
  "kernelspec": {
   "display_name": "Julia 1.8.5",
   "language": "julia",
   "name": "julia-1.8"
  },
  "language_info": {
   "file_extension": ".jl",
   "mimetype": "application/julia",
   "name": "julia",
   "version": "1.8.5"
  },
  "orig_nbformat": 4
 },
 "nbformat": 4,
 "nbformat_minor": 2
}
