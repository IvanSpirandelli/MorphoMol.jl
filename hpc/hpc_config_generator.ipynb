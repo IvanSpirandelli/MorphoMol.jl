{
 "cells": [
  {
   "cell_type": "code",
   "execution_count": 2,
   "metadata": {},
   "outputs": [
    {
     "data": {
      "text/plain": [
       "720.0"
      ]
     },
     "metadata": {},
     "output_type": "display_data"
    }
   ],
   "source": [
    "vdw_type = \"protor\"\n",
    "\n",
    "L = 5\n",
    "rs = 1.4\n",
    "η = 0.3665\n",
    "bounds = 200.0\n",
    "σ_t = 0.75\n",
    "σ_r = 0.35\n",
    "overlap_jump = 0.0\n",
    "overlap_slope = 0.85\n",
    "delaunay_eps = 10.0\n",
    "comment = \"\"\n",
    "\n",
    "energy_specifier = \"oj_$(replace(string(overlap_jump), \".\" => \"_\"))_os_$(replace(string(overlap_slope), \".\" => \"_\"))\"\n",
    "simulation_time_minutes = 12.0 * 60.0"
   ]
  },
  {
   "cell_type": "code",
   "execution_count": 3,
   "metadata": {},
   "outputs": [
    {
     "name": "stdout",
     "output_type": "stream",
     "text": [
      "1ei7_1\n",
      "1ei7_10\n",
      "1ei7_11\n",
      "1ei7_12\n",
      "1ei7_13\n",
      "1ei7_14\n",
      "1ei7_15\n",
      "1ei7_16\n",
      "1ei7_17\n",
      "1ei7_18\n",
      "1ei7_19\n",
      "1ei7_2\n",
      "1ei7_20\n",
      "1ei7_21\n",
      "1ei7_22\n",
      "1ei7_23\n",
      "1ei7_3\n",
      "1ei7_4\n",
      "1ei7_5\n",
      "1ei7_6\n",
      "1ei7_7\n",
      "1ei7_8\n",
      "1ei7_9\n",
      "2tmv_1\n",
      "2tmv_10\n",
      "2tmv_11\n",
      "2tmv_12\n",
      "2tmv_13\n",
      "2tmv_14\n",
      "2tmv_15\n",
      "2tmv_16\n",
      "2tmv_17\n",
      "2tmv_2\n",
      "2tmv_3\n",
      "2tmv_4\n",
      "2tmv_5\n",
      "2tmv_6\n",
      "2tmv_7\n",
      "2tmv_8\n",
      "2tmv_9\n",
      "6r7m_1\n",
      "6r7m_10\n",
      "6r7m_11\n",
      "6r7m_12\n",
      "6r7m_13\n",
      "6r7m_14\n",
      "6r7m_15\n",
      "6r7m_16\n",
      "6r7m_17\n",
      "6r7m_18\n",
      "6r7m_19\n",
      "6r7m_2\n",
      "6r7m_20\n",
      "6r7m_21\n",
      "6r7m_3\n",
      "6r7m_4\n",
      "6r7m_5\n",
      "6r7m_6\n",
      "6r7m_7\n",
      "6r7m_8\n",
      "6r7m_9\n",
      "6sae_1\n",
      "6sae_10\n",
      "6sae_11\n",
      "6sae_12\n",
      "6sae_13\n",
      "6sae_2\n",
      "6sae_3\n",
      "6sae_4\n",
      "6sae_5\n",
      "6sae_6\n",
      "6sae_7\n",
      "6sae_8\n",
      "6sae_9\n",
      "6sag_1\n",
      "6sag_2\n",
      "6sag_3\n",
      "6sag_4\n",
      "6sag_5\n",
      "6sag_6\n"
     ]
    }
   ],
   "source": [
    "for file in readdir(\"../assets/input/jld2/2_low/\")\n",
    "    println(split(file, \".\")[1])\n",
    "end"
   ]
  },
  {
   "cell_type": "code",
   "execution_count": 11,
   "metadata": {},
   "outputs": [],
   "source": [
    "T = 2.4\n",
    "ε = 0.001\n",
    "\n",
    "input_specifier = \"2_low_refinement\"\n",
    "template_folder = \"assets/input/jld2/2_low/\"\n",
    "\n",
    "simulations_per_combination = 5\n",
    "\n",
    "\n",
    "open(\"configs/$(input_specifier)_config.txt\", \"w\") do io\n",
    "    println(io,\"ArrayTaskID input_string\")\n",
    "    i = 0\n",
    "    for file in readdir(\"../$(template_folder)\")\n",
    "        if split(file,\"_\")[1] in [\"6sag\", \"6sae\"]  \n",
    "            i+=1\n",
    "            template_file = \"$(template_folder)$(file)\"\n",
    "            output_directory = \"assets/output/assembly/$(input_specifier)_$(energy_specifier)/\"\n",
    "            mol_type = split(file, \".\")[1]\n",
    "            for j in 1:simulations_per_combination\n",
    "                name = \"$(j)_$(mol_type)_$(vdw_type)_$(energy_specifier)\"\n",
    "                input_string = escape_string(\"name=\\\"$name\\\";T=$(T);rs=$rs;η=$η;L=$L;ε=$ε;σ_t=$σ_t;σ_r=$σ_r;overlap_jump=$overlap_jump;overlap_slope=$overlap_slope;simulation_time_minutes=$simulation_time_minutes;output_directory=\\\"$output_directory\\\";template_file=\\\"$template_file\\\";delaunay_eps=$delaunay_eps;comment=\\\"$comment\\\"\")\n",
    "                println(io, \"$((i-1) * simulations_per_combination + j) $input_string\")\n",
    "            end\n",
    "        end\n",
    "    end\n",
    "end\n"
   ]
  },
  {
   "cell_type": "code",
   "execution_count": 12,
   "metadata": {},
   "outputs": [
    {
     "data": {
      "text/plain": [
       "96"
      ]
     },
     "metadata": {},
     "output_type": "display_data"
    }
   ],
   "source": [
    "total_simulations = length(readlines(\"configs/$(input_specifier)_config.txt\")) - 1"
   ]
  },
  {
   "cell_type": "code",
   "execution_count": 9,
   "metadata": {},
   "outputs": [],
   "source": [
    "# #Ts = [2.0, 2.4, 2.8]\n",
    "# #εs = [0.001, 0.003, 0.005]\n",
    "\n",
    "# simulations_per_combination = 10\n",
    "# total_simulations = length(Ts) * length(εs) * simulations_per_combination\n",
    "# mol_type = \"6r7m\"\n",
    "# input_specifier = \"3_6r7m_stacked\"\n",
    "# open(\"configs/$(input_specifier)_config.txt\", \"w\") do io\n",
    "#     println(io,\"ArrayTaskID input_string\")\n",
    "#     i = 1\n",
    "#     for T in Ts\n",
    "#         for ε in εs\n",
    "#             i += 1\n",
    "#             template_file = \"assets/input/jld2/$(input_specifier).jld2\"\n",
    "#             output_directory = \"assets/output/assembly/$(input_specifier)_$(energy_specifier)/\"\n",
    "#             for j in 1:simulations_per_combination\n",
    "#                 name = \"$((i-1)*simulations_per_combination+j)_$(mol_type)_$(vdw_type)_$(energy_specifier)\"\n",
    "#                 input_string = escape_string(\"name=\\\"$name\\\";T=$(T);rs=$rs;η=$η;L=$L;ε=$ε;σ_t=$σ_t;σ_r=$σ_r;overlap_jump=$overlap_jump;overlap_slope=$overlap_slope;simulation_time_minutes=$simulation_time_minutes;output_directory=\\\"$output_directory\\\";template_file=\\\"$template_file\\\";delaunay_eps=$delaunay_eps;comment=\\\"$comment\\\"\")\n",
    "#                 println(io, \"$((i-1)*simulations_per_combination + j) $input_string\")\n",
    "#             end\n",
    "#         end\n",
    "#     end\n",
    "# end"
   ]
  },
  {
   "cell_type": "code",
   "execution_count": 21,
   "metadata": {},
   "outputs": [],
   "source": [
    "hours = Int(round(simulation_time_minutes / 60.0))\n",
    "days = hours ÷ 24\n",
    "remaining_hours = hours % 24\n",
    "remaining_hours_string = remaining_hours < 10 ? \"0$(remaining_hours)\" : string(remaining_hours)\n",
    "buffer_time_string = simulation_time_minutes < 5 ? \"0$(Int(simulation_time_minutes)+2)\" : \"30\"\n",
    "\n",
    "open(\"$(input_specifier)_script.job\", \"w\") do io\n",
    "    println(io, \"#!/bin/bash\")\n",
    "    println(io, \"#SBATCH --job-name=SolvationSimulations\")\n",
    "    println(io, \"#SBATCH --time=0$(days)-$(remaining_hours_string):$(buffer_time_string)\")\n",
    "    println(io, \"#SBATCH --ntasks=1\")\n",
    "    println(io, \"#SBATCH --cpus-per-task=1\")\n",
    "    println(io, \"#SBATCH --array=1-$(total_simulations)\")\n",
    "    println(io, \"#SBATCH --chdir=/work/spirandelli/MorphoMolMonteCarlo/\")\n",
    "    println(io, \"#SBATCH -o ./hpc/out/%a.out # STDOUT\")\n",
    "    println(io, \"\")\n",
    "    println(io, \"export http_proxy=http://proxy2.uni-potsdam.de:3128 #Setting proxy, due to lack of Internet on compute nodes.\")\n",
    "    println(io, \"export https_proxy=http://proxy2.uni-potsdam.de:3128\")\n",
    "    println(io, \"\")\n",
    "    println(io, \"module purge\")\n",
    "    println(io, \"module load lang/Julia/1.7.3-linux-x86_64\")\n",
    "    println(io, \"\")\n",
    "    println(io, \"# Specify the path to the config file\")\n",
    "    println(io, \"config=hpc/configs/$(input_specifier)_config.txt\")\n",
    "    println(io, \"\")\n",
    "    println(io, \"# Extract the variables from config file\")\n",
    "    println(io, \"config_string=\\$(awk -v ArrayTaskID=\\$SLURM_ARRAY_TASK_ID '\\$1==ArrayTaskID {print \\$2}' \\$config)\")\n",
    "    println(io, \"\")\n",
    "    println(io, \"julia -e \\\"$(escape_string(\"include(\\\"hpc/hmc_call.jl\\\"); hmc_call(\\\"\\$config_string\\\")\"))\\\"\")\n",
    "    println(io, \"\")\n",
    "    println(io, \"# copy back results\")\n",
    "    println(io, \"mkdir -p ~/outputs/ && cp -r assets/output/assembly/* ~/outputs/\")\n",
    "end"
   ]
  }
 ],
 "metadata": {
  "kernelspec": {
   "display_name": "Julia 1.8.5",
   "language": "julia",
   "name": "julia-1.8"
  },
  "language_info": {
   "file_extension": ".jl",
   "mimetype": "application/julia",
   "name": "julia",
   "version": "1.8.5"
  },
  "orig_nbformat": 4
 },
 "nbformat": 4,
 "nbformat_minor": 2
}
