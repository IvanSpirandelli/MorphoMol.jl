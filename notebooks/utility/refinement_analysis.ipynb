{
 "cells": [
  {
   "cell_type": "code",
   "execution_count": 10,
   "metadata": {},
   "outputs": [],
   "source": [
    "import Pkg; \n",
    "\n",
    "if split(pwd(),\"/\")[end] == \"utility\"\n",
    "    cd(joinpath(@__DIR__, \"../../\"))\n",
    "    Pkg.activate(\"Project.toml\")\n",
    "end\n",
    "\n",
    "using MorphoMol\n",
    "using StaticArrays\n",
    "using Rotations\n",
    "using Distances\n",
    "using JLD2"
   ]
  },
  {
   "cell_type": "code",
   "execution_count": 9,
   "metadata": {},
   "outputs": [
    {
     "name": "stdout",
     "output_type": "stream",
     "text": [
      "6r7m_1.jld2: 8143.382898458421\n",
      "6r7m_10.jld2: 8141.4136689220795\n",
      "6r7m_11.jld2: 8141.520791211802\n",
      "6r7m_12.jld2: 8153.085424390234\n",
      "6r7m_13.jld2: 8153.313369050566\n",
      "6r7m_14.jld2: 8154.8717345610585\n",
      "6r7m_15.jld2: 8142.208346347945\n",
      "6r7m_16.jld2: 8142.64178768809\n",
      "6r7m_17.jld2: 8140.4095298520315\n",
      "6r7m_18.jld2: 8138.924225194982\n",
      "6r7m_19.jld2: 8141.6935359423005\n",
      "6r7m_2.jld2: 8142.1430598848\n",
      "6r7m_20.jld2: 8141.293820963843\n",
      "6r7m_21.jld2: 8146.020574241854\n",
      "6r7m_3.jld2: 8139.820849722495\n",
      "6r7m_4.jld2: 8141.411219690925\n",
      "6r7m_5.jld2: 8139.4468587013\n",
      "6r7m_6.jld2: 8152.625762472693\n",
      "6r7m_7.jld2: 8152.571329720671\n",
      "6r7m_8.jld2: 8141.157897383011\n",
      "6r7m_9.jld2: 8140.0076230678815\n"
     ]
    }
   ],
   "source": [
    "for file in readdir(\"assets/input/jld2/2_low/\")\n",
    "    if split(file, \".\")[end] == \"jld2\" && occursin(\"6r7m\", file)\n",
    "        @load \"$rwm_hot_start_folder$file\" template_mol template_radii x_init\n",
    "        realization = MorphoMol.Utilities.get_flat_realization(x_init, template_mol)\n",
    "        E = MorphoMol.Energies.solvation_free_energy(\n",
    "            realization, \n",
    "            length(template_radii),\n",
    "            [template_radii; template_radii],\n",
    "            1.4,\n",
    "            MorphoMol.Energies.get_prefactors(1.4, 0.3665),\n",
    "            0.0,\n",
    "            0.85\n",
    "            )\n",
    "        println(file, \": \", E)\n",
    "    end\n",
    "end"
   ]
  },
  {
   "cell_type": "code",
   "execution_count": 11,
   "metadata": {},
   "outputs": [
    {
     "data": {
      "text/plain": [
       "\"assets/hpc_out/2_6r7m_oj_0_0_os_0_85/\""
      ]
     },
     "execution_count": 11,
     "metadata": {},
     "output_type": "execute_result"
    }
   ],
   "source": [
    "folder = \"assets/hpc_out/2_6r7m_oj_0_0_os_0_85/\""
   ]
  },
  {
   "cell_type": "code",
   "execution_count": 12,
   "metadata": {},
   "outputs": [],
   "source": [
    "for file in readdir(folder)\n",
    "    if split(file, \".\")[end] == \"jld2\"\n",
    "        mt = split(file, \"_\")[2]\n",
    "        num = split(file, \"_\")[3]\n",
    "        mkpath(joinpath(folder, \"$(mt)_$(num)\"))\n",
    "        mv(joinpath(folder, file), joinpath(folder, \"$(mt)_$(num)\", file))\n",
    "    end\n",
    "end"
   ]
  },
  {
   "cell_type": "code",
   "execution_count": 13,
   "metadata": {},
   "outputs": [
    {
     "name": "stdout",
     "output_type": "stream",
     "text": [
      "6r7m 8138.924225194982 0.9982893464282008\n",
      "6sae 8107.279622532144 1.2821182928454404\n",
      "6sag 8097.730817128498 1.1146356769067605\n",
      "2tmv 8056.550361360152 21.083570792125695\n",
      "1ei7 8185.798536861604 24.19202036075877\n"
     ]
    }
   ],
   "source": [
    "min_path_by_mol = Dict(\"6r7m\" => \"\", \"6sae\" => \"\", \"6sag\" => \"\", \"2tmv\" => \"\", \"1ei7\" => \"\")\n",
    "E_min_by_mol = Dict(\"6r7m\" => Inf, \"6sae\" => Inf, \"6sag\" => Inf, \"2tmv\" => Inf, \"1ei7\" => Inf)\n",
    "mol_types = [\"6r7m\", \"6sae\", \"6sag\", \"2tmv\", \"1ei7\"]\n",
    "\n",
    "rwm_hot_start_folder = \"assets/input/jld2/2_low/\"\n",
    "for mol_type in mol_types\n",
    "    for file in readdir(rwm_hot_start_folder)\n",
    "        if  split(file, \".\")[end] == \"jld2\" && split(file, \"_\")[1] == mol_type\n",
    "            try\n",
    "                @load \"$rwm_hot_start_folder$file\" template_mol template_radii x_init\n",
    "                realization = MorphoMol.Utilities.get_flat_realization(x_init, template_mol)\n",
    "                E = MorphoMol.Energies.solvation_free_energy(\n",
    "                    realization, \n",
    "                    length(template_radii),\n",
    "                    [template_radii; template_radii],\n",
    "                    1.4,\n",
    "                    MorphoMol.Energies.get_prefactors(1.4, 0.3665),\n",
    "                    0.0,\n",
    "                    0.85\n",
    "                    )\n",
    "                if E_min_by_mol[mol_type] > E\n",
    "                    E_min_by_mol[mol_type] = E\n",
    "                    min_path_by_mol[mol_type] = \"$rwm_hot_start_folder/$file\"\n",
    "                end\n",
    "            catch e\n",
    "                println(e)\n",
    "            end\n",
    "        end\n",
    "    end\n",
    "end\n",
    "\n",
    "for mol_type in mol_types\n",
    "    if min_path_by_mol[mol_type] != \"\"\n",
    "        @load min_path_by_mol[mol_type] template_mol template_radii x_init\n",
    "        realization = MorphoMol.Utilities.get_flat_realization(x_init, template_mol)\n",
    "        E = MorphoMol.Energies.solvation_free_energy(\n",
    "            realization, \n",
    "            length(template_radii),\n",
    "            [template_radii; template_radii],\n",
    "            1.4,\n",
    "            MorphoMol.Energies.get_prefactors(1.4, 0.3665),\n",
    "            0.0,\n",
    "            0.85\n",
    "            )\n",
    "        template_mol_sim = deepcopy(template_mol)\n",
    "        x_sim = deepcopy(x_init)\n",
    "        @load \"assets/input/jld2/2_experimental/2_$(mol_type)_protor.jld2\" template_mol template_radii x_init\n",
    "        println(mol_type, \" \", minimum(E), \" \", MorphoMol.Utilities.average_offset_distance(template_mol_sim, template_mol, x_sim, x_init))\n",
    "    end\n",
    "end\n"
   ]
  },
  {
   "cell_type": "code",
   "execution_count": 6,
   "metadata": {},
   "outputs": [
    {
     "name": "stderr",
     "output_type": "stream",
     "text": [
      "\u001b[33m\u001b[1m┌ \u001b[22m\u001b[39m\u001b[33m\u001b[1mWarning: \u001b[22m\u001b[39mOpening file with JLD2.MmapIO failed, falling back to IOStream\n",
      "\u001b[33m\u001b[1m└ \u001b[22m\u001b[39m\u001b[90m@ JLD2 ~/.julia/packages/JLD2/twZ5D/src/JLD2.jl:298\u001b[39m\n"
     ]
    },
    {
     "name": "stdout",
     "output_type": "stream",
     "text": [
      "EOFError()\n"
     ]
    }
   ],
   "source": [
    "E_min_by_mol = Dict(\"6r7m\" => Inf, \"6sae\" => Inf, \"6sag\" => Inf, \"2tmv\" => Inf, \"1ei7\" => Inf)\n",
    "min_path_by_mol = Dict(\"6r7m\" => \"\", \"6sae\" => \"\", \"6sag\" => \"\", \"2tmv\" => \"\", \"1ei7\" => \"\")\n",
    "for mol_type in mol_types\n",
    "    E_min = E_min_by_mol[mol_type]\n",
    "    min_file_path = \"\"\n",
    "    for sf in readdir(folder)\n",
    "        for file in readdir(\"$folder$sf\")\n",
    "            if  split(file, \".\")[end] == \"jld2\" && split(file, \"_\")[2] == mol_type\n",
    "                try\n",
    "                    @load \"$folder$sf/$file\" in_out_data\n",
    "                    if E_min > minimum(in_out_data.output.Es)\n",
    "                        E_min = minimum(in_out_data.output.Es)\n",
    "                        min_file_path = \"$folder$sf/$file\"\n",
    "                    end\n",
    "                catch e\n",
    "                    println(e)\n",
    "                end\n",
    "            end\n",
    "        end\n",
    "    end\n",
    "    min_path_by_mol[mol_type] = min_file_path\n",
    "end"
   ]
  },
  {
   "cell_type": "code",
   "execution_count": 7,
   "metadata": {},
   "outputs": [
    {
     "name": "stdout",
     "output_type": "stream",
     "text": [
      "Dict(\"6sag\" => \"assets/hpc_out_2_refined/6sag_5/3_6sag_5_protor_oj_0_0_os_0_85.jld2\", \"1ei7\" => \"assets/hpc_out_2_refined/1ei7_20/25_1ei7_20_protor_oj_0_0_os_0_85.jld2\", \"6r7m\" => \"\", \"6sae\" => \"assets/hpc_out_2_refined/6sae_13/3_6sae_13_protor_oj_0_0_os_0_85.jld2\", \"2tmv\" => \"assets/hpc_out_2_refined/2tmv_15/17_2tmv_15_protor_oj_0_0_os_0_85.jld2\")\n"
     ]
    }
   ],
   "source": [
    "println(min_path_by_mol)"
   ]
  },
  {
   "cell_type": "code",
   "execution_count": 9,
   "metadata": {},
   "outputs": [
    {
     "name": "stdout",
     "output_type": "stream",
     "text": [
      "6sae 8106.102486349152 1.1429573909935333\n",
      "6sag 8092.188608572787 1.1146356769067605\n",
      "2tmv 8055.389758893566 21.083570792125695\n",
      "1ei7 8184.615394286413 0.9825672375691238\n"
     ]
    }
   ],
   "source": [
    "for mol_type in [\"6r7m\", \"6sae\", \"6sag\", \"2tmv\", \"1ei7\"]\n",
    "    if min_path_by_mol[mol_type] != \"\"\n",
    "        @load min_path_by_mol[mol_type] in_out_data\n",
    "        template_mol_sim = in_out_data.input.template_mol\n",
    "        x_sim = in_out_data.output.states[1]\n",
    "        \n",
    "        @load \"assets/input/jld2/2_experimental/2_$(mol_type)_protor.jld2\" template_mol template_radii x_init\n",
    "        println(mol_type, \" \", minimum(in_out_data.output.Es), \" \", MorphoMol.Utilities.average_offset_distance(template_mol_sim, template_mol, x_sim, x_init))\n",
    "    end\n",
    "end "
   ]
  },
  {
   "cell_type": "code",
   "execution_count": null,
   "metadata": {},
   "outputs": [],
   "source": []
  }
 ],
 "metadata": {
  "kernelspec": {
   "display_name": "Julia 1.10.4",
   "language": "julia",
   "name": "julia-1.10"
  },
  "language_info": {
   "file_extension": ".jl",
   "mimetype": "application/julia",
   "name": "julia",
   "version": "1.10.4"
  },
  "orig_nbformat": 4
 },
 "nbformat": 4,
 "nbformat_minor": 2
}
