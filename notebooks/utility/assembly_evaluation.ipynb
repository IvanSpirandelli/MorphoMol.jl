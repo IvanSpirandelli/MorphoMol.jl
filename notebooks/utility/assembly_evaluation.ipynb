{
 "cells": [
  {
   "cell_type": "code",
   "execution_count": 1,
   "metadata": {},
   "outputs": [
    {
     "name": "stderr",
     "output_type": "stream",
     "text": [
      "\u001b[32m\u001b[1m  Activating\u001b[22m\u001b[39m project at `~/Doktor/Code/MorphoMolMonteCarlo`\n"
     ]
    }
   ],
   "source": [
    "import Pkg; \n",
    "\n",
    "if split(pwd(),\"/\")[end] == \"utility\"\n",
    "    cd(joinpath(@__DIR__, \"../../\"))\n",
    "    Pkg.activate(\"Project.toml\")\n",
    "end\n",
    "\n",
    "using MorphoMol\n",
    "using StaticArrays\n",
    "using Rotations\n",
    "using Distances\n",
    "using JLD2"
   ]
  },
  {
   "cell_type": "code",
   "execution_count": 2,
   "metadata": {},
   "outputs": [],
   "source": [
    "folder = \"assets/hpc_out/5_1stm_oj_0_0_os_0_85/\"\n",
    "folder = \"assets/hpc_out/1stm_hotstart_oj_0_0_os_0_85/\"\n",
    "# folder = \"assets/hpc_out/\"\n",
    "# folder = \"assets/hpc_out/2_6r7m_oj_0_0_os_0_85/\"\n",
    "# folder = \"assets/hpc_out/3_6r7m_assembled_oj_0_0_os_0_85/\"\n",
    "# folder = \"assets/hpc_out/3_6r7m_stacked_oj_0_0_os_0_85/\"\n",
    "# folder = \"assets/hpc_out/2_6r7m_touching_oj_0_0_os_0_85/\"\n",
    "\n",
    "id_index = 4\n",
    "max = 1\n",
    "for file in readdir(folder)\n",
    "    if split(file, \".\")[end] == \"jld2\"\n",
    "        max = max < parse(Int, split(file, \"_\")[id_index]) ? parse(Int, split(file, \"_\")[id_index]) : max\n",
    "    end\n",
    "end\n",
    "\n",
    "evaluation_strings = [\"\" for _ in 1:max]\n",
    "for file in readdir(folder)\n",
    "    if split(file, \".\")[end] == \"jld2\"\n",
    "        @load \"$folder$file\" in_out_data\n",
    "        id = parse(Int, split(file, \"_\")[id_index])\n",
    "        string = \"$(id): $(in_out_data.input.T) | $(in_out_data.input.ε) | $(in_out_data.output.αs[end]) | $(in_out_data.output.Es[1]), $(minimum(in_out_data.output.Es)), $(in_out_data.output.Es[end])\"\n",
    "        evaluation_strings[id] = string\n",
    "    end\n",
    "end"
   ]
  },
  {
   "cell_type": "code",
   "execution_count": 3,
   "metadata": {},
   "outputs": [
    {
     "name": "stdout",
     "output_type": "stream",
     "text": [
      "1: 1.8 | 0.001 | 0.5743996 | 18257.71704557275, 18253.71279780119, 18351.22614723764\n",
      "2: 1.8 | 0.001 | 0.6562198 | 18277.92323392144, 18276.354721451004, 18315.74619052702\n",
      "3: 1.8 | 0.001 | 0.7952875 | 18297.74798832963, 18293.504992856226, 18306.682896633465\n",
      "4: 1.8 | 0.001 | 0.58986866 | 18271.790322012726, 18269.592269339446, 18350.016960432386\n",
      "5: 1.8 | 0.001 | 0.6695619 | 18281.9317860936, 18280.260792372843, 18358.21558375356\n",
      "6: 1.8 | 0.001 | 0.6211778 | 18272.700349593346, 18270.54169645302, 18407.495890517774\n",
      "7: 1.8 | 0.001 | 0.7191118 | 18274.232584649402, 18274.232584649402, 18302.71314826319\n",
      "8: 1.8 | 0.001 | 0.44223255 | 18283.830495424758, 18283.830495424758, 18514.96602504764\n",
      "9: 1.8 | 0.001 | 0.7037729 | 18277.25628167675, 18277.25628167675, 18373.075047703504\n",
      "10: 1.8 | 0.001 | 0.7683174 | 18274.72276043438, 18274.492967424307, 18301.169338310192\n",
      "11: 1.8 | 0.001 | 0.67716944 | 18295.897160915734, 18295.34470581301, 18390.70965265871\n",
      "12: 1.8 | 0.001 | 0.71318495 | 18228.01308215576, 18225.846952543936, 18326.760147585814\n",
      "13: 1.8 | 0.001 | 0.8035402 | 18305.869642946698, 18298.916698394172, 18335.705974356362\n",
      "14: 1.8 | 0.001 | 0.8699689 | 18344.129429859924, 18339.75703629078, 18369.437513397665\n",
      "15: 1.8 | 0.001 | 0.8585076 | 18314.272572953658, 18306.30338654921, 18316.976453782667\n",
      "\n",
      "\n",
      "18: 1.8 | 0.001 | 0.6118267 | 18274.61993556844, 18272.613591455098, 18346.06654369291\n",
      "19: 1.8 | 0.001 | 0.74389774 | 18291.00775992557, 18288.25642397603, 18334.123057471505\n",
      "20: 1.8 | 0.001 | 0.7356613 | 18316.937609231696, 18314.350163838168, 18366.61324273674\n",
      "21: 1.8 | 0.001 | 0.732468 | 18264.15846553273, 18262.152154706797, 18315.80157548351\n",
      "22: 1.8 | 0.001 | 0.6960172 | 18256.52068786385, 18255.779307336543, 18330.618162859915\n",
      "\n",
      "24: 1.8 | 0.001 | 0.75729674 | 18264.940646932708, 18261.053526761894, 18275.83536324942\n",
      "25: 1.8 | 0.001 | 0.84574866 | 18291.432409670906, 18290.249211903996, 18328.20520032126\n",
      "26: 1.8 | 0.001 | 0.7436529 | 18286.450741823075, 18284.960326684424, 18322.376377437613\n",
      "27: 1.8 | 0.001 | 0.8012048 | 18277.094885462688, 18276.288233522693, 18317.078277879362\n",
      "28: 1.8 | 0.001 | 0.7900243 | 18257.10413560382, 18255.534383058715, 18293.517958923414\n",
      "29: 1.8 | 0.001 | 0.8339323 | 18320.02700437838, 18319.05390376092, 18343.9912548804\n",
      "30: 1.8 | 0.001 | 0.59572875 | 18289.219747891002, 18288.125548808017, 18347.24510876704\n",
      "31: 1.8 | 0.001 | 0.7339535 | 18265.656281794305, 18254.42145101867, 18316.448913136734\n",
      "32: 1.8 | 0.001 | 0.47937757 | 18210.91046147631, 18210.05224956998, 18403.248083916693\n",
      "33: 1.8 | 0.001 | 0.7505159 | 18303.025153383274, 18303.025153383274, 18352.940726148267\n",
      "34: 1.8 | 0.001 | 0.8071161 | 18289.026577062803, 18288.171377867526, 18309.39615778705\n",
      "35: 1.8 | 0.001 | 0.8549906 | 18327.38074189813, 18323.077662578457, 18334.125299136635\n",
      "36: 1.8 | 0.001 | 0.661902 | 18242.749755078494, 18236.41517039269, 18346.451162632115\n",
      "37: 1.8 | 0.001 | 0.7235695 | 18303.63907394022, 18303.494804634163, 18333.327586324518\n",
      "38: 1.8 | 0.001 | 0.86356014 | 18312.428755816098, 18308.78954611302, 18310.075042937377\n",
      "39: 1.8 | 0.001 | 0.8728203 | 18316.35545363027, 18313.623179838003, 18336.549175468546\n",
      "40: 1.8 | 0.001 | 0.76767105 | 18309.6521702454, 18308.647879877677, 18326.793391468167\n",
      "41: 1.8 | 0.001 | 0.6674798 | 18261.570897941445, 18261.570897941445, 18334.50132435269\n",
      "42: 1.8 | 0.001 | 0.7804832 | 18277.074390104426, 18272.87205413194, 18325.497116139733\n",
      "43: 1.8 | 0.001 | 0.7464549 | 18262.93135726955, 18256.23329671657, 18334.046513285586\n",
      "44: 1.8 | 0.001 | 0.7230711 | 18311.488055990732, 18310.967286544437, 18344.073435981616\n",
      "45: 1.8 | 0.001 | 0.6949879 | 18261.305627904545, 18253.5079549735, 18308.184737157906\n",
      "46: 1.8 | 0.001 | 0.8150842 | 18266.912383031864, 18251.575018785836, 18257.770476615464\n",
      "47: 1.8 | 0.001 | 0.54084134 | 18250.250639547943, 18241.363645974947, 18359.473610321813\n",
      "48: 1.8 | 0.001 | 0.8129239 | 18279.376185527344, 18276.543362764256, 18310.95684240992\n",
      "49: 1.8 | 0.001 | 0.6441433 | 18236.244453689455, 18235.598174260613, 18341.475152944295\n",
      "50: 1.8 | 0.001 | 0.7256604 | 18292.045884748673, 18288.013033343774, 18340.23233217376\n"
     ]
    }
   ],
   "source": [
    "for elem in evaluation_strings\n",
    "    println(elem)\n",
    "end"
   ]
  },
  {
   "cell_type": "code",
   "execution_count": 4,
   "metadata": {},
   "outputs": [],
   "source": [
    "for file in readdir(folder)\n",
    "    try\n",
    "        @load \"$folder$file\" in_out_data\n",
    "        mindex = argmin(in_out_data.output.Es)\n",
    "        state = in_out_data.output.states[mindex]\n",
    "        id = parse(Int, split(file, \"_\")[id_index])\n",
    "        radii = collect(Base.Iterators.flatten([in_out_data.input.template_radii for _ in 1:in_out_data.input.number_of_molecules]))\n",
    "        MorphoMol.Utilities.state_to_poly(MorphoMol.Utilities.get_flat_realization(state, in_out_data.input.template_mol), radii, \"$(folder)$(id)\", in_out_data.input.number_of_molecules, length(in_out_data.input.template_radii))\n",
    "    catch e\n",
    "        println(e)\n",
    "        continue\n",
    "    end\n",
    "end"
   ]
  },
  {
   "cell_type": "markdown",
   "metadata": {},
   "source": [
    "# Print Single Assembly Path"
   ]
  },
  {
   "cell_type": "code",
   "execution_count": 6,
   "metadata": {},
   "outputs": [
    {
     "data": {
      "text/plain": [
       "1-element Vector{Symbol}:\n",
       " :in_out_data"
      ]
     },
     "execution_count": 6,
     "metadata": {},
     "output_type": "execute_result"
    }
   ],
   "source": [
    "@load \"assets/hpc_out/2_6r7m_touching_oj_0_0_os_0_85/2_6r7m_touching_13_protor_oj_0_0_os_0_85.jld2\" in_out_data"
   ]
  },
  {
   "cell_type": "code",
   "execution_count": 13,
   "metadata": {},
   "outputs": [],
   "source": [
    "mindex = argmin(in_out_data.output.Es)\n",
    "lower = 500\n",
    "upper = 100\n",
    "out_folder = \"assets/output/assembly_path/\"\n",
    "try\n",
    "    rm(out_folder, recursive=true)\n",
    "catch \n",
    "end\n",
    "mkdir(out_folder)\n",
    "radii = collect(Base.Iterators.flatten([in_out_data.input.template_radii for _ in 1:in_out_data.input.number_of_molecules]))\n",
    "for (i,j) in enumerate(mindex-lower:mindex+upper)\n",
    "    state = in_out_data.output.states[j]\n",
    "    MorphoMol.Utilities.state_to_poly(MorphoMol.Utilities.get_flat_realization(state, in_out_data.input.template_mol), radii, \"$(out_folder)$(i)\", in_out_data.input.number_of_molecules, length(in_out_data.input.template_radii))\n",
    "end\n"
   ]
  },
  {
   "cell_type": "markdown",
   "metadata": {},
   "source": [
    "# Compare to Experimental Structures"
   ]
  },
  {
   "cell_type": "code",
   "execution_count": 24,
   "metadata": {},
   "outputs": [
    {
     "data": {
      "text/plain": [
       "3×1206 Matrix{Float64}:\n",
       " -27.8796   -26.6674   -26.5597   …  -31.3903   -31.5191   -32.6934\n",
       "   9.063      9.54921    9.03875       8.50467    8.25724    9.091\n",
       "  -4.79258   -4.1493    -2.71995      -1.62113   -0.2168    -2.14403"
      ]
     },
     "execution_count": 24,
     "metadata": {},
     "output_type": "execute_result"
    }
   ],
   "source": [
    "@load \"assets/hpc_out/3_6r7m_assembled_oj_0_0_os_0_85/3_6r7m_assembled_47_protor_oj_0_0_os_0_85.jld2\" in_out_data\n",
    "state_sim = in_out_data.output.states[argmin(in_out_data.output.Es)]\n",
    "template_mol_sim = in_out_data.input.template_mol"
   ]
  },
  {
   "cell_type": "code",
   "execution_count": 33,
   "metadata": {},
   "outputs": [
    {
     "name": "stdout",
     "output_type": "stream",
     "text": [
      "1.2873006221221273, 18.550779293943858, 22.747256593704485\n",
      "14.19511216992349\n",
      "\n",
      "1.3774676242284738, 18.550779293943858, 22.656875406631716\n",
      "14.195040774934682\n",
      "\n",
      "1.2873006221221273, 1.3775764058075557, 2.8189008939530753\n",
      "1.8279259739609195\n",
      "\n",
      "18.550888075522934, 1.3775764058075557, 22.656875406631716\n",
      "14.195113295987403\n",
      "\n",
      "1.3774676242284738, 1.2874090345163622, 2.8189008939530753\n",
      "1.8279258508993037\n",
      "\n",
      "18.550888075522934, 1.2874090345163622, 22.747256593704485\n",
      "14.195184567914595\n",
      "\n"
     ]
    }
   ],
   "source": [
    "@load \"assets/hpc_out/3_6r7m_assembled_oj_0_0_os_0_85/3_6r7m_assembled_47_protor_oj_0_0_os_0_85.jld2\" in_out_data\n",
    "state_sim = in_out_data.output.states[argmin(in_out_data.output.Es)]\n",
    "template_mol_sim = in_out_data.input.template_mol\n",
    "\n",
    "template_mol_exp, _ = MorphoMol.Utilities.poly_to_state(\"assets/input/poly/6r7m_protor.poly\")\n",
    "template_mol_exp = reshape(template_mol_exp,(3,Int(length(template_mol_exp) / 3)))\n",
    "\n",
    "\n",
    "R1 = log(RotMatrix(@SMatrix[0.628642  0.777695  0.000000; -0.777695  0.628642  0.000000; 0.000000  0.000000  1.000000]))\n",
    "T1 = @SVector[-69.28043, 195.91352, -49.35000]\n",
    "\n",
    "R2 = log(RotMatrix(@SMatrix[0.874450  0.485115  0.000000; -0.485115  0.874450  0.000000; 0.000000  0.000000  1.000000]))\n",
    "T2 = @SVector[-61.30589, 104.11829, -47.94000]\n",
    "\n",
    "R3 = log(RotMatrix(@SMatrix[0.992567  0.121696  0.000000; -0.121696  0.992567  0.000000; 0.000000  0.000000  1.000000]))\n",
    "T3 = @SVector[-19.48193, 22.01644, -46.53000]\n",
    "\n",
    "state_exp_assembled = Vector{Float64}([])\n",
    "for (R,T) in [(R1, T1), (R2, T2), (R3, T3)]\n",
    "    state_exp_assembled = [state_exp_assembled; [R[3,2], R[1,3], R[2,1], T[1], T[2], T[3]]]\n",
    "end\n",
    "\n",
    "\n",
    "permutations = [[1, 2, 3], [1, 3, 2], [2, 1, 3], [2, 3, 1], [3,1,2], [3,2,1]]\n",
    "for perm in permutations\n",
    "    println(MorphoMol.Utilities.sum_of_permutation(template_mol_exp, template_mol_sim, state_exp_assembled, state_sim, [1, 2, 3], perm))\n",
    "    println()\n",
    "end"
   ]
  },
  {
   "cell_type": "code",
   "execution_count": 35,
   "metadata": {},
   "outputs": [
    {
     "name": "stdout",
     "output_type": "stream",
     "text": [
      "1.0801358636489278, 1.761615083090717, 2.5839573080281175\n",
      "1.8085694182559209\n",
      "\n",
      "3.9681361891428946, 1.761615083090717, 7.226195653808025\n",
      "4.318648975347212\n",
      "\n",
      "1.0801358636489278, 1.9392750832172398, 6.0393168036705065\n",
      "3.019575916845558\n",
      "\n",
      "5.427780645913811, 1.9392750832172398, 7.226195653808025\n",
      "4.864417127646359\n",
      "\n",
      "3.9681361891428946, 5.184605884136937, 6.0393168036705065\n",
      "5.064019625650112\n",
      "\n",
      "5.427780645913811, 5.184605884136937, 2.5839573080281175\n",
      "4.398781279359622\n",
      "\n"
     ]
    }
   ],
   "source": [
    "@load \"assets/hpc_out/3_6r7m_stacked_oj_0_0_os_0_85/3_6r7m_stacked_28_protor_oj_0_0_os_0_85.jld2\" in_out_data\n",
    "state_sim = in_out_data.output.states[argmin(in_out_data.output.Es)]\n",
    "template_mol_sim = in_out_data.input.template_mol\n",
    "\n",
    "template_mol_exp, _ = MorphoMol.Utilities.poly_to_state(\"assets/input/poly/6r7m_protor.poly\")\n",
    "template_mol_exp = reshape(template_mol_exp,(3,Int(length(template_mol_exp) / 3)))\n",
    "\n",
    "R1 = log(RotMatrix(@SMatrix[0.628642  0.777695  0.000000; -0.777695  0.628642  0.000000; 0.000000  0.000000  1.000000]))\n",
    "T1 = @SVector[-69.28043, 195.91352, -49.35000]\n",
    "\n",
    "R2 = log(RotMatrix(@SMatrix[0.874450  0.485115  0.000000; -0.485115  0.874450  0.000000; 0.000000  0.000000  1.000000]))\n",
    "T2 = @SVector[-61.30589, 104.11829, -47.94000]\n",
    "\n",
    "R3 = log(RotMatrix(@SMatrix[0.803441  0.595384  0.000000; -0.595384  0.803441  0.000000; 0.000000  0.000000  1.000000]))\n",
    "T3 = @SVector[-67.99970, 135.02619, -25.38000]\n",
    "\n",
    "\n",
    "state_exp_assembled = Vector{Float64}([])\n",
    "for (R,T) in [(R1, T1), (R2, T2), (R3, T3)]\n",
    "    state_exp_assembled = [state_exp_assembled; [R[3,2], R[1,3], R[2,1], T[1], T[2], T[3]]]\n",
    "end\n",
    "\n",
    "permutations = [[1, 2, 3], [1, 3, 2], [2, 1, 3], [2, 3, 1], [3,1,2], [3,2,1]]\n",
    "for perm in permutations\n",
    "    println(MorphoMol.Utilities.sum_of_permutation(template_mol_exp, template_mol_sim, state_exp_assembled, state_sim, [1, 2, 3], perm))\n",
    "    println()\n",
    "end"
   ]
  },
  {
   "cell_type": "code",
   "execution_count": 38,
   "metadata": {},
   "outputs": [
    {
     "data": {
      "text/plain": [
       "(84123.59f0, 20349.809f0, -5968.993f0, 188.49556f0)"
      ]
     },
     "execution_count": 38,
     "metadata": {},
     "output_type": "execute_result"
    }
   ],
   "source": [
    "@load \"assets/hpc_out/3_6r7m_assembled_oj_0_0_os_0_85/3_6r7m_assembled_47_protor_oj_0_0_os_0_85.jld2\" in_out_data\n",
    "mindex = argmin(in_out_data.output.Es)\n",
    "in_out_data.output.Vs[mindex], in_out_data.output.As[mindex], in_out_data.output.Ms[mindex], in_out_data.output.Xs[mindex]"
   ]
  },
  {
   "cell_type": "code",
   "execution_count": 36,
   "metadata": {},
   "outputs": [
    {
     "data": {
      "text/plain": [
       "(85262.81f0, 21122.312f0, -6398.94f0, 62.831852f0)"
      ]
     },
     "execution_count": 36,
     "metadata": {},
     "output_type": "execute_result"
    }
   ],
   "source": [
    "@load \"assets/hpc_out/3_6r7m_stacked_oj_0_0_os_0_85/3_6r7m_stacked_28_protor_oj_0_0_os_0_85.jld2\" in_out_data\n",
    "mindex = argmin(in_out_data.output.Es)\n",
    "in_out_data.output.Vs[mindex], in_out_data.output.As[mindex], in_out_data.output.Ms[mindex], in_out_data.output.Xs[mindex]"
   ]
  },
  {
   "cell_type": "markdown",
   "metadata": {},
   "source": [
    "# Dispersed State Energies"
   ]
  },
  {
   "cell_type": "code",
   "execution_count": 19,
   "metadata": {},
   "outputs": [
    {
     "name": "stdout",
     "output_type": "stream",
     "text": [
      "1ei7 8255.3356279267\n",
      "2tmv 8130.426867538925\n",
      "6r7m 8219.578304239454\n",
      "6sae 8185.217724310747\n",
      "6sag 8174.157936120334\n"
     ]
    }
   ],
   "source": [
    "folder = \"assets/input/poly/singles/\"\n",
    "for file in readdir(folder)\n",
    "    c,r = MorphoMol.Utilities.poly_to_state(\"$folder$file\")\n",
    "    E = MorphoMol.Energies.solvation_free_energy(\n",
    "        c, \n",
    "        length(r),\n",
    "        r,\n",
    "        1.4,\n",
    "        MorphoMol.Energies.get_prefactors(1.4, 0.3665),\n",
    "        0.0,\n",
    "        0.85\n",
    "        )\n",
    "    println(\"$(split(file, \"_\")[1]) \", 2*E)\n",
    "end"
   ]
  },
  {
   "cell_type": "code",
   "execution_count": null,
   "metadata": {},
   "outputs": [],
   "source": [
    "println(\"1EI7\")"
   ]
  }
 ],
 "metadata": {
  "kernelspec": {
   "display_name": "Julia 1.10.4",
   "language": "julia",
   "name": "julia-1.10"
  },
  "language_info": {
   "file_extension": ".jl",
   "mimetype": "application/julia",
   "name": "julia",
   "version": "1.10.4"
  },
  "orig_nbformat": 4
 },
 "nbformat": 4,
 "nbformat_minor": 2
}
