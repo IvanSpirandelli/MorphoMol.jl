{
 "cells": [
  {
   "cell_type": "code",
   "execution_count": 2,
   "metadata": {},
   "outputs": [
    {
     "name": "stderr",
     "output_type": "stream",
     "text": [
      "\u001b[32m\u001b[1m  Activating\u001b[22m\u001b[39m project at `~/Doktor/Code/MorphoMolMonteCarlo`\n"
     ]
    }
   ],
   "source": [
    "import Pkg; \n",
    "\n",
    "if split(pwd(),\"/\")[end] == \"utility\"\n",
    "    cd(joinpath(@__DIR__, \"../../\"))\n",
    "    Pkg.activate(\"Project.toml\")\n",
    "end\n",
    "\n",
    "using MorphoMol\n",
    "using StaticArrays\n",
    "using Rotations\n",
    "using Distances\n",
    "using JLD2"
   ]
  },
  {
   "cell_type": "code",
   "execution_count": 18,
   "metadata": {},
   "outputs": [],
   "source": [
    "folder = \"assets/hpc_out/5_1stm_oj_0_0_os_0_85/\"\n",
    "folder = \"assets/hpc_out/\"\n",
    "folder = \"assets/hpc_out/2_6r7m_oj_0_0_os_0_85/\"\n",
    "folder = \"assets/hpc_out/3_6r7m_assembled_oj_0_0_os_0_85/\"\n",
    "#folder = \"assets/hpc_out/3_6r7m_stacked_oj_0_0_os_0_85/\"\n",
    "\n",
    "id_index = 4\n",
    "max = 1\n",
    "for file in readdir(folder)\n",
    "    if split(file, \".\")[end] == \"jld2\"\n",
    "        max = max < parse(Int, split(file, \"_\")[id_index]) ? parse(Int, split(file, \"_\")[id_index]) : max\n",
    "    end\n",
    "end\n",
    "\n",
    "evaluation_strings = [\"\" for _ in 1:max]\n",
    "for file in readdir(folder)\n",
    "    if split(file, \".\")[end] == \"jld2\"\n",
    "        @load \"$folder$file\" in_out_data\n",
    "        id = parse(Int, split(file, \"_\")[id_index])\n",
    "        string = \"$(id): $(in_out_data.input.T) | $(in_out_data.input.ε) | $(in_out_data.output.αs[end]) | $(in_out_data.output.Es[1]), $(minimum(in_out_data.output.Es)), $(in_out_data.output.Es[end])\"\n",
    "        evaluation_strings[id] = string\n",
    "    end\n",
    "end"
   ]
  },
  {
   "cell_type": "code",
   "execution_count": 19,
   "metadata": {},
   "outputs": [
    {
     "name": "stdout",
     "output_type": "stream",
     "text": [
      "\n",
      "\n",
      "3: 2.0 | 0.001 | 0.6143836 | 12169.566358056172, 12165.896083972208, 12226.352901962779\n",
      "4: 2.0 | 0.001 | 0.6238389 | 12169.566358056172, 12165.349893737037, 12224.948054276869\n",
      "5: 2.0 | 0.001 | 0.52380437 | 12169.566358056172, 12166.108190971843, 12219.841831744165\n",
      "\n",
      "\n",
      "\n",
      "\n",
      "10: 2.0 | 0.001 | 0.6396842 | 12169.566358056172, 12168.233634425764, 12199.325960419488\n",
      "\n",
      "12: 2.0 | 0.001 | 0.61570305 | 12169.566358056172, 12168.555832280012, 12216.049564433402\n",
      "13: 2.0 | 0.001 | 0.6529535 | 12169.566358056172, 12167.861872515436, 12212.824190260319\n",
      "14: 2.0 | 0.001 | 0.5922207 | 12169.566358056172, 12168.579736681844, 12214.54965577217\n",
      "\n",
      "\n",
      "\n",
      "\n",
      "\n",
      "\n",
      "21: 2.0 | 0.001 | 0.63865787 | 12169.566358056172, 12164.53565106251, 12200.913844399309\n",
      "22: 2.0 | 0.001 | 0.65458494 | 12169.566358056172, 12166.513329946392, 12220.595835917278\n",
      "23: 2.0 | 0.001 | 0.64359975 | 12169.566358056172, 12167.163127701042, 12218.33875727253\n",
      "24: 2.0 | 0.001 | 0.6256225 | 12169.566358056172, 12166.148275529977, 12199.982806816737\n",
      "25: 2.0 | 0.001 | 0.5765914 | 12169.566358056172, 12167.811108511482, 12219.674007679301\n",
      "26: 2.0 | 0.001 | 0.6517021 | 12169.566358056172, 12165.843350255605, 12203.411338515389\n",
      "27: 2.0 | 0.001 | 0.6325393 | 12169.566358056172, 12167.100199988663, 12224.359578156684\n",
      "28: 2.0 | 0.001 | 0.59005356 | 12169.566358056172, 12166.977937440024, 12217.739891166017\n",
      "29: 2.0 | 0.001 | 0.64924836 | 12169.566358056172, 12165.572958500552, 12205.474066931121\n",
      "30: 2.0 | 0.001 | 0.61612976 | 12169.566358056172, 12167.41732720267, 12223.366541081892\n",
      "31: 2.0 | 0.001 | 0.6473741 | 12169.566358056172, 12168.092521450555, 12193.239187424335\n",
      "32: 2.0 | 0.001 | 0.6445621 | 12169.566358056172, 12169.031654754794, 12232.60359420861\n",
      "33: 2.0 | 0.001 | 0.63867927 | 12169.566358056172, 12168.170385635121, 12220.237792678798\n",
      "34: 2.0 | 0.001 | 0.5955048 | 12169.566358056172, 12167.758671838996, 12234.352070402045\n",
      "35: 2.0 | 0.001 | 0.6408762 | 12169.566358056172, 12167.509363052977, 12219.629864550408\n",
      "36: 2.0 | 0.001 | 0.65628475 | 12169.566358056172, 12168.390813875525, 12216.937080438205\n",
      "37: 2.0 | 0.001 | 0.6471667 | 12169.566358056172, 12168.072120759543, 12218.814639842638\n",
      "\n",
      "39: 2.0 | 0.001 | 0.63022655 | 12169.566358056172, 12164.613417411747, 12222.209116398592\n",
      "40: 2.0 | 0.001 | 0.63294464 | 12169.566358056172, 12166.892179279854, 12211.47670867245\n",
      "\n",
      "42: 2.0 | 0.001 | 0.58630323 | 12169.566358056172, 12164.401190124116, 12217.636342883627\n",
      "43: 2.0 | 0.001 | 0.648822 | 12169.566358056172, 12166.492173164155, 12215.071607610815\n",
      "\n",
      "\n",
      "\n",
      "47: 2.0 | 0.001 | 0.64020586 | 12169.566358056172, 12164.07700383709, 12205.545691441319\n",
      "48: 2.0 | 0.001 | 0.61266816 | 12169.566358056172, 12165.966152137898, 12227.599757129865\n",
      "49: 2.0 | 0.001 | 0.6287131 | 12169.566358056172, 12166.04966508181, 12217.262144464778\n"
     ]
    }
   ],
   "source": [
    "for elem in evaluation_strings\n",
    "    println(elem)\n",
    "end"
   ]
  },
  {
   "cell_type": "code",
   "execution_count": 17,
   "metadata": {},
   "outputs": [],
   "source": [
    "# folder = \"assets/hpc_out/5_1stm_oj_0_0_os_0_85/\"\n",
    "# folder = \"assets/hpc_out/2_6r7m_oj_0_0_os_0_85/\"\n",
    "\n",
    "for file in readdir(folder)\n",
    "    try\n",
    "        @load \"$folder$file\" in_out_data\n",
    "        mindex = argmin(in_out_data.output.Es)\n",
    "        state = in_out_data.output.states[mindex]\n",
    "        id = parse(Int, split(file, \"_\")[id_index])\n",
    "        radii = collect(Base.Iterators.flatten([in_out_data.input.template_radii for _ in 1:in_out_data.input.number_of_molecules]))\n",
    "        MorphoMol.Utilities.state_to_poly(MorphoMol.Utilities.get_flat_realization(state, in_out_data.input.template_mol), radii, \"$(folder)$(id)\", in_out_data.input.number_of_molecules, length(in_out_data.input.template_radii))\n",
    "    catch e\n",
    "        println(e)\n",
    "        continue\n",
    "    end\n",
    "end"
   ]
  },
  {
   "cell_type": "code",
   "execution_count": 24,
   "metadata": {},
   "outputs": [
    {
     "data": {
      "text/plain": [
       "3×1206 Matrix{Float64}:\n",
       " -27.8796   -26.6674   -26.5597   …  -31.3903   -31.5191   -32.6934\n",
       "   9.063      9.54921    9.03875       8.50467    8.25724    9.091\n",
       "  -4.79258   -4.1493    -2.71995      -1.62113   -0.2168    -2.14403"
      ]
     },
     "execution_count": 24,
     "metadata": {},
     "output_type": "execute_result"
    }
   ],
   "source": [
    "@load \"assets/hpc_out/3_6r7m_assembled_oj_0_0_os_0_85/3_6r7m_assembled_47_protor_oj_0_0_os_0_85.jld2\" in_out_data\n",
    "state_sim = in_out_data.output.states[argmin(in_out_data.output.Es)]\n",
    "template_mol_sim = in_out_data.input.template_mol"
   ]
  },
  {
   "cell_type": "code",
   "execution_count": 33,
   "metadata": {},
   "outputs": [
    {
     "name": "stdout",
     "output_type": "stream",
     "text": [
      "1.2873006221221273, 18.550779293943858, 22.747256593704485\n",
      "14.19511216992349\n",
      "\n",
      "1.3774676242284738, 18.550779293943858, 22.656875406631716\n",
      "14.195040774934682\n",
      "\n",
      "1.2873006221221273, 1.3775764058075557, 2.8189008939530753\n",
      "1.8279259739609195\n",
      "\n",
      "18.550888075522934, 1.3775764058075557, 22.656875406631716\n",
      "14.195113295987403\n",
      "\n",
      "1.3774676242284738, 1.2874090345163622, 2.8189008939530753\n",
      "1.8279258508993037\n",
      "\n",
      "18.550888075522934, 1.2874090345163622, 22.747256593704485\n",
      "14.195184567914595\n",
      "\n"
     ]
    }
   ],
   "source": [
    "@load \"assets/hpc_out/3_6r7m_assembled_oj_0_0_os_0_85/3_6r7m_assembled_47_protor_oj_0_0_os_0_85.jld2\" in_out_data\n",
    "state_sim = in_out_data.output.states[argmin(in_out_data.output.Es)]\n",
    "template_mol_sim = in_out_data.input.template_mol\n",
    "\n",
    "template_mol_exp, _ = MorphoMol.Utilities.poly_to_state(\"assets/input/poly/6r7m_protor.poly\")\n",
    "template_mol_exp = reshape(template_mol_exp,(3,Int(length(template_mol_exp) / 3)))\n",
    "\n",
    "\n",
    "R1 = log(RotMatrix(@SMatrix[0.628642  0.777695  0.000000; -0.777695  0.628642  0.000000; 0.000000  0.000000  1.000000]))\n",
    "T1 = @SVector[-69.28043, 195.91352, -49.35000]\n",
    "\n",
    "R2 = log(RotMatrix(@SMatrix[0.874450  0.485115  0.000000; -0.485115  0.874450  0.000000; 0.000000  0.000000  1.000000]))\n",
    "T2 = @SVector[-61.30589, 104.11829, -47.94000]\n",
    "\n",
    "R3 = log(RotMatrix(@SMatrix[0.992567  0.121696  0.000000; -0.121696  0.992567  0.000000; 0.000000  0.000000  1.000000]))\n",
    "T3 = @SVector[-19.48193, 22.01644, -46.53000]\n",
    "\n",
    "state_exp_assembled = Vector{Float64}([])\n",
    "for (R,T) in [(R1, T1), (R2, T2), (R3, T3)]\n",
    "    state_exp_assembled = [state_exp_assembled; [R[3,2], R[1,3], R[2,1], T[1], T[2], T[3]]]\n",
    "end\n",
    "\n",
    "\n",
    "permutations = [[1, 2, 3], [1, 3, 2], [2, 1, 3], [2, 3, 1], [3,1,2], [3,2,1]]\n",
    "for perm in permutations\n",
    "    println(MorphoMol.Utilities.sum_of_permutation(template_mol_exp, template_mol_sim, state_exp_assembled, state_sim, [1, 2, 3], perm))\n",
    "    println()\n",
    "end"
   ]
  },
  {
   "cell_type": "code",
   "execution_count": 37,
   "metadata": {},
   "outputs": [
    {
     "data": {
      "text/plain": [
       "(84123.59f0, 20349.809f0, -5968.993f0, 188.49556f0)"
      ]
     },
     "execution_count": 37,
     "metadata": {},
     "output_type": "execute_result"
    }
   ],
   "source": []
  },
  {
   "cell_type": "code",
   "execution_count": 35,
   "metadata": {},
   "outputs": [
    {
     "name": "stdout",
     "output_type": "stream",
     "text": [
      "1.0801358636489278, 1.761615083090717, 2.5839573080281175\n",
      "1.8085694182559209\n",
      "\n",
      "3.9681361891428946, 1.761615083090717, 7.226195653808025\n",
      "4.318648975347212\n",
      "\n",
      "1.0801358636489278, 1.9392750832172398, 6.0393168036705065\n",
      "3.019575916845558\n",
      "\n",
      "5.427780645913811, 1.9392750832172398, 7.226195653808025\n",
      "4.864417127646359\n",
      "\n",
      "3.9681361891428946, 5.184605884136937, 6.0393168036705065\n",
      "5.064019625650112\n",
      "\n",
      "5.427780645913811, 5.184605884136937, 2.5839573080281175\n",
      "4.398781279359622\n",
      "\n"
     ]
    }
   ],
   "source": [
    "@load \"assets/hpc_out/3_6r7m_stacked_oj_0_0_os_0_85/3_6r7m_stacked_28_protor_oj_0_0_os_0_85.jld2\" in_out_data\n",
    "state_sim = in_out_data.output.states[argmin(in_out_data.output.Es)]\n",
    "template_mol_sim = in_out_data.input.template_mol\n",
    "\n",
    "template_mol_exp, _ = MorphoMol.Utilities.poly_to_state(\"assets/input/poly/6r7m_protor.poly\")\n",
    "template_mol_exp = reshape(template_mol_exp,(3,Int(length(template_mol_exp) / 3)))\n",
    "\n",
    "R1 = log(RotMatrix(@SMatrix[0.628642  0.777695  0.000000; -0.777695  0.628642  0.000000; 0.000000  0.000000  1.000000]))\n",
    "T1 = @SVector[-69.28043, 195.91352, -49.35000]\n",
    "\n",
    "R2 = log(RotMatrix(@SMatrix[0.874450  0.485115  0.000000; -0.485115  0.874450  0.000000; 0.000000  0.000000  1.000000]))\n",
    "T2 = @SVector[-61.30589, 104.11829, -47.94000]\n",
    "\n",
    "R3 = log(RotMatrix(@SMatrix[0.803441  0.595384  0.000000; -0.595384  0.803441  0.000000; 0.000000  0.000000  1.000000]))\n",
    "T3 = @SVector[-67.99970, 135.02619, -25.38000]\n",
    "\n",
    "\n",
    "state_exp_assembled = Vector{Float64}([])\n",
    "for (R,T) in [(R1, T1), (R2, T2), (R3, T3)]\n",
    "    state_exp_assembled = [state_exp_assembled; [R[3,2], R[1,3], R[2,1], T[1], T[2], T[3]]]\n",
    "end\n",
    "\n",
    "permutations = [[1, 2, 3], [1, 3, 2], [2, 1, 3], [2, 3, 1], [3,1,2], [3,2,1]]\n",
    "for perm in permutations\n",
    "    println(MorphoMol.Utilities.sum_of_permutation(template_mol_exp, template_mol_sim, state_exp_assembled, state_sim, [1, 2, 3], perm))\n",
    "    println()\n",
    "end"
   ]
  },
  {
   "cell_type": "code",
   "execution_count": 38,
   "metadata": {},
   "outputs": [
    {
     "data": {
      "text/plain": [
       "(84123.59f0, 20349.809f0, -5968.993f0, 188.49556f0)"
      ]
     },
     "execution_count": 38,
     "metadata": {},
     "output_type": "execute_result"
    }
   ],
   "source": [
    "@load \"assets/hpc_out/3_6r7m_assembled_oj_0_0_os_0_85/3_6r7m_assembled_47_protor_oj_0_0_os_0_85.jld2\" in_out_data\n",
    "mindex = argmin(in_out_data.output.Es)\n",
    "in_out_data.output.Vs[mindex], in_out_data.output.As[mindex], in_out_data.output.Ms[mindex], in_out_data.output.Xs[mindex]"
   ]
  },
  {
   "cell_type": "code",
   "execution_count": 36,
   "metadata": {},
   "outputs": [
    {
     "data": {
      "text/plain": [
       "(85262.81f0, 21122.312f0, -6398.94f0, 62.831852f0)"
      ]
     },
     "execution_count": 36,
     "metadata": {},
     "output_type": "execute_result"
    }
   ],
   "source": [
    "@load \"assets/hpc_out/3_6r7m_stacked_oj_0_0_os_0_85/3_6r7m_stacked_28_protor_oj_0_0_os_0_85.jld2\" in_out_data\n",
    "mindex = argmin(in_out_data.output.Es)\n",
    "in_out_data.output.Vs[mindex], in_out_data.output.As[mindex], in_out_data.output.Ms[mindex], in_out_data.output.Xs[mindex]"
   ]
  }
 ],
 "metadata": {
  "kernelspec": {
   "display_name": "Julia 1.10.4",
   "language": "julia",
   "name": "julia-1.10"
  },
  "language_info": {
   "file_extension": ".jl",
   "mimetype": "application/julia",
   "name": "julia",
   "version": "1.10.4"
  },
  "orig_nbformat": 4
 },
 "nbformat": 4,
 "nbformat_minor": 2
}
