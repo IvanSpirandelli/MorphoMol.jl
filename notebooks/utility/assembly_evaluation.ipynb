{
 "cells": [
  {
   "cell_type": "code",
   "execution_count": 1,
   "metadata": {},
   "outputs": [
    {
     "name": "stderr",
     "output_type": "stream",
     "text": [
      "\u001b[32m\u001b[1m  Activating\u001b[22m\u001b[39m project at `~/Doktor/Code/MorphoMolMonteCarlo`\n"
     ]
    }
   ],
   "source": [
    "import Pkg; \n",
    "\n",
    "if split(pwd(),\"/\")[end] == \"utility\"\n",
    "    cd(joinpath(@__DIR__, \"../../\"))\n",
    "    Pkg.activate(\"Project.toml\")\n",
    "end\n",
    "\n",
    "using MorphoMol\n",
    "using StaticArrays\n",
    "using Rotations\n",
    "using Distances\n",
    "using JLD2"
   ]
  },
  {
   "cell_type": "code",
   "execution_count": 2,
   "metadata": {},
   "outputs": [],
   "source": [
    "folder = \"assets/hpc_out/5_1stm_oj_0_0_os_0_85/\"\n",
    "#folder = \"assets/hpc_out/2_6r7m_oj_0_0_os_0_85/\"\n",
    "folder = \"assets/hpc_out/\"\n",
    "\n",
    "max = 1\n",
    "for file in readdir(folder)\n",
    "    if split(file, \".\")[end] == \"jld2\"\n",
    "        max = max < parse(Int, split(file, \"_\")[3]) ? parse(Int, split(file, \"_\")[3]) : max\n",
    "    end\n",
    "end\n",
    "\n",
    "evaluation_strings = [\"\" for _ in 1:max]\n",
    "for file in readdir(folder)\n",
    "    if split(file, \".\")[end] == \"jld2\"\n",
    "        @load \"$folder$file\" in_out_data\n",
    "        id = parse(Int, split(file, \"_\")[3])\n",
    "        string = \"$(id): $(in_out_data.input.T) | $(in_out_data.input.ε) | $(in_out_data.output.αs[end]) | $(in_out_data.output.Es[1]), $(minimum(in_out_data.output.Es)), $(in_out_data.output.Es[end])\"\n",
    "        evaluation_strings[id] = string\n",
    "    end\n",
    "end"
   ]
  },
  {
   "cell_type": "code",
   "execution_count": 3,
   "metadata": {},
   "outputs": [
    {
     "name": "stdout",
     "output_type": "stream",
     "text": [
      "1: 2.5 | 0.0 | 0.009720665 | 18630.973738632594, 18334.518091617752, 18365.125842824775\n",
      "2: 2.5 | 0.0 | 0.05256554 | 18379.67856719139, 18316.582436280318, 18321.604727622613\n",
      "\n",
      "4: 2.5 | 0.0 | 0.042438168 | 18378.681987460513, 18309.983876053968, 18309.983876053968\n",
      "5: 2.5 | 0.0 | 0.03402014 | 18379.817422238797, 18315.470433872742, 18319.321096467855\n",
      "6: 2.5 | 0.0 | 0.012494674 | 18377.01636988126, 18323.273795853143, 18325.29116443904\n",
      "7: 2.5 | 0.0 | 0.0077953874 | 18382.204448098855, 18306.916927408034, 18329.980802662976\n",
      "8: 2.5 | 0.0 | 0.036215812 | 18379.678566890525, 18312.31834450836, 18335.076507504138\n",
      "9: 2.5 | 0.0 | 0.014013434 | 18378.72601204339, 18315.57650311245, 18336.482541806945\n",
      "10: 2.5 | 0.0 | 0.0754039 | 18379.678567011953, 18300.756992611852, 18300.756992611852\n",
      "11: 2.5 | 0.0 | 0.094634145 | 18379.67856710009, 18331.678088864537, 18352.28081355511\n",
      "12: 2.5 | 0.0 | 0.032931443 | 18374.877573090376, 18316.414194010355, 18333.131754484857\n",
      "\n",
      "\n",
      "\n",
      "16: 2.5 | 0.0 | 0.0035612856 | 18723.230043517815, 18314.636251573273, 18322.775316499825\n",
      "17: 2.5 | 0.0 | 0.019241957 | 18373.2261463299, 18325.222482403853, 18343.986036184717\n",
      "18: 2.5 | 0.0 | 0.028643155 | 19116.435700972856, 18328.20870814465, 18336.95208239933\n",
      "19: 2.5 | 0.0 | 0.037240848 | 18370.56247341252, 18326.819479924307, 18326.819479924307\n",
      "20: 2.5 | 0.0 | 0.08935475 | 18379.678566288632, 18331.01922048043, 18351.399312831025\n",
      "21: 2.5 | 0.0 | 0.015930418 | 18376.476715716097, 18295.104809544904, 18298.154996309313\n",
      "22: 2.5 | 0.0 | 0.022329137 | 18515.94707276869, 18309.27282849602, 18317.708496931507\n",
      "23: 2.5 | 0.0 | 0.013758741 | 18379.678567966257, 18316.25791751724, 18324.518886028134\n",
      "24: 2.5 | 0.0 | 0.02405433 | 18546.825972784845, 18321.318153030137, 18332.546130869858\n",
      "25: 2.5 | 0.0 | 0.0037485529 | 18934.669064225774, 18291.84371487785, 18323.008375192756\n",
      "26: 2.5 | 0.0 | 0.013162404 | 18379.67856748436, 18295.16478424117, 18306.008079267387\n",
      "27: 2.5 | 0.0 | 0.031489212 | 18975.568188173238, 18320.850093446563, 18343.86626327875\n",
      "28: 2.5 | 0.0 | 0.017474227 | 18467.604194370073, 18310.105791241203, 18340.271058050086\n",
      "29: 2.5 | 0.0 | 0.03575703 | 18379.678567447812, 18310.597290597936, 18311.991921796733\n",
      "30: 2.5 | 0.0 | 0.032171234 | 18967.061227812672, 18330.7251866811, 18339.96258501427\n",
      "31: 2.5 | 0.0 | 0.012318423 | 18376.75206055899, 18331.48100547328, 18343.45811422751\n",
      "\n",
      "\n",
      "34: 2.5 | 0.0 | 0.0029053711 | 18856.701772176853, 18298.965235519885, 18300.72640994128\n",
      "35: 2.5 | 0.0 | 0.041406166 | 18379.678566816776, 18316.776154372223, 18331.7969912844\n",
      "36: 2.5 | 0.0 | 0.034948133 | 18379.678566790113, 18320.402661604618, 18326.67857800345\n",
      "37: 2.5 | 0.0 | 0.055845767 | 18379.678566672825, 18311.777070445198, 18327.405656582952\n",
      "38: 2.5 | 0.0 | 0.0135334125 | 18385.88867782702, 18303.204985864595, 18303.204985864595\n",
      "39: 2.5 | 0.0 | 0.0031596674 | 18418.27192313927, 18299.62063808816, 18337.60411902277\n",
      "40: 2.5 | 0.0 | 0.028344868 | 18379.6785662727, 18319.651561838844, 18319.651561838844\n",
      "41: 2.5 | 0.0 | 0.052672718 | 18368.4739641688, 18315.892938518064, 18323.020144050333\n",
      "42: 2.5 | 0.0 | 0.008328278 | 18841.961692176912, 18296.574764454297, 18330.203196631708\n",
      "\n",
      "44: 2.5 | 0.0 | 0.019635383 | 18391.61978907754, 18301.710035987024, 18301.710035987024\n",
      "45: 2.5 | 0.0 | 0.013308426 | 18440.633844067732, 18303.949528164594, 18306.935459887427\n",
      "46: 2.5 | 0.0 | 0.029872969 | 18390.929985058257, 18325.062281362356, 18347.76951976024\n",
      "47: 2.5 | 0.0 | 0.06079646 | 18376.48808593872, 18336.730764473843, 18348.347563844065\n",
      "48: 2.5 | 0.0 | 0.03498732 | 18379.678566763665, 18318.48674772915, 18321.979846354778\n",
      "49: 2.5 | 0.0 | 0.14442827 | 18379.383276370816, 18330.33679957473, 18353.15184870831\n",
      "50: 2.5 | 0.0 | 0.06199843 | 18478.164850612717, 18322.014721167125, 18338.970793409135\n"
     ]
    }
   ],
   "source": [
    "for elem in evaluation_strings\n",
    "    println(elem)\n",
    "end"
   ]
  },
  {
   "cell_type": "code",
   "execution_count": 32,
   "metadata": {},
   "outputs": [],
   "source": [
    "# folder = \"assets/hpc_out/5_1stm_oj_0_0_os_0_85/\"\n",
    "# folder = \"assets/hpc_out/2_6r7m_oj_0_0_os_0_85/\"\n",
    "\n",
    "for file in readdir(folder)\n",
    "    try\n",
    "        @load \"$folder$file\" in_out_data\n",
    "        mindex = argmin(in_out_data.output.Es)\n",
    "        state = in_out_data.output.states[mindex]\n",
    "        id = parse(Int, split(file, \"_\")[3])\n",
    "        radii = collect(Base.Iterators.flatten([in_out_data.input.template_radii for _ in 1:in_out_data.input.number_of_molecules]))\n",
    "        MorphoMol.Utilities.state_to_poly(MorphoMol.Utilities.get_flat_realization(state, in_out_data.input.template_mol), radii, \"$(folder)$(id)\", in_out_data.input.number_of_molecules, length(in_out_data.input.template_radii))\n",
    "    catch e\n",
    "        println(e)\n",
    "        continue\n",
    "    end\n",
    "end"
   ]
  },
  {
   "cell_type": "code",
   "execution_count": 10,
   "metadata": {},
   "outputs": [
    {
     "name": "stderr",
     "output_type": "stream",
     "text": [
      "\u001b[33m\u001b[1m┌ \u001b[22m\u001b[39m\u001b[33m\u001b[1mWarning: \u001b[22m\u001b[39mOpening file with JLD2.MmapIO failed, falling back to IOStream\n",
      "\u001b[33m\u001b[1m└ \u001b[22m\u001b[39m\u001b[90m@ JLD2 ~/.julia/packages/JLD2/twZ5D/src/JLD2.jl:298\u001b[39m\n"
     ]
    },
    {
     "ename": "LoadError",
     "evalue": "SystemError: opening file \"assets/hpc_assembly/3_6r7m_assembled_oj_0_0_os_0_85/49_6r7m_protor_oj_0_0_os_0_85.jld2\": No such file or directory",
     "output_type": "error",
     "traceback": [
      "SystemError: opening file \"assets/hpc_assembly/3_6r7m_assembled_oj_0_0_os_0_85/49_6r7m_protor_oj_0_0_os_0_85.jld2\": No such file or directory",
      "",
      "Stacktrace:",
      "  [1] systemerror(p::String, errno::Int32; extrainfo::Nothing)",
      "    @ Base ./error.jl:176",
      "  [2] systemerror",
      "    @ ./error.jl:176",
      "  [3] systemerror",
      "    @ ./error.jl:175 [inlined]",
      "  [4] open(fname::String; lock::Bool, read::Bool, write::Bool, create::Bool, truncate::Bool, append::Bool)",
      "    @ Base ./iostream.jl:293",
      "  [5] open",
      "    @ ./iostream.jl:275 [inlined]",
      "  [6] openfile",
      "    @ ~/.julia/packages/JLD2/twZ5D/src/JLD2.jl:288 [inlined]",
      "  [7] openfile(T::Type, fname::String, wr::Bool, create::Bool, truncate::Bool, fallback::Type)",
      "    @ JLD2 ~/.julia/packages/JLD2/twZ5D/src/JLD2.jl:299",
      "  [8] jldopen(fname::String, wr::Bool, create::Bool, truncate::Bool, iotype::Type{JLD2.MmapIO}; fallback::Type{IOStream}, compress::Bool, mmaparrays::Bool, typemap::Dict{String, Any}, parallel_read::Bool)",
      "    @ JLD2 ~/.julia/packages/JLD2/twZ5D/src/JLD2.jl:366",
      "  [9] jldopen",
      "    @ ~/.julia/packages/JLD2/twZ5D/src/JLD2.jl:312 [inlined]",
      " [10] #jldopen#14",
      "    @ ~/.julia/packages/JLD2/twZ5D/src/JLD2.jl:455 [inlined]",
      " [11] jldopen (repeats 2 times)",
      "    @ ~/.julia/packages/JLD2/twZ5D/src/JLD2.jl:449 [inlined]",
      " [12] jldopen(f::Function, args::String; kws::@Kwargs{})",
      "    @ JLD2 ~/.julia/packages/JLD2/twZ5D/src/loadsave.jl:2",
      " [13] jldopen(f::Function, args::String)",
      "    @ JLD2 ~/.julia/packages/JLD2/twZ5D/src/loadsave.jl:1",
      " [14] macro expansion",
      "    @ ~/.julia/packages/JLD2/twZ5D/src/loadsave.jl:145 [inlined]",
      " [15] top-level scope",
      "    @ In[10]:1"
     ]
    }
   ],
   "source": [
    "@load \"assets/hpc_assembly/3_6r7m_assembled_oj_0_0_os_0_85/49_6r7m_protor_oj_0_0_os_0_85.jld2\" in_out_data\n",
    "state_sim = in_out_data.output.states[argmin(in_out_data.output.Es)]\n",
    "template_mol_sim = in_out_data.input.template_mol\n",
    "\n",
    "template_mol_exp, _ = MorphoMol.Utilities.poly_to_state(\"assets/input/poly/6r7m_protor.poly\")\n",
    "template_mol_exp = reshape(template_mol_exp,(3,Int(length(template_mol_exp) / 3)))\n",
    "\n",
    "R1 = log(RotMatrix(@SMatrix[0.628642  0.777695  0.000000; -0.777695  0.628642  0.000000; 0.000000  0.000000  1.000000]))\n",
    "T1 = @SVector[-69.28043, 195.91352, -49.35000]\n",
    "\n",
    "R2 = log(RotMatrix(@SMatrix[0.874450  0.485115  0.000000; -0.485115  0.874450  0.000000; 0.000000  0.000000  1.000000]))\n",
    "T2 = @SVector[-61.30589, 104.11829, -47.94000]\n",
    "\n",
    "R3 = log(RotMatrix(@SMatrix[0.992567  0.121696  0.000000; -0.121696  0.992567  0.000000; 0.000000  0.000000  1.000000]))\n",
    "T3 = @SVector[-19.48193, 22.01644, -46.53000]\n",
    "\n",
    "state_exp_assembled = Vector{Float64}([])\n",
    "for (R,T) in [(R1, T1), (R2, T2), (R3, T3)]\n",
    "    state_exp_assembled = [state_exp_assembled; [R[3,2], R[1,3], R[2,1], T[1], T[2], T[3]]]\n",
    "end\n",
    "\n",
    "permutations = [[1, 2, 3], [1, 3, 2], [2, 1, 3], [2, 3, 1], [3,1,2], [3,2,1]]\n",
    "for perm in permutations\n",
    "    println(MorphoMol.Utilities.sum_of_permutation(template_mol_exp, template_mol_sim, state_exp_assembled, state_sim, [1, 2, 3], perm))\n",
    "end"
   ]
  },
  {
   "cell_type": "code",
   "execution_count": 58,
   "metadata": {},
   "outputs": [
    {
     "name": "stdout",
     "output_type": "stream",
     "text": [
      "1.060546051243098, 1.7233861453834445, 2.704512138639089\n",
      "1.829481445088544\n",
      "\n",
      "3.8582220739511452, 1.7233861453834445, 7.206604684868613\n",
      "4.262737634734401\n",
      "\n",
      "1.060546051243098, 1.9544367320546299, 6.025618439072101\n",
      "3.0135337407899434\n",
      "\n",
      "5.358151778229962, 1.9544367320546299, 7.206604684868613\n",
      "4.839731065051068\n",
      "\n",
      "3.8582220739511452, 5.183991323542944, 6.025618439072101\n",
      "5.02261061218873\n",
      "\n",
      "5.358151778229962, 5.183991323542944, 2.704512138639089\n",
      "4.415551746803998\n",
      "\n"
     ]
    }
   ],
   "source": [
    "@load \"assets/hpc_assembly/3_6r7m_stacked_oj_0_0_os_0_85/43_6r7m_protor_oj_0_0_os_0_85.jld2\" in_out_data\n",
    "state_sim = in_out_data.output.states[argmin(in_out_data.output.Es)]\n",
    "template_mol_sim = in_out_data.input.template_mol\n",
    "\n",
    "template_mol_exp, _ = MorphoMol.Utilities.poly_to_state(\"assets/input/poly/6r7m_protor.poly\")\n",
    "template_mol_exp = reshape(template_mol_exp,(3,Int(length(template_mol_exp) / 3)))\n",
    "\n",
    "R1 = log(RotMatrix(@SMatrix[0.628642  0.777695  0.000000; -0.777695  0.628642  0.000000; 0.000000  0.000000  1.000000]))\n",
    "T1 = @SVector[-69.28043, 195.91352, -49.35000]\n",
    "\n",
    "R2 = log(RotMatrix(@SMatrix[0.874450  0.485115  0.000000; -0.485115  0.874450  0.000000; 0.000000  0.000000  1.000000]))\n",
    "T2 = @SVector[-61.30589, 104.11829, -47.94000]\n",
    "\n",
    "R3 = log(RotMatrix(@SMatrix[0.803441  0.595384  0.000000; -0.595384  0.803441  0.000000; 0.000000  0.000000  1.000000]))\n",
    "T3 = @SVector[-67.99970, 135.02619, -25.38000]\n",
    "\n",
    "\n",
    "state_exp_assembled = Vector{Float64}([])\n",
    "for (R,T) in [(R1, T1), (R2, T2), (R3, T3)]\n",
    "    state_exp_assembled = [state_exp_assembled; [R[3,2], R[1,3], R[2,1], T[1], T[2], T[3]]]\n",
    "end\n",
    "\n",
    "permutations = [[1, 2, 3], [1, 3, 2], [2, 1, 3], [2, 3, 1], [3,1,2], [3,2,1]]\n",
    "for perm in permutations\n",
    "    println(sum_of_permutation(template_mol_exp, template_mol_sim, state_exp_assembled, state_sim, [1, 2, 3], perm))\n",
    "    println()\n",
    "end"
   ]
  }
 ],
 "metadata": {
  "kernelspec": {
   "display_name": "Julia 1.10.4",
   "language": "julia",
   "name": "julia-1.10"
  },
  "language_info": {
   "file_extension": ".jl",
   "mimetype": "application/julia",
   "name": "julia",
   "version": "1.10.4"
  },
  "orig_nbformat": 4
 },
 "nbformat": 4,
 "nbformat_minor": 2
}
