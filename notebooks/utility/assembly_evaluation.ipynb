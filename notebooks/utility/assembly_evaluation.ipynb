{
 "cells": [
  {
   "cell_type": "code",
   "execution_count": 2,
   "metadata": {},
   "outputs": [],
   "source": [
    "import Pkg; \n",
    "\n",
    "if split(pwd(),\"/\")[end] == \"utility\"\n",
    "    cd(joinpath(@__DIR__, \"../../\"))\n",
    "    Pkg.activate(\"Project.toml\")\n",
    "end\n",
    "\n",
    "using MorphoMol\n",
    "using StaticArrays\n",
    "using Rotations\n",
    "using Distances\n",
    "using JLD2"
   ]
  },
  {
   "cell_type": "code",
   "execution_count": 3,
   "metadata": {},
   "outputs": [],
   "source": [
    "folder = \"assets/hpc_out/5_1stm_oj_0_0_os_0_85/\"\n",
    "folder = \"assets/hpc_out/\"\n",
    "folder = \"assets/hpc_out/2_6r7m_oj_0_0_os_0_85/\"\n",
    "folder = \"assets/hpc_out/3_6r7m_assembled_oj_0_0_os_0_85/\"\n",
    "#folder = \"assets/hpc_out/3_6r7m_stacked_oj_0_0_os_0_85/\"\n",
    "folder = \"assets/hpc_out/2_6r7m_touching_oj_0_0_os_0_85/\"\n",
    "\n",
    "id_index = 4\n",
    "max = 1\n",
    "for file in readdir(folder)\n",
    "    if split(file, \".\")[end] == \"jld2\"\n",
    "        max = max < parse(Int, split(file, \"_\")[id_index]) ? parse(Int, split(file, \"_\")[id_index]) : max\n",
    "    end\n",
    "end\n",
    "\n",
    "evaluation_strings = [\"\" for _ in 1:max]\n",
    "for file in readdir(folder)\n",
    "    if split(file, \".\")[end] == \"jld2\"\n",
    "        @load \"$folder$file\" in_out_data\n",
    "        id = parse(Int, split(file, \"_\")[id_index])\n",
    "        string = \"$(id): $(in_out_data.input.T) | $(in_out_data.input.ε) | $(in_out_data.output.αs[end]) | $(in_out_data.output.Es[1]), $(minimum(in_out_data.output.Es)), $(in_out_data.output.Es[end])\"\n",
    "        evaluation_strings[id] = string\n",
    "    end\n",
    "end"
   ]
  },
  {
   "cell_type": "code",
   "execution_count": 4,
   "metadata": {},
   "outputs": [
    {
     "name": "stdout",
     "output_type": "stream",
     "text": [
      "\n",
      "2: 1.6 | 0.002 | 0.70292795 | 8185.217724572172, 8146.51163612853, 8163.670588666543\n",
      "\n",
      "4: 1.6 | 0.002 | 0.74695116 | 8185.217724572172, 8149.261638678713, 8174.181939930744\n",
      "\n",
      "\n",
      "\n",
      "\n",
      "\n",
      "10: 1.6 | 0.002 | 0.7773067 | 8185.217724572172, 8148.24337637175, 8167.687562980023\n",
      "11: 1.6 | 0.002 | 0.79029214 | 8185.217724572172, 8154.834930548657, 8164.643799723539\n",
      "12: 1.6 | 0.002 | 0.6996822 | 8185.217724572172, 8143.90290891926, 8148.174851487759\n",
      "\n",
      "\n",
      "\n",
      "16: 1.6 | 0.002 | 0.74335593 | 8185.217724572172, 8148.460419434264, 8176.110054149301\n",
      "17: 1.6 | 0.002 | 0.7592778 | 8185.217724572172, 8153.474031461954, 8173.447083595123\n",
      "18: 1.6 | 0.002 | 0.8144025 | 8185.217724572172, 8155.913009339745, 8170.651436725451\n",
      "\n",
      "20: 1.6 | 0.002 | 0.70869136 | 8185.217724572172, 8153.529448080606, 8164.244758019268\n",
      "21: 1.6 | 0.002 | 0.7859898 | 8185.217724572172, 8151.341839625487, 8173.581023846475\n",
      "\n",
      "23: 1.6 | 0.002 | 0.57068396 | 8185.217724572172, 8149.22658574359, 8202.201720266045\n",
      "\n",
      "25: 1.6 | 0.002 | 0.73845714 | 8185.217724572172, 8143.973586706865, 8171.360304736106\n",
      "\n",
      "27: 1.6 | 0.002 | 0.67635316 | 8185.217724572172, 8151.57864114811, 8169.70626876173\n",
      "\n",
      "\n",
      "\n",
      "31: 1.6 | 0.002 | 0.7317858 | 8185.217724572172, 8155.762219093296, 8161.977911200891\n",
      "\n",
      "\n",
      "34: 1.6 | 0.002 | 0.69139916 | 8185.217724572172, 8146.882663206417, 8173.369075406114\n",
      "\n",
      "36: 1.6 | 0.002 | 0.7123104 | 8185.217724572172, 8147.756190891004, 8165.666734446124\n",
      "\n",
      "38: 1.6 | 0.002 | 0.7664786 | 8185.217724572172, 8141.5840425052975, 8167.69936091102\n",
      "\n",
      "40: 1.6 | 0.002 | 0.77334994 | 8185.217724572172, 8157.017630234339, 8173.636668307753\n"
     ]
    }
   ],
   "source": [
    "for elem in evaluation_strings\n",
    "    println(elem)\n",
    "end"
   ]
  },
  {
   "cell_type": "code",
   "execution_count": 5,
   "metadata": {},
   "outputs": [],
   "source": [
    "for file in readdir(folder)\n",
    "    try\n",
    "        @load \"$folder$file\" in_out_data\n",
    "        mindex = argmin(in_out_data.output.Es)\n",
    "        state = in_out_data.output.states[mindex]\n",
    "        id = parse(Int, split(file, \"_\")[id_index])\n",
    "        radii = collect(Base.Iterators.flatten([in_out_data.input.template_radii for _ in 1:in_out_data.input.number_of_molecules]))\n",
    "        MorphoMol.Utilities.state_to_poly(MorphoMol.Utilities.get_flat_realization(state, in_out_data.input.template_mol), radii, \"$(folder)$(id)\", in_out_data.input.number_of_molecules, length(in_out_data.input.template_radii))\n",
    "    catch e\n",
    "        println(e)\n",
    "        continue\n",
    "    end\n",
    "end"
   ]
  },
  {
   "cell_type": "code",
   "execution_count": 24,
   "metadata": {},
   "outputs": [
    {
     "data": {
      "text/plain": [
       "3×1206 Matrix{Float64}:\n",
       " -27.8796   -26.6674   -26.5597   …  -31.3903   -31.5191   -32.6934\n",
       "   9.063      9.54921    9.03875       8.50467    8.25724    9.091\n",
       "  -4.79258   -4.1493    -2.71995      -1.62113   -0.2168    -2.14403"
      ]
     },
     "execution_count": 24,
     "metadata": {},
     "output_type": "execute_result"
    }
   ],
   "source": [
    "@load \"assets/hpc_out/3_6r7m_assembled_oj_0_0_os_0_85/3_6r7m_assembled_47_protor_oj_0_0_os_0_85.jld2\" in_out_data\n",
    "state_sim = in_out_data.output.states[argmin(in_out_data.output.Es)]\n",
    "template_mol_sim = in_out_data.input.template_mol"
   ]
  },
  {
   "cell_type": "code",
   "execution_count": 33,
   "metadata": {},
   "outputs": [
    {
     "name": "stdout",
     "output_type": "stream",
     "text": [
      "1.2873006221221273, 18.550779293943858, 22.747256593704485\n",
      "14.19511216992349\n",
      "\n",
      "1.3774676242284738, 18.550779293943858, 22.656875406631716\n",
      "14.195040774934682\n",
      "\n",
      "1.2873006221221273, 1.3775764058075557, 2.8189008939530753\n",
      "1.8279259739609195\n",
      "\n",
      "18.550888075522934, 1.3775764058075557, 22.656875406631716\n",
      "14.195113295987403\n",
      "\n",
      "1.3774676242284738, 1.2874090345163622, 2.8189008939530753\n",
      "1.8279258508993037\n",
      "\n",
      "18.550888075522934, 1.2874090345163622, 22.747256593704485\n",
      "14.195184567914595\n",
      "\n"
     ]
    }
   ],
   "source": [
    "@load \"assets/hpc_out/3_6r7m_assembled_oj_0_0_os_0_85/3_6r7m_assembled_47_protor_oj_0_0_os_0_85.jld2\" in_out_data\n",
    "state_sim = in_out_data.output.states[argmin(in_out_data.output.Es)]\n",
    "template_mol_sim = in_out_data.input.template_mol\n",
    "\n",
    "template_mol_exp, _ = MorphoMol.Utilities.poly_to_state(\"assets/input/poly/6r7m_protor.poly\")\n",
    "template_mol_exp = reshape(template_mol_exp,(3,Int(length(template_mol_exp) / 3)))\n",
    "\n",
    "\n",
    "R1 = log(RotMatrix(@SMatrix[0.628642  0.777695  0.000000; -0.777695  0.628642  0.000000; 0.000000  0.000000  1.000000]))\n",
    "T1 = @SVector[-69.28043, 195.91352, -49.35000]\n",
    "\n",
    "R2 = log(RotMatrix(@SMatrix[0.874450  0.485115  0.000000; -0.485115  0.874450  0.000000; 0.000000  0.000000  1.000000]))\n",
    "T2 = @SVector[-61.30589, 104.11829, -47.94000]\n",
    "\n",
    "R3 = log(RotMatrix(@SMatrix[0.992567  0.121696  0.000000; -0.121696  0.992567  0.000000; 0.000000  0.000000  1.000000]))\n",
    "T3 = @SVector[-19.48193, 22.01644, -46.53000]\n",
    "\n",
    "state_exp_assembled = Vector{Float64}([])\n",
    "for (R,T) in [(R1, T1), (R2, T2), (R3, T3)]\n",
    "    state_exp_assembled = [state_exp_assembled; [R[3,2], R[1,3], R[2,1], T[1], T[2], T[3]]]\n",
    "end\n",
    "\n",
    "\n",
    "permutations = [[1, 2, 3], [1, 3, 2], [2, 1, 3], [2, 3, 1], [3,1,2], [3,2,1]]\n",
    "for perm in permutations\n",
    "    println(MorphoMol.Utilities.sum_of_permutation(template_mol_exp, template_mol_sim, state_exp_assembled, state_sim, [1, 2, 3], perm))\n",
    "    println()\n",
    "end"
   ]
  },
  {
   "cell_type": "code",
   "execution_count": 37,
   "metadata": {},
   "outputs": [
    {
     "data": {
      "text/plain": [
       "(84123.59f0, 20349.809f0, -5968.993f0, 188.49556f0)"
      ]
     },
     "execution_count": 37,
     "metadata": {},
     "output_type": "execute_result"
    }
   ],
   "source": []
  },
  {
   "cell_type": "code",
   "execution_count": 35,
   "metadata": {},
   "outputs": [
    {
     "name": "stdout",
     "output_type": "stream",
     "text": [
      "1.0801358636489278, 1.761615083090717, 2.5839573080281175\n",
      "1.8085694182559209\n",
      "\n",
      "3.9681361891428946, 1.761615083090717, 7.226195653808025\n",
      "4.318648975347212\n",
      "\n",
      "1.0801358636489278, 1.9392750832172398, 6.0393168036705065\n",
      "3.019575916845558\n",
      "\n",
      "5.427780645913811, 1.9392750832172398, 7.226195653808025\n",
      "4.864417127646359\n",
      "\n",
      "3.9681361891428946, 5.184605884136937, 6.0393168036705065\n",
      "5.064019625650112\n",
      "\n",
      "5.427780645913811, 5.184605884136937, 2.5839573080281175\n",
      "4.398781279359622\n",
      "\n"
     ]
    }
   ],
   "source": [
    "@load \"assets/hpc_out/3_6r7m_stacked_oj_0_0_os_0_85/3_6r7m_stacked_28_protor_oj_0_0_os_0_85.jld2\" in_out_data\n",
    "state_sim = in_out_data.output.states[argmin(in_out_data.output.Es)]\n",
    "template_mol_sim = in_out_data.input.template_mol\n",
    "\n",
    "template_mol_exp, _ = MorphoMol.Utilities.poly_to_state(\"assets/input/poly/6r7m_protor.poly\")\n",
    "template_mol_exp = reshape(template_mol_exp,(3,Int(length(template_mol_exp) / 3)))\n",
    "\n",
    "R1 = log(RotMatrix(@SMatrix[0.628642  0.777695  0.000000; -0.777695  0.628642  0.000000; 0.000000  0.000000  1.000000]))\n",
    "T1 = @SVector[-69.28043, 195.91352, -49.35000]\n",
    "\n",
    "R2 = log(RotMatrix(@SMatrix[0.874450  0.485115  0.000000; -0.485115  0.874450  0.000000; 0.000000  0.000000  1.000000]))\n",
    "T2 = @SVector[-61.30589, 104.11829, -47.94000]\n",
    "\n",
    "R3 = log(RotMatrix(@SMatrix[0.803441  0.595384  0.000000; -0.595384  0.803441  0.000000; 0.000000  0.000000  1.000000]))\n",
    "T3 = @SVector[-67.99970, 135.02619, -25.38000]\n",
    "\n",
    "\n",
    "state_exp_assembled = Vector{Float64}([])\n",
    "for (R,T) in [(R1, T1), (R2, T2), (R3, T3)]\n",
    "    state_exp_assembled = [state_exp_assembled; [R[3,2], R[1,3], R[2,1], T[1], T[2], T[3]]]\n",
    "end\n",
    "\n",
    "permutations = [[1, 2, 3], [1, 3, 2], [2, 1, 3], [2, 3, 1], [3,1,2], [3,2,1]]\n",
    "for perm in permutations\n",
    "    println(MorphoMol.Utilities.sum_of_permutation(template_mol_exp, template_mol_sim, state_exp_assembled, state_sim, [1, 2, 3], perm))\n",
    "    println()\n",
    "end"
   ]
  },
  {
   "cell_type": "code",
   "execution_count": 38,
   "metadata": {},
   "outputs": [
    {
     "data": {
      "text/plain": [
       "(84123.59f0, 20349.809f0, -5968.993f0, 188.49556f0)"
      ]
     },
     "execution_count": 38,
     "metadata": {},
     "output_type": "execute_result"
    }
   ],
   "source": [
    "@load \"assets/hpc_out/3_6r7m_assembled_oj_0_0_os_0_85/3_6r7m_assembled_47_protor_oj_0_0_os_0_85.jld2\" in_out_data\n",
    "mindex = argmin(in_out_data.output.Es)\n",
    "in_out_data.output.Vs[mindex], in_out_data.output.As[mindex], in_out_data.output.Ms[mindex], in_out_data.output.Xs[mindex]"
   ]
  },
  {
   "cell_type": "code",
   "execution_count": 36,
   "metadata": {},
   "outputs": [
    {
     "data": {
      "text/plain": [
       "(85262.81f0, 21122.312f0, -6398.94f0, 62.831852f0)"
      ]
     },
     "execution_count": 36,
     "metadata": {},
     "output_type": "execute_result"
    }
   ],
   "source": [
    "@load \"assets/hpc_out/3_6r7m_stacked_oj_0_0_os_0_85/3_6r7m_stacked_28_protor_oj_0_0_os_0_85.jld2\" in_out_data\n",
    "mindex = argmin(in_out_data.output.Es)\n",
    "in_out_data.output.Vs[mindex], in_out_data.output.As[mindex], in_out_data.output.Ms[mindex], in_out_data.output.Xs[mindex]"
   ]
  }
 ],
 "metadata": {
  "kernelspec": {
   "display_name": "Julia 1.10.4",
   "language": "julia",
   "name": "julia-1.10"
  },
  "language_info": {
   "file_extension": ".jl",
   "mimetype": "application/julia",
   "name": "julia",
   "version": "1.10.4"
  },
  "orig_nbformat": 4
 },
 "nbformat": 4,
 "nbformat_minor": 2
}
