{
 "cells": [
  {
   "cell_type": "code",
   "execution_count": 1,
   "metadata": {},
   "outputs": [
    {
     "name": "stderr",
     "output_type": "stream",
     "text": [
      "\u001b[32m\u001b[1m  Activating\u001b[22m\u001b[39m project at `~/Doktor/Code/MorphoMolMonteCarlo`\n"
     ]
    }
   ],
   "source": [
    "import Pkg; \n",
    "\n",
    "if split(pwd(),\"/\")[end] == \"utility\"\n",
    "    cd(joinpath(@__DIR__, \"../../\"))\n",
    "    Pkg.activate(\"Project.toml\")\n",
    "end\n",
    "\n",
    "using MorphoMol\n",
    "using StaticArrays\n",
    "using Rotations\n",
    "using Distances\n",
    "using Distributions\n",
    "using JLD2"
   ]
  },
  {
   "cell_type": "code",
   "execution_count": 8,
   "metadata": {},
   "outputs": [
    {
     "data": {
      "text/plain": [
       "\"assets/input/jld2/5_1stm_init\""
      ]
     },
     "execution_count": 8,
     "metadata": {},
     "output_type": "execute_result"
    }
   ],
   "source": [
    "id = \"1stm\"\n",
    "@load \"assets/input/jld2/single_subunits/$(id)_protor.jld2\" template_mol template_radii x_init\n",
    "n_mol = 5\n",
    "n_atoms_per_mol = length(template_radii)\n",
    "radii = vcat([template_radii for i in 1:n_mol]...);\n",
    "mkpath(\"assets/input/jld2/$(n_mol)_$(id)_init/\")\n"
   ]
  },
  {
   "cell_type": "code",
   "execution_count": 10,
   "metadata": {},
   "outputs": [],
   "source": [
    "bounds = 120.0\n",
    "for i in 1:50\n",
    "    x_init = vcat([\n",
    "        [rand(Uniform(0.0, 2*pi)), rand(Uniform(0.0, 2*pi)), rand(Uniform(0.0, 2*pi)), \n",
    "        rand(Uniform(0.0, bounds)), rand(Uniform(0.0, bounds)), rand(Uniform(0.0, bounds))] \n",
    "        for i in 1:n_mol]...);\n",
    "        \n",
    "    @save \"assets/input/jld2/$(n_mol)_$(id)_init/$(id)_protor_$(i).jld2\" template_mol template_radii x_init\n",
    "end"
   ]
  }
 ],
 "metadata": {
  "kernelspec": {
   "display_name": "Julia 1.10.4",
   "language": "julia",
   "name": "julia-1.10"
  },
  "language_info": {
   "file_extension": ".jl",
   "mimetype": "application/julia",
   "name": "julia",
   "version": "1.10.4"
  }
 },
 "nbformat": 4,
 "nbformat_minor": 2
}
