{
 "cells": [
  {
   "cell_type": "code",
   "execution_count": 1,
   "metadata": {},
   "outputs": [
    {
     "name": "stderr",
     "output_type": "stream",
     "text": [
      "\u001b[32m\u001b[1m  Activating\u001b[22m\u001b[39m project at `~/Desktop/Doktor/MorphoMol/MorphoMolMonteCarlo`\n"
     ]
    }
   ],
   "source": [
    "import Pkg; \n",
    "\n",
    "if split(pwd(),\"/\")[end] == \"notebooks\"\n",
    "    cd(joinpath(@__DIR__, \"../\"))\n",
    "    Pkg.activate(\"Project.toml\")\n",
    "end\n",
    "\n",
    "using MorphoMol\n",
    "\n",
    "using CairoMakie\n",
    "using LinearAlgebra\n",
    "using Random\n",
    "using Rotations\n",
    "using StaticArrays\n",
    "using Distributions\n",
    "using Distances\n",
    "using BenchmarkTools"
   ]
  },
  {
   "cell_type": "code",
   "execution_count": 29,
   "metadata": {},
   "outputs": [
    {
     "data": {
      "text/plain": [
       "get_normal_distributed_rotation (generic function with 1 method)"
      ]
     },
     "metadata": {},
     "output_type": "display_data"
    }
   ],
   "source": [
    "function state_to_poly(realization::Matrix, radii::Vector, filepath::String, n_same_color::Int)\n",
    "    open(string(filepath, \".poly\"), \"w\") do io\n",
    "        println(io,\"POINTS\")\n",
    "        color = \"\"\n",
    "        for i in 1:size(realization, 2)\n",
    "            if mod(i, n_same_color) == 1\n",
    "                color = \"c($(rand()),$(rand()),$(rand())\"\n",
    "            end\n",
    "            println(io, \"$(i): $(realization[1,i]) $(realization[2,i]) $(realization[3,i]) $(radii[i]) $(color), $(radii[i]))\")\n",
    "        end\n",
    "\n",
    "        println(io,\"POLYS\")\n",
    "        println(io,\"END\")\n",
    "    end\n",
    "end\n",
    "\n",
    "\n",
    "function state_to_poly(x::Vector{Tuple{RotationVec{Float64}, SVector{3, Float64}}}, template_mol::Matrix{Float64}, radii::Vector, filepath::String)\n",
    "    n_atoms_per_mol = size(template_mol)[2]\n",
    "    n_mol = length(x)\n",
    "    flat_realization = [(hvcat((n_mol), [R * template_mol .+ T for (R,T) in x]...)...)...]\n",
    "    state_to_poly(flat_realization, radii, filepath, n_mol, n_atoms_per_mol)\n",
    "end\n",
    "\n",
    "\n",
    "function get_normal_distributed_translation(σ_t::Float64)\n",
    "    return SVector{3, Float64}(randn(3)) * σ_t\n",
    "end   \n",
    "\n",
    "function get_normal_distributed_rotation(σ_r)\n",
    "    exp(RotationVecGenerator((randn(3) * σ_r)...))\n",
    "end\n"
   ]
  },
  {
   "cell_type": "code",
   "execution_count": 30,
   "metadata": {},
   "outputs": [
    {
     "data": {
      "text/plain": [
       "solvation_free_energy_gradient! (generic function with 1 method)"
      ]
     },
     "metadata": {},
     "output_type": "display_data"
    }
   ],
   "source": [
    "function rotation_and_translation_gradient!(∇E,x,∇FSol,template_mol)\n",
    "    for (i, (R,_)) in enumerate(x)\n",
    "        ∇E[(i-1) * 6 + 1] = 0.5 * sum([-v[2]*(R[3,:] ⋅ w) + v[3]*(R[2,:] ⋅ w) for (v,w) in [(∇FSol[:,:,i][:,j], template_mol[:,j]) for j in 1:n_atoms_per_mol]])\n",
    "        ∇E[(i-1) * 6 + 2] = 0.5 * sum([v[1]*(R[3,:] ⋅ w) - v[3]*(R[1,:] ⋅ w) for (v,w) in [(∇FSol[:,:,i][:,j], template_mol[:,j]) for j in 1:n_atoms_per_mol]])\n",
    "        ∇E[(i-1) * 6 + 3] = 0.5 * sum([-v[1]*(R[2,:] ⋅ w) + v[2]*(R[1,:] ⋅ w) for (v,w) in [(∇FSol[:,:,i][:,j], template_mol[:,j]) for j in 1:n_atoms_per_mol]])\n",
    "        ∇E[(i-1) * 6 + 4:(i-1) * 6 + 6] = sum([∇FSol[:,j,i] for j in 1:n_atoms_per_mol])\n",
    "    end\n",
    "    ∇E\n",
    "end\n",
    "\n",
    "function solvation_free_energy_gradient!(∇E, x, template_mol, radii, rs, pf, overlap_slope)\n",
    "    n_atoms_per_mol = size(template_mol)[2]\n",
    "    n_mol = length(x)\n",
    "    flat_realization = [(hvcat((n_mol), [R * template_mol .+ T for (R,T) in x]...)...)...]\n",
    "    _, dvol, dsurf, dmean, dgauss, dlol = MorphoMol.Energies.get_geometric_measures_and_overlap_value_with_derivatives(\n",
    "        flat_realization,\n",
    "        n_atoms_per_mol,\n",
    "        radii,\n",
    "        rs,\n",
    "        0.0,\n",
    "        overlap_slope\n",
    "    )\n",
    "    ∇FSol = reshape(pf[1] * dvol + pf[2] * dsurf + pf[3] * dmean + pf[4] * dgauss + dlol, (3, n_atoms_per_mol, n_mol))\n",
    "    rotation_and_translation_gradient!(∇E, x, ∇FSol, template_mol)\n",
    "end\n"
   ]
  },
  {
   "cell_type": "code",
   "execution_count": 31,
   "metadata": {},
   "outputs": [
    {
     "data": {
      "text/plain": [
       "solvation_free_energy (generic function with 1 method)"
      ]
     },
     "metadata": {},
     "output_type": "display_data"
    }
   ],
   "source": [
    "function solvation_free_energy(x::Vector{Tuple{RotationVec{Float64}, SVector{3, Float64}}}, template_mol::Matrix{Float64}, radii::Vector{Float64}, rs::Float64, prefactors::AbstractVector, overlap_jump::Float64, overlap_slope::Float64, delaunay_eps::Float64)\n",
    "    n_atoms_per_mol = size(template_mol)[2]\n",
    "    n_mol = length(x)\n",
    "    flat_realization = [(hvcat((n_mol), [R * template_mol .+ T for (R,T) in x]...)...)...]\n",
    "    MorphoMol.Energies.solvation_free_energy(flat_realization, n_atoms_per_mol, radii, rs, prefactors, overlap_jump, overlap_slope, delaunay_eps)\n",
    "end"
   ]
  },
  {
   "cell_type": "code",
   "execution_count": 32,
   "metadata": {},
   "outputs": [
    {
     "data": {
      "text/plain": [
       "leapfrog! (generic function with 2 methods)"
      ]
     },
     "metadata": {},
     "output_type": "display_data"
    }
   ],
   "source": [
    "function position_leapfrog(ε, p, x)\n",
    "    eps_p = ε * p\n",
    "    for (i, (R,T)) in enumerate(x)\n",
    "        si = (i-1) * 6\n",
    "        x[i] = (exp(Rotations.RotationVecGenerator((eps_p[si + 1: si + 3])...)) * R, T + eps_p[si + 4: si + 6])\n",
    "    end\n",
    "    x\n",
    "end\n",
    "\n",
    "function leapfrog!(x, p, ∇E, β, ε, L, energy_gradient!)\n",
    "    p -= ε * β / 2.0 * energy_gradient!(∇E, x)\n",
    "    x = position_leapfrog(ε, p, x)\n",
    "    for i in 1:L-1\n",
    "        p -= ε * β * energy_gradient!(∇E, x)\n",
    "        x = position_leapfrog(ε, p, x)\n",
    "    end\n",
    "    p -= ε * β / 2.0 * energy_gradient!(∇E, x)\n",
    "    x, p\n",
    "end"
   ]
  },
  {
   "cell_type": "code",
   "execution_count": 40,
   "metadata": {},
   "outputs": [
    {
     "data": {
      "text/plain": [
       "simulate! (generic function with 1 method)"
      ]
     },
     "metadata": {},
     "output_type": "display_data"
    }
   ],
   "source": [
    "function simulate!(hmc::MorphoMol.Algorithms.HamiltonianMonteCarlo, x_init, p, iterations)\n",
    "    energy, energy_gradient! = hmc.energy, hmc.energy_gradient!\n",
    "    inner_product, draw_perturbation = hmc.inner_product, hmc.draw_perturbation\n",
    "    leapfrog! = hmc.leapfrog!\n",
    "    β, L, ε = hmc.β, hmc.L, hmc.ε\n",
    "\n",
    "    x = deepcopy(x_init)\n",
    "    x_backup = deepcopy(x)\n",
    "\n",
    "    states = [deepcopy(x)]\n",
    "    \n",
    "    ∇E = zero(p)\n",
    "    \n",
    "    E = energy(x)\n",
    "    \n",
    "    accepted_steps = 0\n",
    "    for _ in 1:iterations\n",
    "        p = draw_perturbation()\n",
    "\n",
    "        E_backup = E\n",
    "        H_start = β*E + (1/2)*inner_product(p)\n",
    "\n",
    "        x, p = leapfrog!(x, p, ∇E, β, ε, L, energy_gradient!)\n",
    "\n",
    "        E = energy(x)\n",
    "        H_end = β*E + (1/2)*inner_product(p)\n",
    "        \n",
    "        if rand() < min(1, exp(H_start - H_end)) \n",
    "            #accept step\n",
    "            copyto!(x_backup, x)\n",
    "            accepted_steps += 1\n",
    "            push!(states, deepcopy(x))\n",
    "        else\n",
    "            # reject step\n",
    "            E = E_backup\n",
    "            copyto!(x, x_backup)\n",
    "        end\n",
    "    end\n",
    "    states, accepted_steps\n",
    "end"
   ]
  },
  {
   "cell_type": "code",
   "execution_count": 38,
   "metadata": {},
   "outputs": [],
   "source": [
    "x_init = [(exp(Rotations.RotationVecGenerator((rand(3) .* pi)...)), SVector{3, Float64}(rand(3)) * 10.0) for i in 1:12]\n",
    "n_mol = length(x_init)\n",
    "\n",
    "a = 1.6\n",
    "template_mol = [0.0, 0.0, 0.0, 2*a, 0.0, 0.0, a, sqrt(3)*a, 0.0]\n",
    "n_atoms_per_mol = length(template_mol) ÷ 3\n",
    "\n",
    "template_mol = reshape(template_mol,(3,n_atoms_per_mol))\n",
    "template_radii = [1.6, 1.6, 1.6]\n",
    "radii = vcat([template_radii for i in 1:n_mol]...);\n",
    "\n",
    "state_to_poly(x_init, template_mol, radii, \"assets/output/start\")"
   ]
  },
  {
   "cell_type": "code",
   "execution_count": 42,
   "metadata": {},
   "outputs": [
    {
     "data": {
      "text/plain": [
       "0.76"
      ]
     },
     "metadata": {},
     "output_type": "display_data"
    }
   ],
   "source": [
    "T = 5.0\n",
    "ε = 0.01\n",
    "L = 4\n",
    "β = 1.0 / T\n",
    "\n",
    "rs = 1.4\n",
    "eta = 0.3665\n",
    "pf = MorphoMol.Energies.get_prefactors(rs, eta)\n",
    "overlap_slope = 10.0\n",
    "\n",
    "σ_r = 0.25\n",
    "σ_t = 0.5\n",
    "\n",
    "p = zeros(6*n_mol)\n",
    "\n",
    "draw_perturbation! = () -> vcat([[σ_r * randn(3); σ_t * randn(3)] for _ in 1:n_mol]...)\n",
    "#TODO\n",
    "inner_product = (p) -> (p ⋅ p)\n",
    "\n",
    "\n",
    "energy(x) = solvation_free_energy(x, template_mol, radii, rs, pf, 0.0, overlap_slope, 1.0)\n",
    "energy_gradient!(∇E, x) = solvation_free_energy_gradient!(∇E, x, template_mol, radii, rs, pf, overlap_slope)\n",
    "\n",
    "hmc = MorphoMol.Algorithms.HamiltonianMonteCarlo(energy, energy_gradient!, inner_product, draw_perturbation!, leapfrog!, β, L, ε)\n",
    "iterations = 100\n",
    "states, accepted_steps = simulate!(hmc, deepcopy(x_init), p, iterations);\n",
    "accepted_steps / iterations"
   ]
  },
  {
   "cell_type": "code",
   "execution_count": 35,
   "metadata": {},
   "outputs": [],
   "source": [
    "for (i, state) in enumerate(states)\n",
    "    state_to_poly(state, template_mol, radii, \"assets/output/$(i)\")\n",
    "end"
   ]
  }
 ],
 "metadata": {
  "kernelspec": {
   "display_name": "Julia 1.8.5",
   "language": "julia",
   "name": "julia-1.8"
  },
  "language_info": {
   "file_extension": ".jl",
   "mimetype": "application/julia",
   "name": "julia",
   "version": "1.8.5"
  },
  "orig_nbformat": 4
 },
 "nbformat": 4,
 "nbformat_minor": 2
}
