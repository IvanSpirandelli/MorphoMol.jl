{
 "cells": [
  {
   "cell_type": "code",
   "execution_count": 1,
   "metadata": {},
   "outputs": [
    {
     "name": "stderr",
     "output_type": "stream",
     "text": [
      "\u001b[32m\u001b[1m  Activating\u001b[22m\u001b[39m project at `~/Desktop/Doktor/MorphoMol/MorphoMolMonteCarlo`\n"
     ]
    }
   ],
   "source": [
    "import Pkg; \n",
    "\n",
    "if split(pwd(),\"/\")[end] == \"notebooks\"\n",
    "    cd(joinpath(@__DIR__, \"../\"))\n",
    "    Pkg.activate(\"Project.toml\")\n",
    "end\n",
    "\n",
    "using MorphoMol\n",
    "\n",
    "using CairoMakie\n",
    "using Distances\n",
    "using LinearAlgebra\n",
    "using Random\n",
    "using Rotations\n",
    "using StaticArrays"
   ]
  },
  {
   "cell_type": "code",
   "execution_count": 2,
   "metadata": {},
   "outputs": [
    {
     "data": {
      "text/plain": [
       "4-element SVector{4, Float64} with indices SOneTo(4):\n",
       "  0.1820565521760398\n",
       " -0.13138302305634258\n",
       "  0.1115159845462722\n",
       " -0.02880597280496992"
      ]
     },
     "metadata": {},
     "output_type": "display_data"
    }
   ],
   "source": [
    "MorphoMol.Energies.get_prefactors(1.4, 0.3665)"
   ]
  },
  {
   "cell_type": "code",
   "execution_count": 2,
   "metadata": {},
   "outputs": [],
   "source": [
    "n = 3\n",
    "x = vcat([[4.0, 8.0, 12.0, 10.0, 100.0, 1000.0] for i in 1:n]...)\n",
    "p = zero(x);"
   ]
  },
  {
   "cell_type": "code",
   "execution_count": 3,
   "metadata": {},
   "outputs": [
    {
     "data": {
      "text/plain": [
       "18-element Vector{Float64}:\n",
       "  2.0\n",
       "  2.0\n",
       "  2.0\n",
       " 10.0\n",
       " 10.0\n",
       " 10.0\n",
       "  2.0\n",
       "  2.0\n",
       "  2.0\n",
       " 10.0\n",
       " 10.0\n",
       " 10.0\n",
       "  2.0\n",
       "  2.0\n",
       "  2.0\n",
       " 10.0\n",
       " 10.0\n",
       " 10.0"
      ]
     },
     "metadata": {},
     "output_type": "display_data"
    }
   ],
   "source": [
    "sigma_r = 0.5\n",
    "sigma_t = 0.1\n",
    "eps = 1.0\n",
    "\n",
    "Σ = eps^2 .* vcat([[sigma_r, sigma_r, sigma_r, sigma_t, sigma_t, sigma_t] for i in 1:n]...)\n",
    "Σinv_p = [1.0/e for e in Σ]"
   ]
  },
  {
   "cell_type": "code",
   "execution_count": 4,
   "metadata": {},
   "outputs": [
    {
     "data": {
      "text/plain": [
       "18-element Vector{Float64}:\n",
       "  0.060665289470969\n",
       " -0.631972740713981\n",
       "  0.006988619668803272\n",
       "  0.09611318925047746\n",
       "  0.12385810128670927\n",
       " -0.07657502949256763\n",
       " -0.31170451251084813\n",
       "  0.3778499984263434\n",
       " -0.24038849107818397\n",
       "  0.014324527970140988\n",
       "  0.07990702397520388\n",
       "  0.015927867337832104\n",
       " -0.3661877993306749\n",
       " -0.48558784204734606\n",
       " -1.2233792948116249\n",
       "  0.023092380812051682\n",
       " -0.1681987708694082\n",
       " -0.006809686333549058"
      ]
     },
     "metadata": {},
     "output_type": "display_data"
    }
   ],
   "source": [
    "p = randn(length(p)) .* Σ"
   ]
  },
  {
   "cell_type": "code",
   "execution_count": 24,
   "metadata": {},
   "outputs": [
    {
     "data": {
      "text/plain": [
       "18-element Vector{Float64}:\n",
       "   2.0\n",
       "   4.0\n",
       "   6.0\n",
       "   1.0\n",
       "  10.0\n",
       " 100.0\n",
       "   2.0\n",
       "   4.0\n",
       "   6.0\n",
       "   1.0\n",
       "  10.0\n",
       " 100.0\n",
       "   2.0\n",
       "   4.0\n",
       "   6.0\n",
       "   1.0\n",
       "  10.0\n",
       " 100.0"
      ]
     },
     "metadata": {},
     "output_type": "display_data"
    }
   ],
   "source": [
    "x .* covm"
   ]
  },
  {
   "cell_type": "code",
   "execution_count": 25,
   "metadata": {},
   "outputs": [
    {
     "data": {
      "text/plain": [
       "18-element Vector{Float64}:\n",
       "  0.39653145221548336\n",
       " -0.15005509062207983\n",
       " -0.3949316845175351\n",
       " -0.046787929592007144\n",
       "  0.05881865849806205\n",
       " -0.040886529199154364\n",
       " -0.40166380449797534\n",
       "  0.497233924738848\n",
       "  0.7062569980429845\n",
       " -0.08224827525586668\n",
       " -0.033151473943684846\n",
       "  0.20560747190541942\n",
       "  0.07478114231202765\n",
       "  0.4208663436657003\n",
       "  0.48925641565145156\n",
       "  0.03617261925130673\n",
       " -0.20252444083746346\n",
       " -0.03357269090780434"
      ]
     },
     "metadata": {},
     "output_type": "display_data"
    }
   ],
   "source": [
    "randn!(p) .* covm "
   ]
  }
 ],
 "metadata": {
  "kernelspec": {
   "display_name": "Julia 1.8.5",
   "language": "julia",
   "name": "julia-1.8"
  },
  "language_info": {
   "file_extension": ".jl",
   "mimetype": "application/julia",
   "name": "julia",
   "version": "1.8.5"
  },
  "orig_nbformat": 4
 },
 "nbformat": 4,
 "nbformat_minor": 2
}
