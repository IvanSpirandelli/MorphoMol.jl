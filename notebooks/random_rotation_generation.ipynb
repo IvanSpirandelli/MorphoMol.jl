{
 "cells": [
  {
   "cell_type": "code",
   "execution_count": 1,
   "metadata": {},
   "outputs": [
    {
     "name": "stderr",
     "output_type": "stream",
     "text": [
      "\u001b[32m\u001b[1m  Activating\u001b[22m\u001b[39m project at `~/Desktop/Doktor/MorphoMolMonteCarlo`\n"
     ]
    }
   ],
   "source": [
    "import Pkg; \n",
    "\n",
    "if split(pwd(),\"/\")[end] == \"notebooks\"\n",
    "    cd(joinpath(@__DIR__, \"../\"))\n",
    "    Pkg.activate(\"Project.toml\")\n",
    "end\n",
    "\n",
    "using MorphoMol\n",
    "\n",
    "using CairoMakie\n",
    "using LinearAlgebra\n",
    "using Random\n",
    "using Rotations\n",
    "using StaticArrays\n",
    "using Distributions\n",
    "using Distances"
   ]
  },
  {
   "cell_type": "code",
   "execution_count": 26,
   "metadata": {},
   "outputs": [
    {
     "data": {
      "text/plain": [
       "0.5568970033740192"
      ]
     },
     "metadata": {},
     "output_type": "display_data"
    }
   ],
   "source": [
    "r_vdw = 3.0\n",
    "d = 2.6\n",
    "eps = 0.025\n",
    "\n",
    "4 * eps * ((r_vdw / d)^12 )#- (r_vdw / d)^6)"
   ]
  },
  {
   "cell_type": "code",
   "execution_count": 2,
   "metadata": {},
   "outputs": [
    {
     "data": {
      "text/plain": [
       "get_random_rotation (generic function with 1 method)"
      ]
     },
     "metadata": {},
     "output_type": "display_data"
    }
   ],
   "source": [
    "function get_random_rotation(max_rot_angle)\n",
    "    RotX(rand(Uniform(-max_rot_angle,max_rot_angle))) * RotY(rand(Uniform(-max_rot_angle,max_rot_angle))) * RotZ(rand(Uniform(-max_rot_angle,max_rot_angle)))\n",
    "end"
   ]
  },
  {
   "cell_type": "code",
   "execution_count": 3,
   "metadata": {},
   "outputs": [
    {
     "data": {
      "text/plain": [
       "3×3 RotXYZ{Float64} with indices SOneTo(3)×SOneTo(3)(0.112218, -0.042702, 0.0039951):\n",
       "  0.99908      -0.00399145  -0.042689\n",
       " -0.000810441   0.993721    -0.111881\n",
       "  0.0428675     0.111813     0.992804"
      ]
     },
     "metadata": {},
     "output_type": "display_data"
    }
   ],
   "source": [
    "R = get_random_rotation(0.15)"
   ]
  },
  {
   "cell_type": "code",
   "execution_count": 22,
   "metadata": {},
   "outputs": [
    {
     "data": {
      "text/plain": [
       "(0.06805963655791113, 0.15497404040863313)"
      ]
     },
     "metadata": {},
     "output_type": "display_data"
    }
   ],
   "source": [
    "σ_r = 0.1\n",
    "a = randn() * σ_r\n",
    "b = randn() * σ_r\n",
    "c = randn() * σ_r\n",
    "R1 = get_random_rotation(σ_r)\n",
    "R2 = exp(RotationVecGenerator(a,b,c))\n",
    "\n",
    "rotation_angle(R1), rotation_angle(R2)"
   ]
  },
  {
   "cell_type": "code",
   "execution_count": 84,
   "metadata": {},
   "outputs": [
    {
     "data": {
      "text/plain": [
       "3×3 RotXYZ{Float64} with indices SOneTo(3)×SOneTo(3)(0.114393, 0.0978386, 0.0805532):\n",
       "  0.99199    -0.0800813   0.0976826\n",
       "  0.0910539   0.989346   -0.113598\n",
       " -0.0875448   0.121583    0.988713"
      ]
     },
     "metadata": {},
     "output_type": "display_data"
    }
   ],
   "source": [
    "R = get_random_rotation(0.15)"
   ]
  },
  {
   "cell_type": "code",
   "execution_count": 165,
   "metadata": {},
   "outputs": [
    {
     "data": {
      "text/plain": [
       "3×3 RotationVec{Float64} with indices SOneTo(3)×SOneTo(3)(-0.0229491, -0.145305, -0.0994622):\n",
       "  0.984538    0.100603   -0.143404\n",
       " -0.0972774   0.994804    0.0300359\n",
       "  0.145681   -0.0156215   0.989208"
      ]
     },
     "metadata": {},
     "output_type": "display_data"
    }
   ],
   "source": [
    "R2 = exp(RotationVecGenerator((randn(3) * σ_r)...))"
   ]
  },
  {
   "cell_type": "code",
   "execution_count": 151,
   "metadata": {},
   "outputs": [
    {
     "data": {
      "text/plain": [
       "meta_test (generic function with 1 method)"
      ]
     },
     "metadata": {},
     "output_type": "display_data"
    }
   ],
   "source": [
    "function meta_test(config_string)\n",
    "    #println(eval(Meta.parse(config_string)))\n",
    "    eval(Meta.parse(config_string))\n",
    "    a+b+c\n",
    "end"
   ]
  },
  {
   "cell_type": "code",
   "execution_count": 152,
   "metadata": {},
   "outputs": [
    {
     "data": {
      "text/plain": [
       "6"
      ]
     },
     "metadata": {},
     "output_type": "display_data"
    }
   ],
   "source": [
    "meta_test(\"a = 1; b = 2; c = 3\")"
   ]
  }
 ],
 "metadata": {
  "kernelspec": {
   "display_name": "Julia 1.8.5",
   "language": "julia",
   "name": "julia-1.8"
  },
  "language_info": {
   "file_extension": ".jl",
   "mimetype": "application/julia",
   "name": "julia",
   "version": "1.8.5"
  },
  "orig_nbformat": 4
 },
 "nbformat": 4,
 "nbformat_minor": 2
}
