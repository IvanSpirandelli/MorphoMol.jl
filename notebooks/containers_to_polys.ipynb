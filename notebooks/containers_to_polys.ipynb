{
 "cells": [
  {
   "cell_type": "code",
   "execution_count": 1,
   "metadata": {},
   "outputs": [
    {
     "name": "stderr",
     "output_type": "stream",
     "text": [
      "\u001b[32m\u001b[1m  Activating\u001b[22m\u001b[39m project at `~/Doktor/Code/MorphoMolMonteCarlo`\n"
     ]
    }
   ],
   "source": [
    "import Pkg; \n",
    "\n",
    "if split(pwd(),\"/\")[end] == \"notebooks\"\n",
    "    cd(joinpath(@__DIR__, \"../\"))\n",
    "    Pkg.activate(\"Project.toml\")\n",
    "end\n",
    "\n",
    "using MorphoMol\n",
    "using StaticArrays\n",
    "using Rotations\n",
    "using Distances\n",
    "using JLD2"
   ]
  },
  {
   "cell_type": "code",
   "execution_count": 9,
   "metadata": {},
   "outputs": [],
   "source": [
    "folder = \"assets/input/jld2/2_low/\"\n",
    "for file in readdir(folder)\n",
    "    if split(file, \".\")[end] == \"jld2\" && split(file, \"_\")[1] == \"1ei7\"\n",
    "        id = split(file, \".\")[1]\n",
    "        @load \"$(folder)$(file)\" template_mol template_radii x_init\n",
    "        n_mol = Int(length(x_init) / 6)\n",
    "        n_atoms_per_mol = length(template_radii)\n",
    "        radii = [template_radii; template_radii]\n",
    "        MorphoMol.Utilities.state_to_poly(MorphoMol.Utilities.get_flat_realization(x_init, template_mol), radii, \"$(folder)/$(id)\", n_mol, n_atoms_per_mol)\n",
    "    end\n",
    "end"
   ]
  },
  {
   "cell_type": "code",
   "execution_count": 11,
   "metadata": {},
   "outputs": [
    {
     "name": "stdout",
     "output_type": "stream",
     "text": [
      "1ei7_1.jld2: 8195.4303438449\n",
      "1ei7_10.jld2: 8199.463238926752\n",
      "1ei7_11.jld2: 8196.549243711217\n",
      "1ei7_12.jld2: 8193.63478145974\n",
      "1ei7_13.jld2: 8196.459689892408\n",
      "1ei7_14.jld2: 8191.886570650872\n",
      "1ei7_15.jld2: 8190.138855342106\n",
      "1ei7_16.jld2: 8197.421881817761\n",
      "1ei7_17.jld2: 8191.630379620285\n",
      "1ei7_18.jld2: 8192.876517666999\n",
      "1ei7_19.jld2: 8195.17397789393\n",
      "1ei7_2.jld2: 8194.545958807412\n",
      "1ei7_20.jld2: 8187.487996190918\n",
      "1ei7_21.jld2: 8190.514203154125\n",
      "1ei7_22.jld2: 8195.580979468883\n",
      "1ei7_23.jld2: 8195.507485731594\n",
      "1ei7_3.jld2: 8199.14654166381\n",
      "1ei7_4.jld2: 8198.39241292926\n",
      "1ei7_5.jld2: 8185.798536861604\n",
      "1ei7_6.jld2: 8199.064498010195\n",
      "1ei7_7.jld2: 8191.960880215858\n",
      "1ei7_8.jld2: 8191.139229126876\n",
      "1ei7_9.jld2: 8196.178341812514\n"
     ]
    }
   ],
   "source": [
    "pf = MorphoMol.Energies.get_prefactors(1.4, 0.3665)\n",
    "folder = \"assets/input/jld2/2_low/\"\n",
    "for file in readdir(folder)\n",
    "    if split(file, \".\")[end] == \"jld2\" && split(file, \"_\")[1] == \"1ei7\"\n",
    "        @load \"$(folder)$(file)\" template_mol template_radii x_init\n",
    "        n_mol = Int(length(x_init) / 6)\n",
    "        n_atoms_per_mol = length(template_radii)\n",
    "        radii = [template_radii; template_radii]\n",
    "        E = MorphoMol.Energies.solvation_free_energy(\n",
    "            MorphoMol.Utilities.get_flat_realization(x_init, template_mol),\n",
    "            n_atoms_per_mol,\n",
    "            radii,\n",
    "            1.4,\n",
    "            pf,\n",
    "            0.0,\n",
    "            0.85\n",
    "        )\n",
    "        println(file, \": \",E)\n",
    "    end\n",
    "end"
   ]
  }
 ],
 "metadata": {
  "kernelspec": {
   "display_name": "Julia 1.10.4",
   "language": "julia",
   "name": "julia-1.10"
  },
  "language_info": {
   "file_extension": ".jl",
   "mimetype": "application/julia",
   "name": "julia",
   "version": "1.10.4"
  }
 },
 "nbformat": 4,
 "nbformat_minor": 2
}
