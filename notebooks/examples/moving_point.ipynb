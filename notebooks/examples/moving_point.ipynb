{
 "cells": [
  {
   "cell_type": "code",
   "execution_count": 2,
   "metadata": {},
   "outputs": [],
   "source": [
    "import Pkg; \n",
    "\n",
    "if split(pwd(),\"/\")[end] == \"notebooks\"\n",
    "    cd(joinpath(@__DIR__, \"../\"))\n",
    "    Pkg.activate(\"Project.toml\")\n",
    "end\n",
    "\n",
    "using MorphoMol\n",
    "\n",
    "using CairoMakie\n",
    "using Distances\n",
    "using LinearAlgebra\n",
    "using Random\n",
    "using Rotations\n",
    "using StaticArrays"
   ]
  },
  {
   "cell_type": "code",
   "execution_count": 4,
   "metadata": {},
   "outputs": [
    {
     "data": {
      "text/plain": [
       "0.98543f0"
      ]
     },
     "metadata": {},
     "output_type": "display_data"
    }
   ],
   "source": [
    "T = 0.5\n",
    "ε = 0.1\n",
    "p = [0.0, 0.0, 0.0]\n",
    "L = 10\n",
    "β = 1.0 / T\n",
    "\n",
    "σ = 1.0\n",
    "Σ = [σ]\n",
    "\n",
    "energy(x) = x[1]^2\n",
    "\n",
    "function energy_gradient!(∇E, x)\n",
    "    ∇E[1] = 2 * x[1]\n",
    "    ∇E\n",
    "end\n",
    "\n",
    "output = MorphoMol.Algorithms.SimulationStates(\n",
    "    Vector{Vector{Float64}}([]),\n",
    "    Vector{Float64}([])\n",
    ")\n",
    "\n",
    "hmc = MorphoMol.Algorithms.HamiltonianMonteCarlo(energy, energy_gradient!, MorphoMol.Algorithms.standard_leapfrog!, β, L, ε, Σ)\n",
    "\n",
    "x = rand(1) .- 0.5\n",
    "p = [0.0]\n",
    "iterations = 100000\n",
    "output = MorphoMol.Algorithms.simulate!(hmc, output, x, iterations);\n",
    "output.αs[end]"
   ]
  },
  {
   "cell_type": "code",
   "execution_count": 5,
   "metadata": {},
   "outputs": [
    {
     "ename": "MethodError",
     "evalue": "MethodError: no method matching length(::MorphoMol.Algorithms.SimulationStates)\nClosest candidates are:\n  length(!Matched::Union{Base.KeySet, Base.ValueIterator}) at abstractdict.jl:58\n  length(!Matched::Union{Adjoint{T, <:Union{StaticArray{Tuple{var\"#s2\"}, T, 1} where var\"#s2\", StaticArray{Tuple{var\"#s3\", var\"#s4\"}, T, 2} where {var\"#s3\", var\"#s4\"}}}, Diagonal{T, <:StaticArray{Tuple{var\"#s13\"}, T, 1} where var\"#s13\"}, Hermitian{T, <:StaticArray{Tuple{var\"#s10\", var\"#s11\"}, T, 2} where {var\"#s10\", var\"#s11\"}}, LowerTriangular{T, <:StaticArray{Tuple{var\"#s18\", var\"#s19\"}, T, 2} where {var\"#s18\", var\"#s19\"}}, Symmetric{T, <:StaticArray{Tuple{var\"#s7\", var\"#s8\"}, T, 2} where {var\"#s7\", var\"#s8\"}}, Transpose{T, <:Union{StaticArray{Tuple{var\"#s2\"}, T, 1} where var\"#s2\", StaticArray{Tuple{var\"#s3\", var\"#s4\"}, T, 2} where {var\"#s3\", var\"#s4\"}}}, UnitLowerTriangular{T, <:StaticArray{Tuple{var\"#s24\", var\"#s25\"}, T, 2} where {var\"#s24\", var\"#s25\"}}, UnitUpperTriangular{T, <:StaticArray{Tuple{var\"#s21\", var\"#s22\"}, T, 2} where {var\"#s21\", var\"#s22\"}}, UpperTriangular{T, <:StaticArray{Tuple{var\"#s15\", var\"#s16\"}, T, 2} where {var\"#s15\", var\"#s16\"}}, StaticArray{Tuple{var\"#s25\"}, T, 1} where var\"#s25\", StaticArray{Tuple{var\"#s1\", var\"#s3\"}, T, 2} where {var\"#s1\", var\"#s3\"}, StaticArray{<:Tuple, T}} where T) at ~/.julia/packages/StaticArrays/EHHaF/src/abstractarray.jl:1\n  length(!Matched::Union{Adjoint{T, S}, Transpose{T, S}} where {T, S}) at /opt/julia-1.8.5/share/julia/stdlib/v1.8/LinearAlgebra/src/adjtrans.jl:172\n  ...",
     "output_type": "error",
     "traceback": [
      "MethodError: no method matching length(::MorphoMol.Algorithms.SimulationStates)\n",
      "Closest candidates are:\n",
      "  length(!Matched::Union{Base.KeySet, Base.ValueIterator}) at abstractdict.jl:58\n",
      "  length(!Matched::Union{Adjoint{T, <:Union{StaticArray{Tuple{var\"#s2\"}, T, 1} where var\"#s2\", StaticArray{Tuple{var\"#s3\", var\"#s4\"}, T, 2} where {var\"#s3\", var\"#s4\"}}}, Diagonal{T, <:StaticArray{Tuple{var\"#s13\"}, T, 1} where var\"#s13\"}, Hermitian{T, <:StaticArray{Tuple{var\"#s10\", var\"#s11\"}, T, 2} where {var\"#s10\", var\"#s11\"}}, LowerTriangular{T, <:StaticArray{Tuple{var\"#s18\", var\"#s19\"}, T, 2} where {var\"#s18\", var\"#s19\"}}, Symmetric{T, <:StaticArray{Tuple{var\"#s7\", var\"#s8\"}, T, 2} where {var\"#s7\", var\"#s8\"}}, Transpose{T, <:Union{StaticArray{Tuple{var\"#s2\"}, T, 1} where var\"#s2\", StaticArray{Tuple{var\"#s3\", var\"#s4\"}, T, 2} where {var\"#s3\", var\"#s4\"}}}, UnitLowerTriangular{T, <:StaticArray{Tuple{var\"#s24\", var\"#s25\"}, T, 2} where {var\"#s24\", var\"#s25\"}}, UnitUpperTriangular{T, <:StaticArray{Tuple{var\"#s21\", var\"#s22\"}, T, 2} where {var\"#s21\", var\"#s22\"}}, UpperTriangular{T, <:StaticArray{Tuple{var\"#s15\", var\"#s16\"}, T, 2} where {var\"#s15\", var\"#s16\"}}, StaticArray{Tuple{var\"#s25\"}, T, 1} where var\"#s25\", StaticArray{Tuple{var\"#s1\", var\"#s3\"}, T, 2} where {var\"#s1\", var\"#s3\"}, StaticArray{<:Tuple, T}} where T) at ~/.julia/packages/StaticArrays/EHHaF/src/abstractarray.jl:1\n",
      "  length(!Matched::Union{Adjoint{T, S}, Transpose{T, S}} where {T, S}) at /opt/julia-1.8.5/share/julia/stdlib/v1.8/LinearAlgebra/src/adjtrans.jl:172\n",
      "  ...\n",
      "\n",
      "Stacktrace:\n",
      " [1] length(g::Base.Generator{MorphoMol.Algorithms.SimulationStates, var\"#9#10\"})\n",
      "   @ Base ./generator.jl:50\n",
      " [2] _similar_shape(itr::Base.Generator{MorphoMol.Algorithms.SimulationStates, var\"#9#10\"}, #unused#::Base.HasLength)\n",
      "   @ Base ./array.jl:663\n",
      " [3] collect(itr::Base.Generator{MorphoMol.Algorithms.SimulationStates, var\"#9#10\"})\n",
      "   @ Base ./array.jl:786\n",
      " [4] top-level scope\n",
      "   @ ~/Desktop/Doktor/MorphoMol/MorphoMolMonteCarlo/notebooks/moving_point.ipynb:3"
     ]
    }
   ],
   "source": [
    "f = Figure(size = (500, 500))\n",
    "bin_number = 51\n",
    "xs = [e[1] for e in states]\n",
    "hist(f[1, 1], xs, bins = bin_number, color = :red, strokewidth = 1, strokecolor = :black, axis = (title = \"xs\", limits = ((minimum(xs), maximum(xs)), nothing),))\n",
    "f"
   ]
  }
 ],
 "metadata": {
  "kernelspec": {
   "display_name": "Julia 1.8.5",
   "language": "julia",
   "name": "julia-1.8"
  },
  "language_info": {
   "file_extension": ".jl",
   "mimetype": "application/julia",
   "name": "julia",
   "version": "1.8.5"
  },
  "orig_nbformat": 4
 },
 "nbformat": 4,
 "nbformat_minor": 2
}
