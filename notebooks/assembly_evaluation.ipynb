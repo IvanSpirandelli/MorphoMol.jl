{
 "cells": [
  {
   "cell_type": "code",
   "execution_count": 1,
   "metadata": {},
   "outputs": [
    {
     "name": "stderr",
     "output_type": "stream",
     "text": [
      "\u001b[32m\u001b[1m  Activating\u001b[22m\u001b[39m project at `~/Desktop/Doktor/MorphoMol/MorphoMolMonteCarlo`\n"
     ]
    }
   ],
   "source": [
    "import Pkg; \n",
    "\n",
    "if split(pwd(),\"/\")[end] == \"notebooks\"\n",
    "    cd(joinpath(@__DIR__, \"../\"))\n",
    "    Pkg.activate(\"Project.toml\")\n",
    "end\n",
    "\n",
    "using MorphoMol\n",
    "using StaticArrays\n",
    "using Rotations\n",
    "using Distances\n",
    "using JLD2"
   ]
  },
  {
   "cell_type": "code",
   "execution_count": 2,
   "metadata": {},
   "outputs": [],
   "source": [
    "folder = \"assets/hpc_assembly/2_low_refinement_oj_0_0_os_0_85/\"\n",
    "#folder = \"assets/hpc_assembly/3_6r7m_stacked_oj_0_0_os_0_85/\"\n",
    "max = 1\n",
    "for file in readdir(folder)\n",
    "    if split(file, \".\")[end] == \"jld2\"\n",
    "        max = max < parse(Int, split(file, \"_\")[1]) ? parse(Int, split(file, \"_\")[1]) : max\n",
    "    end\n",
    "end\n",
    "\n",
    "evaluation_strings = [\"\" for _ in 1:max]\n",
    "for file in readdir(folder)\n",
    "    if split(file, \".\")[end] == \"jld2\"\n",
    "        @load \"$folder$file\" in_out_data\n",
    "        id = parse(Int, split(file, \"_\")[1])\n",
    "        string = \"$(id): $(in_out_data.input.T) | $(in_out_data.input.ε) | $(in_out_data.output.αs[end]) | $(in_out_data.output.Es[1]), $(minimum(in_out_data.output.Es)), $(in_out_data.output.Es[end])\"\n",
    "        evaluation_strings[id] = string\n",
    "    end\n",
    "end"
   ]
  },
  {
   "cell_type": "code",
   "execution_count": 3,
   "metadata": {},
   "outputs": [
    {
     "name": "stdout",
     "output_type": "stream",
     "text": [
      "1: 2.4 | 0.001 | 0.82522047 | 8112.231496881748, 8107.3277040315525, 8188.555417535014\n",
      "2: 2.4 | 0.001 | 0.8081181 | 8112.231496881748, 8108.721002719419, 8155.187226847789\n",
      "3: 2.4 | 0.001 | 0.82699955 | 8112.231496881748, 8107.401291454409, 8154.8724801735425\n",
      "4: 2.4 | 0.001 | 0.8187431 | 8112.231496881748, 8108.503711190212, 8168.231566826223\n",
      "5: 2.4 | 0.001 | 0.84658056 | 8112.231496881748, 8107.21058846468, 8163.433142025075\n"
     ]
    }
   ],
   "source": [
    "for elem in evaluation_strings\n",
    "    println(elem)\n",
    "end"
   ]
  },
  {
   "cell_type": "code",
   "execution_count": 5,
   "metadata": {},
   "outputs": [
    {
     "data": {
      "text/plain": [
       "get_flat_realization (generic function with 1 method)"
      ]
     },
     "metadata": {},
     "output_type": "display_data"
    }
   ],
   "source": [
    "function get_flat_realization(x, template_mol)\n",
    "    n_mol = length(x) ÷ 6\n",
    "    [(hvcat((n_mol), [exp(Rotations.RotationVecGenerator(x[i:i+2]...)) * template_mol .+ x[i+3:i+5] for i in 1:6:length(x)]...)...)...]\n",
    "end"
   ]
  },
  {
   "cell_type": "code",
   "execution_count": 6,
   "metadata": {},
   "outputs": [
    {
     "name": "stdout",
     "output_type": "stream",
     "text": [
      "assets/hpc_assembly/2_low_refinement_oj_0_0_os_0_85/1_1ei7_10_protor_oj_0_0_os_0_85.jld2\n",
      "assets/hpc_assembly/2_low_refinement_oj_0_0_os_0_85/1_1ei7_1_protor_oj_0_0_os_0_85.jld2\n",
      "assets/hpc_assembly/2_low_refinement_oj_0_0_os_0_85/1_1ei7_9_protor_oj_0_0_os_0_85.jld2\n",
      "assets/hpc_assembly/2_low_refinement_oj_0_0_os_0_85/1_2tmv_10_protor_oj_0_0_os_0_85.jld2\n",
      "assets/hpc_assembly/2_low_refinement_oj_0_0_os_0_85/1_2tmv_1_protor_oj_0_0_os_0_85.jld2\n",
      "assets/hpc_assembly/2_low_refinement_oj_0_0_os_0_85/1_6r7m_17_protor_oj_0_0_os_0_85.jld2\n",
      "assets/hpc_assembly/2_low_refinement_oj_0_0_os_0_85/1_6r7m_18_protor_oj_0_0_os_0_85.jld2\n",
      "assets/hpc_assembly/2_low_refinement_oj_0_0_os_0_85/1_6r7m_19_protor_oj_0_0_os_0_85.jld2\n",
      "assets/hpc_assembly/2_low_refinement_oj_0_0_os_0_85/1_6r7m_20_protor_oj_0_0_os_0_85.jld2\n",
      "assets/hpc_assembly/2_low_refinement_oj_0_0_os_0_85/1_6r7m_21_protor_oj_0_0_os_0_85.jld2\n",
      "assets/hpc_assembly/2_low_refinement_oj_0_0_os_0_85/1_6r7m_2_protor_oj_0_0_os_0_85.jld2\n",
      "assets/hpc_assembly/2_low_refinement_oj_0_0_os_0_85/1_6r7m_3_protor_oj_0_0_os_0_85.jld2\n",
      "assets/hpc_assembly/2_low_refinement_oj_0_0_os_0_85/1_6r7m_4_protor_oj_0_0_os_0_85.jld2\n",
      "assets/hpc_assembly/2_low_refinement_oj_0_0_os_0_85/1_6r7m_5_protor_oj_0_0_os_0_85.jld2\n",
      "assets/hpc_assembly/2_low_refinement_oj_0_0_os_0_85/1_6r7m_6_protor_oj_0_0_os_0_85.jld2\n",
      "assets/hpc_assembly/2_low_refinement_oj_0_0_os_0_85/1_6r7m_7_protor_oj_0_0_os_0_85.jld2\n",
      "assets/hpc_assembly/2_low_refinement_oj_0_0_os_0_85/1_6r7m_8_protor_oj_0_0_os_0_85.jld2\n",
      "assets/hpc_assembly/2_low_refinement_oj_0_0_os_0_85/1_6r7m_9_protor_oj_0_0_os_0_85.jld2\n",
      "assets/hpc_assembly/2_low_refinement_oj_0_0_os_0_85/1_6sae_10_protor_oj_0_0_os_0_85.jld2\n",
      "assets/hpc_assembly/2_low_refinement_oj_0_0_os_0_85/1_6sae_11_protor_oj_0_0_os_0_85.jld2\n",
      "assets/hpc_assembly/2_low_refinement_oj_0_0_os_0_85/1_6sae_12_protor_oj_0_0_os_0_85.jld2\n",
      "assets/hpc_assembly/2_low_refinement_oj_0_0_os_0_85/1_6sae_13_protor_oj_0_0_os_0_85.jld2\n",
      "assets/hpc_assembly/2_low_refinement_oj_0_0_os_0_85/1_6sae_1_protor_oj_0_0_os_0_85.jld2\n",
      "assets/hpc_assembly/2_low_refinement_oj_0_0_os_0_85/2_1ei7_1_protor_oj_0_0_os_0_85.jld2\n",
      "assets/hpc_assembly/2_low_refinement_oj_0_0_os_0_85/2_2tmv_10_protor_oj_0_0_os_0_85.jld2\n",
      "assets/hpc_assembly/2_low_refinement_oj_0_0_os_0_85/2_2tmv_1_protor_oj_0_0_os_0_85.jld2\n",
      "assets/hpc_assembly/2_low_refinement_oj_0_0_os_0_85/2_6r7m_17_protor_oj_0_0_os_0_85.jld2\n",
      "assets/hpc_assembly/2_low_refinement_oj_0_0_os_0_85/2_6r7m_18_protor_oj_0_0_os_0_85.jld2\n",
      "assets/hpc_assembly/2_low_refinement_oj_0_0_os_0_85/2_6r7m_19_protor_oj_0_0_os_0_85.jld2\n",
      "assets/hpc_assembly/2_low_refinement_oj_0_0_os_0_85/2_6r7m_20_protor_oj_0_0_os_0_85.jld2\n",
      "assets/hpc_assembly/2_low_refinement_oj_0_0_os_0_85/2_6r7m_21_protor_oj_0_0_os_0_85.jld2\n",
      "assets/hpc_assembly/2_low_refinement_oj_0_0_os_0_85/2_6r7m_2_protor_oj_0_0_os_0_85.jld2\n",
      "assets/hpc_assembly/2_low_refinement_oj_0_0_os_0_85/2_6r7m_3_protor_oj_0_0_os_0_85.jld2\n",
      "assets/hpc_assembly/2_low_refinement_oj_0_0_os_0_85/2_6r7m_4_protor_oj_0_0_os_0_85.jld2\n",
      "assets/hpc_assembly/2_low_refinement_oj_0_0_os_0_85/2_6r7m_5_protor_oj_0_0_os_0_85.jld2\n",
      "assets/hpc_assembly/2_low_refinement_oj_0_0_os_0_85/2_6r7m_6_protor_oj_0_0_os_0_85.jld2\n",
      "assets/hpc_assembly/2_low_refinement_oj_0_0_os_0_85/2_6r7m_7_protor_oj_0_0_os_0_85.jld2\n",
      "assets/hpc_assembly/2_low_refinement_oj_0_0_os_0_85/2_6r7m_8_protor_oj_0_0_os_0_85.jld2\n",
      "assets/hpc_assembly/2_low_refinement_oj_0_0_os_0_85/2_6r7m_9_protor_oj_0_0_os_0_85.jld2\n",
      "assets/hpc_assembly/2_low_refinement_oj_0_0_os_0_85/2_6sae_10_protor_oj_0_0_os_0_85.jld2\n",
      "assets/hpc_assembly/2_low_refinement_oj_0_0_os_0_85/2_6sae_11_protor_oj_0_0_os_0_85.jld2\n",
      "assets/hpc_assembly/2_low_refinement_oj_0_0_os_0_85/2_6sae_12_protor_oj_0_0_os_0_85.jld2\n",
      "assets/hpc_assembly/2_low_refinement_oj_0_0_os_0_85/2_6sae_13_protor_oj_0_0_os_0_85.jld2\n",
      "assets/hpc_assembly/2_low_refinement_oj_0_0_os_0_85/2_6sae_1_protor_oj_0_0_os_0_85.jld2\n",
      "assets/hpc_assembly/2_low_refinement_oj_0_0_os_0_85/3_1ei7_10_protor_oj_0_0_os_0_85.jld2\n",
      "assets/hpc_assembly/2_low_refinement_oj_0_0_os_0_85/3_1ei7_1_protor_oj_0_0_os_0_85.jld2\n",
      "assets/hpc_assembly/2_low_refinement_oj_0_0_os_0_85/3_1ei7_9_protor_oj_0_0_os_0_85.jld2\n",
      "assets/hpc_assembly/2_low_refinement_oj_0_0_os_0_85/3_2tmv_10_protor_oj_0_0_os_0_85.jld2\n",
      "assets/hpc_assembly/2_low_refinement_oj_0_0_os_0_85/3_2tmv_1_protor_oj_0_0_os_0_85.jld2\n",
      "assets/hpc_assembly/2_low_refinement_oj_0_0_os_0_85/3_6r7m_16_protor_oj_0_0_os_0_85.jld2\n",
      "assets/hpc_assembly/2_low_refinement_oj_0_0_os_0_85/3_6r7m_17_protor_oj_0_0_os_0_85.jld2\n",
      "assets/hpc_assembly/2_low_refinement_oj_0_0_os_0_85/3_6r7m_19_protor_oj_0_0_os_0_85.jld2\n",
      "assets/hpc_assembly/2_low_refinement_oj_0_0_os_0_85/3_6r7m_20_protor_oj_0_0_os_0_85.jld2\n",
      "assets/hpc_assembly/2_low_refinement_oj_0_0_os_0_85/3_6r7m_21_protor_oj_0_0_os_0_85.jld2\n",
      "assets/hpc_assembly/2_low_refinement_oj_0_0_os_0_85/3_6r7m_2_protor_oj_0_0_os_0_85.jld2\n",
      "assets/hpc_assembly/2_low_refinement_oj_0_0_os_0_85/3_6r7m_3_protor_oj_0_0_os_0_85.jld2\n",
      "assets/hpc_assembly/2_low_refinement_oj_0_0_os_0_85/3_6r7m_4_protor_oj_0_0_os_0_85.jld2\n",
      "assets/hpc_assembly/2_low_refinement_oj_0_0_os_0_85/3_6r7m_5_protor_oj_0_0_os_0_85.jld2\n",
      "assets/hpc_assembly/2_low_refinement_oj_0_0_os_0_85/3_6r7m_6_protor_oj_0_0_os_0_85.jld2\n",
      "assets/hpc_assembly/2_low_refinement_oj_0_0_os_0_85/3_6r7m_7_protor_oj_0_0_os_0_85.jld2\n",
      "assets/hpc_assembly/2_low_refinement_oj_0_0_os_0_85/3_6r7m_8_protor_oj_0_0_os_0_85.jld2\n",
      "assets/hpc_assembly/2_low_refinement_oj_0_0_os_0_85/3_6r7m_9_protor_oj_0_0_os_0_85.jld2\n",
      "assets/hpc_assembly/2_low_refinement_oj_0_0_os_0_85/3_6sae_10_protor_oj_0_0_os_0_85.jld2\n",
      "assets/hpc_assembly/2_low_refinement_oj_0_0_os_0_85/3_6sae_11_protor_oj_0_0_os_0_85.jld2\n",
      "assets/hpc_assembly/2_low_refinement_oj_0_0_os_0_85/3_6sae_12_protor_oj_0_0_os_0_85.jld2\n",
      "assets/hpc_assembly/2_low_refinement_oj_0_0_os_0_85/3_6sae_13_protor_oj_0_0_os_0_85.jld2\n",
      "assets/hpc_assembly/2_low_refinement_oj_0_0_os_0_85/3_6sae_1_protor_oj_0_0_os_0_85.jld2\n",
      "assets/hpc_assembly/2_low_refinement_oj_0_0_os_0_85/4_1ei7_1_protor_oj_0_0_os_0_85.jld2\n",
      "assets/hpc_assembly/2_low_refinement_oj_0_0_os_0_85/4_1ei7_9_protor_oj_0_0_os_0_85.jld2\n",
      "assets/hpc_assembly/2_low_refinement_oj_0_0_os_0_85/4_2tmv_10_protor_oj_0_0_os_0_85.jld2\n",
      "assets/hpc_assembly/2_low_refinement_oj_0_0_os_0_85/4_2tmv_1_protor_oj_0_0_os_0_85.jld2\n",
      "assets/hpc_assembly/2_low_refinement_oj_0_0_os_0_85/4_6r7m_16_protor_oj_0_0_os_0_85.jld2\n",
      "assets/hpc_assembly/2_low_refinement_oj_0_0_os_0_85/4_6r7m_17_protor_oj_0_0_os_0_85.jld2\n",
      "assets/hpc_assembly/2_low_refinement_oj_0_0_os_0_85/4_6r7m_18_protor_oj_0_0_os_0_85.jld2\n",
      "assets/hpc_assembly/2_low_refinement_oj_0_0_os_0_85/4_6r7m_19_protor_oj_0_0_os_0_85.jld2\n",
      "assets/hpc_assembly/2_low_refinement_oj_0_0_os_0_85/4_6r7m_20_protor_oj_0_0_os_0_85.jld2\n",
      "assets/hpc_assembly/2_low_refinement_oj_0_0_os_0_85/4_6r7m_21_protor_oj_0_0_os_0_85.jld2\n",
      "assets/hpc_assembly/2_low_refinement_oj_0_0_os_0_85/4_6r7m_2_protor_oj_0_0_os_0_85.jld2\n",
      "assets/hpc_assembly/2_low_refinement_oj_0_0_os_0_85/4_6r7m_3_protor_oj_0_0_os_0_85.jld2\n",
      "assets/hpc_assembly/2_low_refinement_oj_0_0_os_0_85/4_6r7m_4_protor_oj_0_0_os_0_85.jld2\n",
      "assets/hpc_assembly/2_low_refinement_oj_0_0_os_0_85/4_6r7m_5_protor_oj_0_0_os_0_85.jld2\n",
      "assets/hpc_assembly/2_low_refinement_oj_0_0_os_0_85/4_6r7m_6_protor_oj_0_0_os_0_85.jld2\n",
      "assets/hpc_assembly/2_low_refinement_oj_0_0_os_0_85/4_6r7m_7_protor_oj_0_0_os_0_85.jld2\n",
      "assets/hpc_assembly/2_low_refinement_oj_0_0_os_0_85/4_6r7m_8_protor_oj_0_0_os_0_85.jld2\n",
      "assets/hpc_assembly/2_low_refinement_oj_0_0_os_0_85/4_6r7m_9_protor_oj_0_0_os_0_85.jld2\n",
      "assets/hpc_assembly/2_low_refinement_oj_0_0_os_0_85/4_6sae_10_protor_oj_0_0_os_0_85.jld2\n",
      "assets/hpc_assembly/2_low_refinement_oj_0_0_os_0_85/4_6sae_11_protor_oj_0_0_os_0_85.jld2\n",
      "assets/hpc_assembly/2_low_refinement_oj_0_0_os_0_85/4_6sae_12_protor_oj_0_0_os_0_85.jld2\n",
      "assets/hpc_assembly/2_low_refinement_oj_0_0_os_0_85/4_6sae_1_protor_oj_0_0_os_0_85.jld2\n",
      "assets/hpc_assembly/2_low_refinement_oj_0_0_os_0_85/5_1ei7_1_protor_oj_0_0_os_0_85.jld2\n",
      "assets/hpc_assembly/2_low_refinement_oj_0_0_os_0_85/5_1ei7_8_protor_oj_0_0_os_0_85.jld2\n",
      "assets/hpc_assembly/2_low_refinement_oj_0_0_os_0_85/5_1ei7_9_protor_oj_0_0_os_0_85.jld2\n",
      "assets/hpc_assembly/2_low_refinement_oj_0_0_os_0_85/5_2tmv_10_protor_oj_0_0_os_0_85.jld2\n",
      "assets/hpc_assembly/2_low_refinement_oj_0_0_os_0_85/5_2tmv_1_protor_oj_0_0_os_0_85.jld2\n",
      "assets/hpc_assembly/2_low_refinement_oj_0_0_os_0_85/5_6r7m_16_protor_oj_0_0_os_0_85.jld2\n",
      "assets/hpc_assembly/2_low_refinement_oj_0_0_os_0_85/5_6r7m_17_protor_oj_0_0_os_0_85.jld2\n",
      "assets/hpc_assembly/2_low_refinement_oj_0_0_os_0_85/5_6r7m_18_protor_oj_0_0_os_0_85.jld2\n",
      "assets/hpc_assembly/2_low_refinement_oj_0_0_os_0_85/5_6r7m_19_protor_oj_0_0_os_0_85.jld2\n",
      "assets/hpc_assembly/2_low_refinement_oj_0_0_os_0_85/5_6r7m_20_protor_oj_0_0_os_0_85.jld2\n",
      "assets/hpc_assembly/2_low_refinement_oj_0_0_os_0_85/5_6r7m_21_protor_oj_0_0_os_0_85.jld2\n",
      "assets/hpc_assembly/2_low_refinement_oj_0_0_os_0_85/5_6r7m_2_protor_oj_0_0_os_0_85.jld2\n",
      "assets/hpc_assembly/2_low_refinement_oj_0_0_os_0_85/5_6r7m_3_protor_oj_0_0_os_0_85.jld2\n",
      "assets/hpc_assembly/2_low_refinement_oj_0_0_os_0_85/5_6r7m_4_protor_oj_0_0_os_0_85.jld2\n",
      "assets/hpc_assembly/2_low_refinement_oj_0_0_os_0_85/5_6r7m_5_protor_oj_0_0_os_0_85.jld2\n",
      "assets/hpc_assembly/2_low_refinement_oj_0_0_os_0_85/5_6r7m_6_protor_oj_0_0_os_0_85.jld2\n",
      "assets/hpc_assembly/2_low_refinement_oj_0_0_os_0_85/5_6r7m_7_protor_oj_0_0_os_0_85.jld2\n",
      "assets/hpc_assembly/2_low_refinement_oj_0_0_os_0_85/5_6r7m_8_protor_oj_0_0_os_0_85.jld2\n",
      "assets/hpc_assembly/2_low_refinement_oj_0_0_os_0_85/5_6r7m_9_protor_oj_0_0_os_0_85.jld2\n",
      "assets/hpc_assembly/2_low_refinement_oj_0_0_os_0_85/5_6sae_10_protor_oj_0_0_os_0_85.jld2\n",
      "assets/hpc_assembly/2_low_refinement_oj_0_0_os_0_85/5_6sae_11_protor_oj_0_0_os_0_85.jld2\n",
      "assets/hpc_assembly/2_low_refinement_oj_0_0_os_0_85/5_6sae_12_protor_oj_0_0_os_0_85.jld2\n",
      "assets/hpc_assembly/2_low_refinement_oj_0_0_os_0_85/5_6sae_1_protor_oj_0_0_os_0_85.jld2\n"
     ]
    }
   ],
   "source": [
    "folder = \"assets/hpc_assembly/2_low_refinement_oj_0_0_os_0_85/\"\n",
    "\n",
    "for file in readdir(folder)\n",
    "    try\n",
    "        @load \"$folder$file\" in_out_data\n",
    "        println(\"$folder$file\")\n",
    "        mindex = argmin(in_out_data.output.Es)\n",
    "        state = in_out_data.output.states[mindex]\n",
    "        id = parse(Int, split(file, \"_\")[1])\n",
    "        radii = Base.Iterators.collect(Base.Iterators.flatten([in_out_data.input.template_radii for _ in 1:in_out_data.input.number_of_molecules]))\n",
    "        MorphoMol.Utilities.state_to_poly(get_flat_realization(state, in_out_data.input.template_mol), radii, \"$(folder)$(id)\", in_out_data.input.number_of_molecules, length(in_out_data.input.template_radii))\n",
    "    catch\n",
    "        continue\n",
    "    end\n",
    "end"
   ]
  },
  {
   "cell_type": "code",
   "execution_count": 55,
   "metadata": {},
   "outputs": [
    {
     "data": {
      "text/plain": [
       "sum_of_permutation (generic function with 2 methods)"
      ]
     },
     "metadata": {},
     "output_type": "display_data"
    }
   ],
   "source": [
    "function get_matched_distances_between_transformation_offsets(template_centers_a, template_centers_b, state_a, state_b, subset_a::Vector{Int}, subset_b::Vector{Int})\n",
    "    function transform_dist(template_centers, state, ss, idx)\n",
    "        i = ss[1]\n",
    "        j = ss[2]\n",
    "        R1 = exp(RotationVecGenerator(state[(i-1) * 6 + 1:(i-1) * 6 + 3]...))\n",
    "        T1 = state[(i-1) * 6 + 4:(i-1) * 6 + 6]\n",
    "        R2 = exp(RotationVecGenerator(state[(j-1) * 6 + 1:(j-1) * 6 + 3]...))\n",
    "        T2 = state[(j-1) * 6 + 4:(j-1) * 6 + 6]\n",
    "        euclidean(T1 + R1 * template_centers[:,idx], T2 + R2 * template_centers[:,idx])\n",
    "    end\n",
    "\n",
    "    [abs(transform_dist(template_centers_a, state_a, subset_a, i) - transform_dist(template_centers_b, state_b, subset_b, i)) for i in 1:size(template_centers)[2]]\n",
    "end\n",
    "\n",
    "function sum_of_permutation(template_centers_a, template_centers_b, state_a, state_b, perm_a::Vector{Int}, perm_b::Vector{Int})\n",
    "    n = size(template_centers)[2]\n",
    "    d1 = sum(get_matched_distances_between_transformation_offsets(template_centers_a, template_centers_b, state_a, state_b, perm_a[[1,2]], perm_b[[1,2]])) / n\n",
    "    d2 = sum(get_matched_distances_between_transformation_offsets(template_centers_a, template_centers_b, state_a, state_b, perm_a[[2,3]], perm_b[[2,3]])) / n\n",
    "    d3 = sum(get_matched_distances_between_transformation_offsets(template_centers_a, template_centers_b, state_a, state_b, perm_a[[1,3]], perm_b[[1,3]])) / n\n",
    "    println(\"$(d1), $(d2), $(d3)\")\n",
    "    (d1 + d2 + d3)/3.0\n",
    "end"
   ]
  },
  {
   "cell_type": "code",
   "execution_count": 57,
   "metadata": {},
   "outputs": [
    {
     "name": "stdout",
     "output_type": "stream",
     "text": [
      "1.250584714175155, 18.68099252243644, 22.633764326901876\n",
      "14.188447187837824\n",
      "1.2639753574258612, 18.68099252243644, 22.6202347276333\n",
      "14.1884008691652\n",
      "1.250584714175155, 1.2640841390049435, 2.688687665460494\n",
      "1.7344521728801976\n",
      "18.68110130401552, 1.2640841390049435, 22.6202347276333\n",
      "14.188473390217922\n",
      "1.2639753574258612, 1.2506931265693904, 2.688687665460494\n",
      "1.7344520498185816\n",
      "18.68110130401552, 1.2506931265693904, 22.633764326901876\n",
      "14.188519585828928\n"
     ]
    }
   ],
   "source": [
    "@load \"assets/hpc_assembly/3_6r7m_assembled_oj_0_0_os_0_85/49_6r7m_protor_oj_0_0_os_0_85.jld2\" in_out_data\n",
    "state_sim = in_out_data.output.states[argmin(in_out_data.output.Es)]\n",
    "template_mol_sim = in_out_data.input.template_mol\n",
    "\n",
    "template_mol_exp, _ = MorphoMol.Utilities.poly_to_state(\"assets/input/poly/6r7m_protor.poly\")\n",
    "template_mol_exp = reshape(template_mol_exp,(3,Int(length(template_mol_exp) / 3)))\n",
    "\n",
    "R1 = log(RotMatrix(@SMatrix[0.628642  0.777695  0.000000; -0.777695  0.628642  0.000000; 0.000000  0.000000  1.000000]))\n",
    "T1 = @SVector[-69.28043, 195.91352, -49.35000]\n",
    "\n",
    "R2 = log(RotMatrix(@SMatrix[0.874450  0.485115  0.000000; -0.485115  0.874450  0.000000; 0.000000  0.000000  1.000000]))\n",
    "T2 = @SVector[-61.30589, 104.11829, -47.94000]\n",
    "\n",
    "R3 = log(RotMatrix(@SMatrix[0.992567  0.121696  0.000000; -0.121696  0.992567  0.000000; 0.000000  0.000000  1.000000]))\n",
    "T3 = @SVector[-19.48193, 22.01644, -46.53000]\n",
    "\n",
    "state_exp_assembled = Vector{Float64}([])\n",
    "for (R,T) in [(R1, T1), (R2, T2), (R3, T3)]\n",
    "    state_exp_assembled = [state_exp_assembled; [R[3,2], R[1,3], R[2,1], T[1], T[2], T[3]]]\n",
    "end\n",
    "\n",
    "permutations = [[1, 2, 3], [1, 3, 2], [2, 1, 3], [2, 3, 1], [3,1,2], [3,2,1]]\n",
    "for perm in permutations\n",
    "    println(sum_of_permutation(template_mol_exp, template_mol_sim, state_exp_assembled, state_sim, [1, 2, 3], perm))\n",
    "end"
   ]
  },
  {
   "cell_type": "code",
   "execution_count": 58,
   "metadata": {},
   "outputs": [
    {
     "name": "stdout",
     "output_type": "stream",
     "text": [
      "1.060546051243098, 1.7233861453834445, 2.704512138639089\n",
      "1.829481445088544\n",
      "\n",
      "3.8582220739511452, 1.7233861453834445, 7.206604684868613\n",
      "4.262737634734401\n",
      "\n",
      "1.060546051243098, 1.9544367320546299, 6.025618439072101\n",
      "3.0135337407899434\n",
      "\n",
      "5.358151778229962, 1.9544367320546299, 7.206604684868613\n",
      "4.839731065051068\n",
      "\n",
      "3.8582220739511452, 5.183991323542944, 6.025618439072101\n",
      "5.02261061218873\n",
      "\n",
      "5.358151778229962, 5.183991323542944, 2.704512138639089\n",
      "4.415551746803998\n",
      "\n"
     ]
    }
   ],
   "source": [
    "@load \"assets/hpc_assembly/3_6r7m_stacked_oj_0_0_os_0_85/43_6r7m_protor_oj_0_0_os_0_85.jld2\" in_out_data\n",
    "state_sim = in_out_data.output.states[argmin(in_out_data.output.Es)]\n",
    "template_mol_sim = in_out_data.input.template_mol\n",
    "\n",
    "template_mol_exp, _ = MorphoMol.Utilities.poly_to_state(\"assets/input/poly/6r7m_protor.poly\")\n",
    "template_mol_exp = reshape(template_mol_exp,(3,Int(length(template_mol_exp) / 3)))\n",
    "\n",
    "R1 = log(RotMatrix(@SMatrix[0.628642  0.777695  0.000000; -0.777695  0.628642  0.000000; 0.000000  0.000000  1.000000]))\n",
    "T1 = @SVector[-69.28043, 195.91352, -49.35000]\n",
    "\n",
    "R2 = log(RotMatrix(@SMatrix[0.874450  0.485115  0.000000; -0.485115  0.874450  0.000000; 0.000000  0.000000  1.000000]))\n",
    "T2 = @SVector[-61.30589, 104.11829, -47.94000]\n",
    "\n",
    "R3 = log(RotMatrix(@SMatrix[0.803441  0.595384  0.000000; -0.595384  0.803441  0.000000; 0.000000  0.000000  1.000000]))\n",
    "T3 = @SVector[-67.99970, 135.02619, -25.38000]\n",
    "\n",
    "\n",
    "state_exp_assembled = Vector{Float64}([])\n",
    "for (R,T) in [(R1, T1), (R2, T2), (R3, T3)]\n",
    "    state_exp_assembled = [state_exp_assembled; [R[3,2], R[1,3], R[2,1], T[1], T[2], T[3]]]\n",
    "end\n",
    "\n",
    "permutations = [[1, 2, 3], [1, 3, 2], [2, 1, 3], [2, 3, 1], [3,1,2], [3,2,1]]\n",
    "for perm in permutations\n",
    "    println(sum_of_permutation(template_mol_exp, template_mol_sim, state_exp_assembled, state_sim, [1, 2, 3], perm))\n",
    "    println()\n",
    "end"
   ]
  }
 ],
 "metadata": {
  "kernelspec": {
   "display_name": "Julia 1.8.5",
   "language": "julia",
   "name": "julia-1.8"
  },
  "language_info": {
   "file_extension": ".jl",
   "mimetype": "application/julia",
   "name": "julia",
   "version": "1.8.5"
  },
  "orig_nbformat": 4
 },
 "nbformat": 4,
 "nbformat_minor": 2
}
