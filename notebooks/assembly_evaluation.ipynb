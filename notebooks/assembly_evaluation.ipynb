{
 "cells": [
  {
   "cell_type": "code",
   "execution_count": 1,
   "metadata": {},
   "outputs": [
    {
     "name": "stderr",
     "output_type": "stream",
     "text": [
      "\u001b[32m\u001b[1m  Activating\u001b[22m\u001b[39m project at `~/Desktop/Doktor/MorphoMol/MorphoMolMonteCarlo`\n"
     ]
    }
   ],
   "source": [
    "import Pkg; \n",
    "\n",
    "if split(pwd(),\"/\")[end] == \"notebooks\"\n",
    "    cd(joinpath(@__DIR__, \"../\"))\n",
    "    Pkg.activate(\"Project.toml\")\n",
    "end\n",
    "\n",
    "using MorphoMol\n",
    "using StaticArrays\n",
    "using Rotations\n",
    "using Distances\n",
    "using JLD2"
   ]
  },
  {
   "cell_type": "code",
   "execution_count": 3,
   "metadata": {},
   "outputs": [],
   "source": [
    "folder = \"assets/hpc_assembly/3_6r7m_assembled_oj_0_0_os_0_85/\"\n",
    "#folder = \"assets/hpc_assembly/3_6r7m_stacked_oj_0_0_os_0_85/\"\n",
    "max = 1\n",
    "for file in readdir(folder)\n",
    "    if split(file, \".\")[end] == \"jld2\"\n",
    "        max = max < parse(Int, split(file, \"_\")[1]) ? parse(Int, split(file, \"_\")[1]) : max\n",
    "    end\n",
    "end\n",
    "\n",
    "evaluation_strings = [\"\" for _ in 1:max]\n",
    "for file in readdir(folder)\n",
    "    if split(file, \".\")[end] == \"jld2\"\n",
    "        @load \"$folder$file\" in_out_data\n",
    "        id = parse(Int, split(file, \"_\")[1])\n",
    "        string = \"$(id): $(in_out_data.input.T) | $(in_out_data.input.ε) | $(in_out_data.output.αs[end]) | $(in_out_data.output.Es[1]), $(minimum(in_out_data.output.Es)), $(in_out_data.output.Es[end])\"\n",
    "        evaluation_strings[id] = string\n",
    "    end\n",
    "end"
   ]
  },
  {
   "cell_type": "code",
   "execution_count": 4,
   "metadata": {},
   "outputs": [
    {
     "name": "stdout",
     "output_type": "stream",
     "text": [
      "\n",
      "\n",
      "\n",
      "\n",
      "\n",
      "\n",
      "\n",
      "\n",
      "\n",
      "\n",
      "11: 2.0 | 0.001 | 0.76650804 | 12169.566358056172, 12167.2173633987, 12249.712112751124\n",
      "12: 2.0 | 0.001 | 0.7467844 | 12169.566358056172, 12167.032218678713, 12291.353717390131\n",
      "13: 2.0 | 0.001 | 0.80403346 | 12169.566358056172, 12166.689486914558, 12225.037356925466\n",
      "14: 2.0 | 0.001 | 0.7905313 | 12169.566358056172, 12167.70688242698, 12225.83411195816\n",
      "15: 2.0 | 0.001 | 0.7466495 | 12169.566358056172, 12167.918953802699, 12285.065525008342\n",
      "16: 2.0 | 0.001 | 0.75485474 | 12169.566358056172, 12167.982937889921, 12214.916185598064\n",
      "17: 2.0 | 0.001 | 0.72323173 | 12169.566358056172, 12166.040715064779, 12238.46759809368\n",
      "18: 2.0 | 0.001 | 0.7835406 | 12169.566358056172, 12165.106618405653, 12226.640088009704\n",
      "19: 2.0 | 0.001 | 0.77945644 | 12169.566358056172, 12167.209035919193, 12237.791491360264\n",
      "20: 2.0 | 0.001 | 0.7813851 | 12169.566358056172, 12166.757142373854, 12251.742331865033\n",
      "21: 2.0 | 0.003 | 0.32538933 | 12169.566358056172, 12169.566358056172, 12221.394554937302\n",
      "22: 2.0 | 0.003 | 0.5110783 | 12169.566358056172, 12169.566358056172, 12221.40646118196\n",
      "23: 2.0 | 0.003 | 0.74596524 | 12169.566358056172, 12169.566358056172, 12290.126629520219\n",
      "24: 2.0 | 0.003 | 0.43113223 | 12169.566358056172, 12168.066534609346, 12283.177731719072\n",
      "25: 2.0 | 0.003 | 0.43376523 | 12169.566358056172, 12168.973743859517, 12257.110587605515\n",
      "26: 2.0 | 0.003 | 0.52747256 | 12169.566358056172, 12169.566358056172, 12201.554015652588\n",
      "27: 2.0 | 0.003 | 0.2508546 | 12169.566358056172, 12169.566358056172, 12448.257248109445\n",
      "28: 2.0 | 0.003 | 0.53023505 | 12169.566358056172, 12168.699205513269, 12237.399989445488\n",
      "29: 2.0 | 0.003 | 0.43455496 | 12169.566358056172, 12169.566358056172, 12265.721254957316\n",
      "30: 2.0 | 0.003 | 0.46432617 | 12169.566358056172, 12169.566358056172, 12251.275402511139\n",
      "31: 2.0 | 0.005 | 0.080784574 | 12169.566358056172, 12169.566358056172, 12762.863388681695\n",
      "32: 2.0 | 0.005 | 0.08559671 | 12169.566358056172, 12169.566358056172, 12238.699154314565\n",
      "33: 2.0 | 0.005 | 0.1570773 | 12169.566358056172, 12169.566358056172, 12222.802380120911\n",
      "34: 2.0 | 0.005 | 0.5507324 | 12169.566358056172, 12169.566358056172, 12299.594397004952\n",
      "35: 2.0 | 0.005 | 0.1849624 | 12169.566358056172, 12169.566358056172, 12228.990004596099\n",
      "36: 2.0 | 0.005 | 0.43900192 | 12169.566358056172, 12169.566358056172, 12298.134367864035\n",
      "37: 2.0 | 0.005 | 0.38037077 | 12169.566358056172, 12169.566358056172, 12274.50295050953\n",
      "38: 2.0 | 0.005 | 0.17754011 | 12169.566358056172, 12169.566358056172, 12299.427895599563\n",
      "39: 2.0 | 0.005 | 0.45201373 | 12169.566358056172, 12169.566358056172, 12293.576555153542\n",
      "40: 2.0 | 0.005 | 0.12 | 12169.566358056172, 12169.566358056172, 12188.983969413324\n",
      "41: 2.4 | 0.001 | 0.79982454 | 12169.566358056172, 12166.379997800079, 12219.432075287383\n",
      "42: 2.4 | 0.001 | 0.77225554 | 12169.566358056172, 12166.310597914206, 12255.404399658099\n",
      "43: 2.4 | 0.001 | 0.81287193 | 12169.566358056172, 12168.58102960486, 12269.148309801709\n",
      "44: 2.4 | 0.001 | 0.7543366 | 12169.566358056172, 12167.123388138518, 12236.851218617241\n",
      "45: 2.4 | 0.001 | 0.8098411 | 12169.566358056172, 12167.496258269266, 12277.764192611046\n",
      "46: 2.4 | 0.001 | 0.8131047 | 12169.566358056172, 12168.01666300737, 12225.813711114926\n",
      "47: 2.4 | 0.001 | 0.8210828 | 12169.566358056172, 12166.329917058363, 12213.713978773669\n",
      "48: 2.4 | 0.001 | 0.79350805 | 12169.566358056172, 12165.934543986494, 12287.344350859114\n",
      "49: 2.4 | 0.001 | 0.7726719 | 12169.566358056172, 12162.9162913631, 12218.36515096382\n",
      "50: 2.4 | 0.001 | 0.80617446 | 12169.566358056172, 12168.893751057452, 12205.294847788304\n",
      "51: 2.4 | 0.003 | 0.44533822 | 12169.566358056172, 12169.566358056172, 12234.827759799944\n",
      "52: 2.4 | 0.003 | 0.6407923 | 12169.566358056172, 12169.566358056172, 12285.666698548954\n",
      "53: 2.4 | 0.003 | 0.7443775 | 12169.566358056172, 12169.566358056172, 12282.23834451382\n",
      "54: 2.4 | 0.003 | 0.58294606 | 12169.566358056172, 12167.873963677222, 12250.531781470572\n",
      "55: 2.4 | 0.003 | 0.67297673 | 12169.566358056172, 12169.354346548354, 12299.431107136024\n",
      "56: 2.4 | 0.003 | 0.5782478 | 12169.566358056172, 12168.1713735011, 12257.90348016211\n",
      "57: 2.4 | 0.003 | 0.20675883 | 12169.566358056172, 12169.566358056172, 12217.481194169703\n",
      "58: 2.4 | 0.003 | 0.19661294 | 12169.566358056172, 12169.566358056172, 12256.902645862492\n",
      "59: 2.4 | 0.003 | 0.5343915 | 12169.566358056172, 12169.566358056172, 12260.572572546986\n",
      "60: 2.4 | 0.003 | 0.48642242 | 12169.566358056172, 12169.548627285965, 12232.41186338179\n",
      "61: 2.4 | 0.005 | 0.39106655 | 12169.566358056172, 12169.200641715626, 12304.965550271509\n",
      "62: 2.4 | 0.005 | 0.3418791 | 12169.566358056172, 12169.566358056172, 12278.191088006946\n",
      "63: 2.4 | 0.005 | 0.63042814 | 12169.566358056172, 12169.566358056172, 12299.948904263925\n",
      "64: 2.4 | 0.005 | 0.1593993 | 12169.566358056172, 12169.566358056172, 12546.5210850607\n",
      "65: 2.4 | 0.005 | 0.0076856567 | 12169.566358056172, 12169.566358056172, 12276.7144960799\n",
      "66: 2.4 | 0.005 | 0.1683015 | 12169.566358056172, 12169.566358056172, 12228.755493660348\n",
      "67: 2.4 | 0.005 | 0.2644817 | 12169.566358056172, 12169.566358056172, 12270.388095937951\n",
      "68: 2.4 | 0.005 | 0.2684757 | 12169.566358056172, 12169.566358056172, 12281.081894555777\n",
      "69: 2.4 | 0.005 | 0.033908255 | 12169.566358056172, 12167.130798061246, 12223.212109558863\n",
      "70: 2.4 | 0.005 | 0.55302507 | 12169.566358056172, 12169.566358056172, 12281.03957036925\n",
      "71: 2.8 | 0.001 | 0.7869904 | 12169.566358056172, 12166.478539467998, 12232.744812128269\n",
      "72: 2.8 | 0.001 | 0.82713884 | 12169.566358056172, 12167.93401432319, 12223.589339854945\n",
      "73: 2.8 | 0.001 | 0.7854802 | 12169.566358056172, 12165.200129800758, 12209.915898590389\n",
      "74: 2.8 | 0.001 | 0.76685596 | 12169.566358056172, 12167.201241707466, 12261.23361779854\n",
      "75: 2.8 | 0.001 | 0.7942186 | 12169.566358056172, 12166.867486534562, 12210.832175224492\n",
      "76: 2.8 | 0.001 | 0.82208216 | 12169.566358056172, 12167.799628271356, 12246.941187391421\n",
      "77: 2.8 | 0.001 | 0.83457917 | 12169.566358056172, 12168.187954819039, 12244.988532088117\n",
      "78: 2.8 | 0.001 | 0.758313 | 12169.566358056172, 12166.436885771089, 12248.266802698496\n",
      "79: 2.8 | 0.001 | 0.7808977 | 12169.566358056172, 12167.477479471869, 12240.07774816721\n",
      "80: 2.8 | 0.001 | 0.77216846 | 12169.566358056172, 12164.99919134693, 12259.761689995577\n",
      "81: 2.8 | 0.003 | 0.643453 | 12169.566358056172, 12169.566358056172, 12264.957048345113\n",
      "82: 2.8 | 0.003 | 0.66610545 | 12169.566358056172, 12169.566358056172, 12282.055041274094\n",
      "83: 2.8 | 0.003 | 0.52663 | 12169.566358056172, 12169.566358056172, 12233.39400480515\n",
      "84: 2.8 | 0.003 | 0.7196405 | 12169.566358056172, 12167.71932487179, 12259.438692705138\n",
      "85: 2.8 | 0.003 | 0.6415294 | 12169.566358056172, 12168.749864792777, 12303.010605897794\n",
      "86: 2.8 | 0.003 | 0.6178949 | 12169.566358056172, 12169.004389008216, 12321.22301520496\n"
     ]
    }
   ],
   "source": [
    "for elem in evaluation_strings\n",
    "    println(elem)\n",
    "end"
   ]
  },
  {
   "cell_type": "code",
   "execution_count": 4,
   "metadata": {},
   "outputs": [
    {
     "data": {
      "text/plain": [
       "get_flat_realization (generic function with 1 method)"
      ]
     },
     "metadata": {},
     "output_type": "display_data"
    }
   ],
   "source": [
    "function get_flat_realization(x, template_mol)\n",
    "    n_mol = length(x) ÷ 6\n",
    "    [(hvcat((n_mol), [exp(Rotations.RotationVecGenerator(x[i:i+2]...)) * template_mol .+ x[i+3:i+5] for i in 1:6:length(x)]...)...)...]\n",
    "end"
   ]
  },
  {
   "cell_type": "code",
   "execution_count": 45,
   "metadata": {},
   "outputs": [
    {
     "name": "stdout",
     "output_type": "stream",
     "text": [
      "assets/hpc_assembly/3_6r7m_stacked_oj_0_0_os_0_85/86_6r7m_protor_oj_0_0_os_0_85.jld2\n",
      "assets/hpc_assembly/3_6r7m_stacked_oj_0_0_os_0_85/87_6r7m_protor_oj_0_0_os_0_85.jld2\n",
      "assets/hpc_assembly/3_6r7m_stacked_oj_0_0_os_0_85/88_6r7m_protor_oj_0_0_os_0_85.jld2\n",
      "assets/hpc_assembly/3_6r7m_stacked_oj_0_0_os_0_85/89_6r7m_protor_oj_0_0_os_0_85.jld2\n",
      "assets/hpc_assembly/3_6r7m_stacked_oj_0_0_os_0_85/90_6r7m_protor_oj_0_0_os_0_85.jld2\n"
     ]
    }
   ],
   "source": [
    "folder = \"assets/hpc_assembly/3_6r7m_stacked_oj_0_0_os_0_85/\"\n",
    "\n",
    "for file in readdir(folder)\n",
    "    try\n",
    "        @load \"$folder$file\" in_out_data\n",
    "        println(\"$folder$file\")\n",
    "        mindex = argmin(in_out_data.output.Es)\n",
    "        state = in_out_data.output.states[mindex]\n",
    "        id = parse(Int, split(file, \"_\")[1])\n",
    "        radii = Base.Iterators.collect(Base.Iterators.flatten([in_out_data.input.template_radii for _ in 1:in_out_data.input.number_of_molecules]))\n",
    "        MorphoMol.Utilities.state_to_poly(get_flat_realization(state, in_out_data.input.template_mol), radii, \"$(folder)$(id)\", in_out_data.input.number_of_molecules, length(in_out_data.input.template_radii))\n",
    "    catch\n",
    "        continue\n",
    "    end\n",
    "end"
   ]
  },
  {
   "cell_type": "code",
   "execution_count": 55,
   "metadata": {},
   "outputs": [
    {
     "data": {
      "text/plain": [
       "sum_of_permutation (generic function with 2 methods)"
      ]
     },
     "metadata": {},
     "output_type": "display_data"
    }
   ],
   "source": [
    "function get_matched_distances_between_transformation_offsets(template_centers_a, template_centers_b, state_a, state_b, subset_a::Vector{Int}, subset_b::Vector{Int})\n",
    "    function transform_dist(template_centers, state, ss, idx)\n",
    "        i = ss[1]\n",
    "        j = ss[2]\n",
    "        R1 = exp(RotationVecGenerator(state[(i-1) * 6 + 1:(i-1) * 6 + 3]...))\n",
    "        T1 = state[(i-1) * 6 + 4:(i-1) * 6 + 6]\n",
    "        R2 = exp(RotationVecGenerator(state[(j-1) * 6 + 1:(j-1) * 6 + 3]...))\n",
    "        T2 = state[(j-1) * 6 + 4:(j-1) * 6 + 6]\n",
    "        euclidean(T1 + R1 * template_centers[:,idx], T2 + R2 * template_centers[:,idx])\n",
    "    end\n",
    "\n",
    "    [abs(transform_dist(template_centers_a, state_a, subset_a, i) - transform_dist(template_centers_b, state_b, subset_b, i)) for i in 1:size(template_centers)[2]]\n",
    "end\n",
    "\n",
    "function sum_of_permutation(template_centers_a, template_centers_b, state_a, state_b, perm_a::Vector{Int}, perm_b::Vector{Int})\n",
    "    n = size(template_centers)[2]\n",
    "    d1 = sum(get_matched_distances_between_transformation_offsets(template_centers_a, template_centers_b, state_a, state_b, perm_a[[1,2]], perm_b[[1,2]])) / n\n",
    "    d2 = sum(get_matched_distances_between_transformation_offsets(template_centers_a, template_centers_b, state_a, state_b, perm_a[[2,3]], perm_b[[2,3]])) / n\n",
    "    d3 = sum(get_matched_distances_between_transformation_offsets(template_centers_a, template_centers_b, state_a, state_b, perm_a[[1,3]], perm_b[[1,3]])) / n\n",
    "    println(\"$(d1), $(d2), $(d3)\")\n",
    "    (d1 + d2 + d3)/3.0\n",
    "end"
   ]
  },
  {
   "cell_type": "code",
   "execution_count": 57,
   "metadata": {},
   "outputs": [
    {
     "name": "stdout",
     "output_type": "stream",
     "text": [
      "1.250584714175155, 18.68099252243644, 22.633764326901876\n",
      "14.188447187837824\n",
      "1.2639753574258612, 18.68099252243644, 22.6202347276333\n",
      "14.1884008691652\n",
      "1.250584714175155, 1.2640841390049435, 2.688687665460494\n",
      "1.7344521728801976\n",
      "18.68110130401552, 1.2640841390049435, 22.6202347276333\n",
      "14.188473390217922\n",
      "1.2639753574258612, 1.2506931265693904, 2.688687665460494\n",
      "1.7344520498185816\n",
      "18.68110130401552, 1.2506931265693904, 22.633764326901876\n",
      "14.188519585828928\n"
     ]
    }
   ],
   "source": [
    "@load \"assets/hpc_assembly/3_6r7m_assembled_oj_0_0_os_0_85/49_6r7m_protor_oj_0_0_os_0_85.jld2\" in_out_data\n",
    "state_sim = in_out_data.output.states[argmin(in_out_data.output.Es)]\n",
    "template_mol_sim = in_out_data.input.template_mol\n",
    "\n",
    "template_mol_exp, _ = MorphoMol.Utilities.poly_to_state(\"assets/input/poly/6r7m_protor.poly\")\n",
    "template_mol_exp = reshape(template_mol_exp,(3,Int(length(template_mol_exp) / 3)))\n",
    "\n",
    "R1 = log(RotMatrix(@SMatrix[0.628642  0.777695  0.000000; -0.777695  0.628642  0.000000; 0.000000  0.000000  1.000000]))\n",
    "T1 = @SVector[-69.28043, 195.91352, -49.35000]\n",
    "\n",
    "R2 = log(RotMatrix(@SMatrix[0.874450  0.485115  0.000000; -0.485115  0.874450  0.000000; 0.000000  0.000000  1.000000]))\n",
    "T2 = @SVector[-61.30589, 104.11829, -47.94000]\n",
    "\n",
    "R3 = log(RotMatrix(@SMatrix[0.992567  0.121696  0.000000; -0.121696  0.992567  0.000000; 0.000000  0.000000  1.000000]))\n",
    "T3 = @SVector[-19.48193, 22.01644, -46.53000]\n",
    "\n",
    "state_exp_assembled = Vector{Float64}([])\n",
    "for (R,T) in [(R1, T1), (R2, T2), (R3, T3)]\n",
    "    state_exp_assembled = [state_exp_assembled; [R[3,2], R[1,3], R[2,1], T[1], T[2], T[3]]]\n",
    "end\n",
    "\n",
    "permutations = [[1, 2, 3], [1, 3, 2], [2, 1, 3], [2, 3, 1], [3,1,2], [3,2,1]]\n",
    "for perm in permutations\n",
    "    println(sum_of_permutation(template_mol_exp, template_mol_sim, state_exp_assembled, state_sim, [1, 2, 3], perm))\n",
    "end"
   ]
  },
  {
   "cell_type": "code",
   "execution_count": 58,
   "metadata": {},
   "outputs": [
    {
     "name": "stdout",
     "output_type": "stream",
     "text": [
      "1.060546051243098, 1.7233861453834445, 2.704512138639089\n",
      "1.829481445088544\n",
      "\n",
      "3.8582220739511452, 1.7233861453834445, 7.206604684868613\n",
      "4.262737634734401\n",
      "\n",
      "1.060546051243098, 1.9544367320546299, 6.025618439072101\n",
      "3.0135337407899434\n",
      "\n",
      "5.358151778229962, 1.9544367320546299, 7.206604684868613\n",
      "4.839731065051068\n",
      "\n",
      "3.8582220739511452, 5.183991323542944, 6.025618439072101\n",
      "5.02261061218873\n",
      "\n",
      "5.358151778229962, 5.183991323542944, 2.704512138639089\n",
      "4.415551746803998\n",
      "\n"
     ]
    }
   ],
   "source": [
    "@load \"assets/hpc_assembly/3_6r7m_stacked_oj_0_0_os_0_85/43_6r7m_protor_oj_0_0_os_0_85.jld2\" in_out_data\n",
    "state_sim = in_out_data.output.states[argmin(in_out_data.output.Es)]\n",
    "template_mol_sim = in_out_data.input.template_mol\n",
    "\n",
    "template_mol_exp, _ = MorphoMol.Utilities.poly_to_state(\"assets/input/poly/6r7m_protor.poly\")\n",
    "template_mol_exp = reshape(template_mol_exp,(3,Int(length(template_mol_exp) / 3)))\n",
    "\n",
    "R1 = log(RotMatrix(@SMatrix[0.628642  0.777695  0.000000; -0.777695  0.628642  0.000000; 0.000000  0.000000  1.000000]))\n",
    "T1 = @SVector[-69.28043, 195.91352, -49.35000]\n",
    "\n",
    "R2 = log(RotMatrix(@SMatrix[0.874450  0.485115  0.000000; -0.485115  0.874450  0.000000; 0.000000  0.000000  1.000000]))\n",
    "T2 = @SVector[-61.30589, 104.11829, -47.94000]\n",
    "\n",
    "R3 = log(RotMatrix(@SMatrix[0.803441  0.595384  0.000000; -0.595384  0.803441  0.000000; 0.000000  0.000000  1.000000]))\n",
    "T3 = @SVector[-67.99970, 135.02619, -25.38000]\n",
    "\n",
    "\n",
    "state_exp_assembled = Vector{Float64}([])\n",
    "for (R,T) in [(R1, T1), (R2, T2), (R3, T3)]\n",
    "    state_exp_assembled = [state_exp_assembled; [R[3,2], R[1,3], R[2,1], T[1], T[2], T[3]]]\n",
    "end\n",
    "\n",
    "permutations = [[1, 2, 3], [1, 3, 2], [2, 1, 3], [2, 3, 1], [3,1,2], [3,2,1]]\n",
    "for perm in permutations\n",
    "    println(sum_of_permutation(template_mol_exp, template_mol_sim, state_exp_assembled, state_sim, [1, 2, 3], perm))\n",
    "    println()\n",
    "end"
   ]
  }
 ],
 "metadata": {
  "kernelspec": {
   "display_name": "Julia 1.8.5",
   "language": "julia",
   "name": "julia-1.8"
  },
  "language_info": {
   "file_extension": ".jl",
   "mimetype": "application/julia",
   "name": "julia",
   "version": "1.8.5"
  },
  "orig_nbformat": 4
 },
 "nbformat": 4,
 "nbformat_minor": 2
}
