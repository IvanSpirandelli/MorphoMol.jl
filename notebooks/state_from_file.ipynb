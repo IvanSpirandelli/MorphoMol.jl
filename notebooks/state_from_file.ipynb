{
 "cells": [
  {
   "cell_type": "code",
   "execution_count": 1,
   "metadata": {},
   "outputs": [
    {
     "name": "stderr",
     "output_type": "stream",
     "text": [
      "\u001b[32m\u001b[1m  Activating\u001b[22m\u001b[39m project at `~/Desktop/Doktor/MorphoMol/MorphoMolMonteCarlo`\n"
     ]
    }
   ],
   "source": [
    "import Pkg; \n",
    "\n",
    "if split(pwd(),\"/\")[end] == \"notebooks\"\n",
    "    cd(joinpath(@__DIR__, \"../\"))\n",
    "    Pkg.activate(\"Project.toml\")\n",
    "end\n",
    "\n",
    "using MorphoMol\n",
    "\n",
    "using CairoMakie\n",
    "using LinearAlgebra\n",
    "using Random\n",
    "using Rotations\n",
    "using StaticArrays\n",
    "using Distributions\n",
    "using Distances\n",
    "using BenchmarkTools\n",
    "using JLD2"
   ]
  },
  {
   "cell_type": "code",
   "execution_count": null,
   "metadata": {},
   "outputs": [],
   "source": [
    "file = \"assets/input/jld2/large/6r7m_4_clumped.jld2\"\n",
    "@load file output_container\n",
    "\n",
    "molecules = output_container.initial_state\n",
    "mindex = argmin(output_container.Es)\n",
    "\n",
    "for (i, step) in enumerate(output_container.steps)\n",
    "    molecules.translations[step.index] += step.translation\n",
    "    molecules.rotations[step.index] = step.rotation * molecules.rotations[step.index]\n",
    "    if i == mindex\n",
    "        break\n",
    "    end\n",
    "end\n",
    "\n",
    "@save \"four_close.jld2\" molecules"
   ]
  },
  {
   "cell_type": "code",
   "execution_count": 109,
   "metadata": {},
   "outputs": [],
   "source": [
    "@load \"assets/input/jld2/2_6sag_protor_hardsphere_assembly.jld2\" template_mol template_radii x_init\n",
    "n_atoms_per_mol = length(template_mol) ÷ 3\n",
    "n_mol = length(x_init) ÷ 6\n",
    "template_mol = reshape(template_mol,(3,n_atoms_per_mol))\n",
    "radii = vcat([template_radii for i in 1:n_mol]...);\n",
    "MorphoMol.Utilities.state_to_poly(get_flat_realization(x_init, template_mol), radii, \"assets/output/start\", n_mol, n_atoms_per_mol)"
   ]
  }
 ],
 "metadata": {
  "kernelspec": {
   "display_name": "Julia 1.8.5",
   "language": "julia",
   "name": "julia-1.8"
  },
  "language_info": {
   "file_extension": ".jl",
   "mimetype": "application/julia",
   "name": "julia",
   "version": "1.8.5"
  },
  "orig_nbformat": 4
 },
 "nbformat": 4,
 "nbformat_minor": 2
}
