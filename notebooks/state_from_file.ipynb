{
 "cells": [
  {
   "cell_type": "code",
   "execution_count": 1,
   "metadata": {},
   "outputs": [
    {
     "name": "stderr",
     "output_type": "stream",
     "text": [
      "\u001b[32m\u001b[1m  Activating\u001b[22m\u001b[39m project at `~/Desktop/Doktor/MorphoMol/MorphoMolMonteCarlo`\n"
     ]
    }
   ],
   "source": [
    "import Pkg; \n",
    "\n",
    "if split(pwd(),\"/\")[end] == \"notebooks\"\n",
    "    cd(joinpath(@__DIR__, \"../\"))\n",
    "    Pkg.activate(\"Project.toml\")\n",
    "end\n",
    "\n",
    "using MorphoMol\n",
    "\n",
    "using CairoMakie\n",
    "using LinearAlgebra\n",
    "using Random\n",
    "using Rotations\n",
    "using StaticArrays\n",
    "using Distributions\n",
    "using Distances\n",
    "using BenchmarkTools\n",
    "using JLD2"
   ]
  },
  {
   "cell_type": "code",
   "execution_count": 88,
   "metadata": {},
   "outputs": [
    {
     "data": {
      "text/plain": [
       "normalize_centers (generic function with 1 method)"
      ]
     },
     "metadata": {},
     "output_type": "display_data"
    }
   ],
   "source": [
    "function normalize_centers(centers, radii)\n",
    "    X = reshape(centers, (3,Int(length(centers)/3)))\n",
    "    com = mean(eachcol(X))\n",
    "    X = (X .- com)'\n",
    "    (_,_,V) = svd(X, full = true)\n",
    "    X = (X*V)'\n",
    "    reshape(X, (1, size(X)[1] * size(X)[2]))\n",
    "end"
   ]
  },
  {
   "cell_type": "code",
   "execution_count": 95,
   "metadata": {},
   "outputs": [
    {
     "name": "stdout",
     "output_type": "stream",
     "text": [
      "[-6.110276929059617, -11.346446194348704, -0.0044799749439093746]\n"
     ]
    },
    {
     "data": {
      "text/plain": [
       "3-element Vector{Float64}:\n",
       " 12.220553858119201\n",
       " 22.692892388697537\n",
       "  0.008959949887908238"
      ]
     },
     "metadata": {},
     "output_type": "display_data"
    }
   ],
   "source": [
    "file = \"assets/input/poly/2_6sag_protor_hardsphere_assembly.poly\"\n",
    "n_mol = 2\n",
    "flat_centers, radii = MorphoMol.Utilities.poly_to_state(file)\n",
    "flat_centers = normalize_centers(flat_centers, radii)\n",
    "\n",
    "n = Int(length(flat_centers)/3/n_mol)\n",
    "m1 = flat_centers[1:n*3]\n",
    "m2 = flat_centers[n*3+1:end]\n",
    "template_radii = radii[1:n];\n",
    "\n",
    "X = reshape(m1, (3, n))\n",
    "Y = reshape(m2, (3, n))\n",
    "\n",
    "com1 = mean(eachcol(X))\n",
    "println(com1)\n",
    "\n",
    "X = X .- com1\n",
    "Y = Y .- com1\n",
    "\n",
    "com2 = mean(eachcol(Y))\n",
    "Y = Y .- com2\n",
    "Y = transpose(Y)\n",
    "\n",
    "U,S,V = svd(X*Y)\n",
    "R = RotMatrix{3}(V*transpose(U))\n",
    "T = com2"
   ]
  },
  {
   "cell_type": "code",
   "execution_count": 106,
   "metadata": {},
   "outputs": [
    {
     "data": {
      "text/plain": [
       "1×3618 Matrix{Float64}:\n",
       " 28.739  -3.13357  6.51482  27.9039  …  3.81332  32.1299  -5.94  2.04325"
      ]
     },
     "metadata": {},
     "output_type": "display_data"
    }
   ],
   "source": [
    "R_gen = log(R)\n",
    "x_init = [0.0, 0.0, 0.0, 0.0, 0.0, 0.0, R_gen[3,2], R_gen[1,3], R_gen[2,1], T[1], T[2], T[3]]\n",
    "template_mol = reshape(X, (1, size(X)[1] * size(X)[2]))"
   ]
  },
  {
   "cell_type": "code",
   "execution_count": 107,
   "metadata": {},
   "outputs": [],
   "source": [
    "jldsave(\"assets/input/jld2/2_6sag_protor_hardsphere_assembly.jld2\"; template_mol, template_radii, x_init)"
   ]
  },
  {
   "cell_type": "code",
   "execution_count": 108,
   "metadata": {},
   "outputs": [
    {
     "data": {
      "text/plain": [
       "get_flat_realization (generic function with 1 method)"
      ]
     },
     "metadata": {},
     "output_type": "display_data"
    }
   ],
   "source": [
    "function get_flat_realization(x, template_mol)\n",
    "    n_mol = length(x) ÷ 6\n",
    "    [(hvcat((n_mol), [exp(Rotations.RotationVecGenerator(x[i:i+2]...)) * template_mol .+ x[i+3:i+5] for i in 1:6:length(x)]...)...)...]\n",
    "end"
   ]
  },
  {
   "cell_type": "code",
   "execution_count": 109,
   "metadata": {},
   "outputs": [],
   "source": [
    "@load \"assets/input/jld2/2_6sag_protor_hardsphere_assembly.jld2\" template_mol template_radii x_init\n",
    "n_atoms_per_mol = length(template_mol) ÷ 3\n",
    "n_mol = length(x_init) ÷ 6\n",
    "template_mol = reshape(template_mol,(3,n_atoms_per_mol))\n",
    "radii = vcat([template_radii for i in 1:n_mol]...);\n",
    "MorphoMol.Utilities.state_to_poly(get_flat_realization(x_init, template_mol), radii, \"assets/output/start\", n_mol, n_atoms_per_mol)"
   ]
  }
 ],
 "metadata": {
  "kernelspec": {
   "display_name": "Julia 1.8.5",
   "language": "julia",
   "name": "julia-1.8"
  },
  "language_info": {
   "file_extension": ".jl",
   "mimetype": "application/julia",
   "name": "julia",
   "version": "1.8.5"
  },
  "orig_nbformat": 4
 },
 "nbformat": 4,
 "nbformat_minor": 2
}
