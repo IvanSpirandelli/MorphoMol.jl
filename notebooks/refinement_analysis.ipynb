{
 "cells": [
  {
   "cell_type": "code",
   "execution_count": 2,
   "metadata": {},
   "outputs": [
    {
     "name": "stderr",
     "output_type": "stream",
     "text": [
      "\u001b[32m\u001b[1m  Activating\u001b[22m\u001b[39m project at `~/Desktop/Doktor/MorphoMol/MorphoMolMonteCarlo`\n"
     ]
    }
   ],
   "source": [
    "import Pkg; \n",
    "\n",
    "if split(pwd(),\"/\")[end] == \"notebooks\"\n",
    "    cd(joinpath(@__DIR__, \"../\"))\n",
    "    Pkg.activate(\"Project.toml\")\n",
    "end\n",
    "\n",
    "using MorphoMol\n",
    "using StaticArrays\n",
    "using Rotations\n",
    "using Distances\n",
    "using JLD2"
   ]
  },
  {
   "cell_type": "code",
   "execution_count": 3,
   "metadata": {},
   "outputs": [
    {
     "data": {
      "text/plain": [
       "get_flat_realization (generic function with 1 method)"
      ]
     },
     "metadata": {},
     "output_type": "display_data"
    }
   ],
   "source": [
    "function get_flat_realization(x, template_mol)\n",
    "    n_mol = length(x) ÷ 6\n",
    "    [(hvcat((n_mol), [exp(Rotations.RotationVecGenerator(x[i:i+2]...)) * template_mol .+ x[i+3:i+5] for i in 1:6:length(x)]...)...)...]\n",
    "end"
   ]
  },
  {
   "cell_type": "code",
   "execution_count": 27,
   "metadata": {},
   "outputs": [
    {
     "data": {
      "text/plain": [
       "average_offset_distance (generic function with 1 method)"
      ]
     },
     "metadata": {},
     "output_type": "display_data"
    }
   ],
   "source": [
    "function get_matched_distances_between_transformation_offsets(template_centers_a, template_centers_b, state_a, state_b)\n",
    "    function transform_dist(template_centers, state, idx)\n",
    "        i = 1\n",
    "        j = 2\n",
    "        R1 = exp(RotationVecGenerator(state[(i-1) * 6 + 1:(i-1) * 6 + 3]...))\n",
    "        T1 = state[(i-1) * 6 + 4:(i-1) * 6 + 6]\n",
    "        R2 = exp(RotationVecGenerator(state[(j-1) * 6 + 1:(j-1) * 6 + 3]...))\n",
    "        T2 = state[(j-1) * 6 + 4:(j-1) * 6 + 6]\n",
    "        euclidean(T1 + R1 * template_centers[:,idx], T2 + R2 * template_centers[:,idx])\n",
    "    end\n",
    "\n",
    "    [abs(transform_dist(template_centers_a, state_a, i) - transform_dist(template_centers_b, state_b, i)) for i in 1:size(template_centers_a)[2]]\n",
    "end\n",
    "\n",
    "function average_offset_distance(template_centers_a, template_centers_b, state_a, state_b)\n",
    "    n = size(template_centers_a)[2]\n",
    "    sum(get_matched_distances_between_transformation_offsets(template_centers_a, template_centers_b, state_a, state_b)) / n\n",
    "end"
   ]
  },
  {
   "cell_type": "code",
   "execution_count": 5,
   "metadata": {},
   "outputs": [
    {
     "data": {
      "text/plain": [
       "\"assets/hpc_assembly/2_low_refinement_oj_0_0_os_0_85/\""
      ]
     },
     "metadata": {},
     "output_type": "display_data"
    }
   ],
   "source": [
    "folder = \"assets/hpc_assembly/2_low_refinement_oj_0_0_os_0_85/\"\n"
   ]
  },
  {
   "cell_type": "code",
   "execution_count": 6,
   "metadata": {},
   "outputs": [
    {
     "ename": "BoundsError",
     "evalue": "BoundsError: attempt to access 2-element Vector{SubString{String}} at index [3]",
     "output_type": "error",
     "traceback": [
      "BoundsError: attempt to access 2-element Vector{SubString{String}} at index [3]\n",
      "\n",
      "Stacktrace:\n",
      " [1] getindex(A::Vector{SubString{String}}, i1::Int64)\n",
      "   @ Base ./array.jl:924\n",
      " [2] top-level scope\n",
      "   @ ~/Desktop/Doktor/MorphoMol/MorphoMolMonteCarlo/notebooks/refinement_analysis.ipynb:3"
     ]
    }
   ],
   "source": [
    "for file in readdir(folder)\n",
    "    mt = split(file, \"_\")[2]\n",
    "    num = split(file, \"_\")[3]\n",
    "    mkpath(joinpath(folder, \"$(mt)_$(num)\"))\n",
    "    mv(joinpath(folder, file), joinpath(folder, \"$mt$num\", file))\n",
    "end"
   ]
  },
  {
   "cell_type": "code",
   "execution_count": 28,
   "metadata": {},
   "outputs": [
    {
     "name": "stdout",
     "output_type": "stream",
     "text": [
      "6r7m 8138.924225194975 0.9982893464282006\n",
      "6sae 8107.279622532146 1.282118292845441\n",
      "6sag 8097.730817128499 1.1146356769067602\n",
      "2tmv 8056.550361360152 21.083570792125702\n",
      "1ei7 8185.798536861612 24.19202036075877\n"
     ]
    }
   ],
   "source": [
    "min_path_by_mol = Dict(\"6r7m\" => \"\", \"6sae\" => \"\", \"6sag\" => \"\", \"2tmv\" => \"\", \"1ei7\" => \"\")\n",
    "E_min_by_mol = Dict(\"6r7m\" => Inf, \"6sae\" => Inf, \"6sag\" => Inf, \"2tmv\" => Inf, \"1ei7\" => Inf)\n",
    "mol_types = [\"6r7m\", \"6sae\", \"6sag\", \"2tmv\", \"1ei7\"]\n",
    "\n",
    "rwm_hot_start_folder = \"assets/input/jld2/2_low/\"\n",
    "for mol_type in mol_types\n",
    "    for file in readdir(rwm_hot_start_folder)\n",
    "        if  split(file, \".\")[end] == \"jld2\" && split(file, \"_\")[1] == mol_type\n",
    "            try\n",
    "                @load \"$rwm_hot_start_folder$file\" template_mol template_radii x_init\n",
    "                template_mol = reshape(template_mol,(3,length(template_radii)))\n",
    "                realization = get_flat_realization(x_init, template_mol)\n",
    "                E = MorphoMol.Energies.solvation_free_energy(\n",
    "                    realization, \n",
    "                    length(template_radii),\n",
    "                    [template_radii; template_radii],\n",
    "                    1.4,\n",
    "                    MorphoMol.Energies.get_prefactors(1.4, 0.3665),\n",
    "                    0.0,\n",
    "                    0.85\n",
    "                    )\n",
    "                if E_min_by_mol[mol_type] > E\n",
    "                    E_min_by_mol[mol_type] = E\n",
    "                    min_path_by_mol[mol_type] = \"$rwm_hot_start_folder/$file\"\n",
    "                end\n",
    "            catch e\n",
    "                println(e)\n",
    "            end\n",
    "        end\n",
    "    end\n",
    "end\n",
    "\n",
    "rwm_hot_start_folder = \"assets/input/jld2/2_low/\"\n",
    "for mol_type in mol_types\n",
    "    if min_path_by_mol[mol_type] != \"\"\n",
    "        @load min_path_by_mol[mol_type] template_mol template_radii x_init\n",
    "        template_mol = reshape(template_mol,(3,length(template_radii)))\n",
    "        realization = get_flat_realization(x_init, template_mol)\n",
    "        E = MorphoMol.Energies.solvation_free_energy(\n",
    "            realization, \n",
    "            length(template_radii),\n",
    "            [template_radii; template_radii],\n",
    "            1.4,\n",
    "            MorphoMol.Energies.get_prefactors(1.4, 0.3665),\n",
    "            0.0,\n",
    "            0.85\n",
    "            )\n",
    "        template_mol_sim = deepcopy(template_mol)\n",
    "        x_sim = deepcopy(x_init)\n",
    "        @load \"assets/input/jld2/experimental/2_$(mol_type)_protor.jld2\" template_mol template_radii x_init\n",
    "        println(mol_type, \" \", minimum(E), \" \", average_offset_distance(template_mol_sim, template_mol, x_sim, x_init))\n",
    "    end\n",
    "end\n"
   ]
  },
  {
   "cell_type": "code",
   "execution_count": 29,
   "metadata": {},
   "outputs": [],
   "source": [
    "E_min_by_mol = Dict(\"6r7m\" => Inf, \"6sae\" => Inf, \"6sag\" => Inf, \"2tmv\" => Inf, \"1ei7\" => Inf)\n",
    "min_path_by_mol = Dict(\"6r7m\" => \"\", \"6sae\" => \"\", \"6sag\" => \"\", \"2tmv\" => \"\", \"1ei7\" => \"\")\n",
    "for mol_type in mol_types\n",
    "    E_min = E_min_by_mol[mol_type]\n",
    "    min_file_path = \"\"\n",
    "    for sf in readdir(folder)\n",
    "        for file in readdir(\"$folder$sf\")\n",
    "            if  split(file, \".\")[end] == \"jld2\" && split(file, \"_\")[2] == mol_type\n",
    "                try\n",
    "                    @load \"$folder$sf/$file\" in_out_data\n",
    "                    if E_min > minimum(in_out_data.output.Es)\n",
    "                        E_min = minimum(in_out_data.output.Es)\n",
    "                        min_file_path = \"$folder$sf/$file\"\n",
    "                    end\n",
    "                catch e\n",
    "                    println(e)\n",
    "                end\n",
    "            end\n",
    "        end\n",
    "    end\n",
    "    min_path_by_mol[mol_type] = min_file_path\n",
    "end"
   ]
  },
  {
   "cell_type": "code",
   "execution_count": 30,
   "metadata": {},
   "outputs": [
    {
     "name": "stdout",
     "output_type": "stream",
     "text": [
      "Dict(\"6sag\" => \"assets/hpc_assembly/2_low_refinement_oj_0_0_os_0_85/6sag_4/1_6sag_4_protor_oj_0_0_os_0_85.jld2\", \"1ei7\" => \"assets/hpc_assembly/2_low_refinement_oj_0_0_os_0_85/1ei7_22/5_1ei7_22_protor_oj_0_0_os_0_85.jld2\", \"6r7m\" => \"assets/hpc_assembly/2_low_refinement_oj_0_0_os_0_85/6r7m_20/1_6r7m_20_protor_oj_0_0_os_0_85.jld2\", \"6sae\" => \"assets/hpc_assembly/2_low_refinement_oj_0_0_os_0_85/6sae_10/5_6sae_10_protor_oj_0_0_os_0_85.jld2\", \"2tmv\" => \"assets/hpc_assembly/2_low_refinement_oj_0_0_os_0_85/2tmv_14/2_2tmv_14_protor_oj_0_0_os_0_85.jld2\")\n"
     ]
    }
   ],
   "source": [
    "println(min_path_by_mol)"
   ]
  },
  {
   "cell_type": "code",
   "execution_count": 31,
   "metadata": {},
   "outputs": [
    {
     "name": "stdout",
     "output_type": "stream",
     "text": [
      "6r7m 8133.919782723373 1.069680143464607\n",
      "6sae 8106.643653792454 1.005372671618535\n",
      "6sag 8104.043316534082 10.18165070000548\n",
      "2tmv 8055.495149426554 21.058481312588814\n",
      "1ei7 8185.459941798851 10.922882261275866\n"
     ]
    }
   ],
   "source": [
    "for mol_type in [\"6r7m\", \"6sae\", \"6sag\", \"2tmv\", \"1ei7\"]\n",
    "    if min_path_by_mol[mol_type] != \"\"\n",
    "        @load min_path_by_mol[mol_type] in_out_data\n",
    "        template_mol_sim = in_out_data.input.template_mol\n",
    "        x_sim = in_out_data.output.states[1]\n",
    "        \n",
    "        @load \"assets/input/jld2/experimental/2_$(mol_type)_protor.jld2\" template_mol template_radii x_init\n",
    "        println(mol_type, \" \", minimum(in_out_data.output.Es), \" \", average_offset_distance(template_mol_sim, template_mol, x_sim, x_init))\n",
    "    end\n",
    "end"
   ]
  }
 ],
 "metadata": {
  "kernelspec": {
   "display_name": "Julia 1.8.5",
   "language": "julia",
   "name": "julia-1.8"
  },
  "language_info": {
   "file_extension": ".jl",
   "mimetype": "application/julia",
   "name": "julia",
   "version": "1.8.5"
  },
  "orig_nbformat": 4
 },
 "nbformat": 4,
 "nbformat_minor": 2
}
