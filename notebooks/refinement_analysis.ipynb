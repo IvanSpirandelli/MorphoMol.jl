{
 "cells": [
  {
   "cell_type": "code",
   "execution_count": 1,
   "metadata": {},
   "outputs": [
    {
     "name": "stderr",
     "output_type": "stream",
     "text": [
      "\u001b[32m\u001b[1m  Activating\u001b[22m\u001b[39m project at `~/Doktor/Code/MorphoMolMonteCarlo`\n"
     ]
    }
   ],
   "source": [
    "import Pkg; \n",
    "\n",
    "if split(pwd(),\"/\")[end] == \"notebooks\"\n",
    "    cd(joinpath(@__DIR__, \"../\"))\n",
    "    Pkg.activate(\"Project.toml\")\n",
    "end\n",
    "\n",
    "using MorphoMol\n",
    "using StaticArrays\n",
    "using Rotations\n",
    "using Distances\n",
    "using JLD2"
   ]
  },
  {
   "cell_type": "code",
   "execution_count": 2,
   "metadata": {},
   "outputs": [
    {
     "data": {
      "text/plain": [
       "get_flat_realization (generic function with 1 method)"
      ]
     },
     "execution_count": 2,
     "metadata": {},
     "output_type": "execute_result"
    }
   ],
   "source": [
    "function get_flat_realization(x, template_mol)\n",
    "    n_mol = length(x) ÷ 6\n",
    "    [(hvcat((n_mol), [exp(Rotations.RotationVecGenerator(x[i:i+2]...)) * template_mol .+ x[i+3:i+5] for i in 1:6:length(x)]...)...)...]\n",
    "end"
   ]
  },
  {
   "cell_type": "code",
   "execution_count": 3,
   "metadata": {},
   "outputs": [
    {
     "data": {
      "text/plain": [
       "average_offset_distance (generic function with 1 method)"
      ]
     },
     "execution_count": 3,
     "metadata": {},
     "output_type": "execute_result"
    }
   ],
   "source": [
    "function get_matched_distances_between_transformation_offsets(template_centers_a, template_centers_b, state_a, state_b)\n",
    "    function transform_dist(template_centers, state, idx)\n",
    "        i = 1\n",
    "        j = 2\n",
    "        R1 = exp(RotationVecGenerator(state[(i-1) * 6 + 1:(i-1) * 6 + 3]...))\n",
    "        T1 = state[(i-1) * 6 + 4:(i-1) * 6 + 6]\n",
    "        R2 = exp(RotationVecGenerator(state[(j-1) * 6 + 1:(j-1) * 6 + 3]...))\n",
    "        T2 = state[(j-1) * 6 + 4:(j-1) * 6 + 6]\n",
    "        euclidean(T1 + R1 * template_centers[:,idx], T2 + R2 * template_centers[:,idx])\n",
    "    end\n",
    "\n",
    "    [abs(transform_dist(template_centers_a, state_a, i) - transform_dist(template_centers_b, state_b, i)) for i in 1:size(template_centers_a)[2]]\n",
    "end\n",
    "\n",
    "function average_offset_distance(template_centers_a, template_centers_b, state_a, state_b)\n",
    "    n = size(template_centers_a)[2]\n",
    "    sum(get_matched_distances_between_transformation_offsets(template_centers_a, template_centers_b, state_a, state_b)) / n\n",
    "end"
   ]
  },
  {
   "cell_type": "code",
   "execution_count": 5,
   "metadata": {},
   "outputs": [
    {
     "data": {
      "text/plain": [
       "\"assets/hpc_out/\""
      ]
     },
     "execution_count": 5,
     "metadata": {},
     "output_type": "execute_result"
    }
   ],
   "source": [
    "folder = \"assets/hpc_out/\"\n"
   ]
  },
  {
   "cell_type": "code",
   "execution_count": 12,
   "metadata": {},
   "outputs": [],
   "source": [
    "for file in readdir(folder)\n",
    "    mt = split(file, \"_\")[2]\n",
    "    num = split(file, \"_\")[3]\n",
    "    mkpath(joinpath(folder, \"$(mt)_$(num)\"))\n",
    "    mv(joinpath(folder, file), joinpath(folder, \"$(mt)_$(num)\", file))\n",
    "end"
   ]
  },
  {
   "cell_type": "code",
   "execution_count": 13,
   "metadata": {},
   "outputs": [
    {
     "name": "stdout",
     "output_type": "stream",
     "text": [
      "6r7m 8138.924225194982 0.9982893464282008\n",
      "6sae 8107.279622532144 1.2821182928454404\n",
      "6sag 8097.730817128498 1.1146356769067605\n",
      "2tmv 8056.550361360152 21.083570792125695\n",
      "1ei7 8185.798536861604 24.19202036075877\n"
     ]
    }
   ],
   "source": [
    "min_path_by_mol = Dict(\"6r7m\" => \"\", \"6sae\" => \"\", \"6sag\" => \"\", \"2tmv\" => \"\", \"1ei7\" => \"\")\n",
    "E_min_by_mol = Dict(\"6r7m\" => Inf, \"6sae\" => Inf, \"6sag\" => Inf, \"2tmv\" => Inf, \"1ei7\" => Inf)\n",
    "mol_types = [\"6r7m\", \"6sae\", \"6sag\", \"2tmv\", \"1ei7\"]\n",
    "\n",
    "rwm_hot_start_folder = \"assets/input/jld2/2_low/\"\n",
    "for mol_type in mol_types\n",
    "    for file in readdir(rwm_hot_start_folder)\n",
    "        if  split(file, \".\")[end] == \"jld2\" && split(file, \"_\")[1] == mol_type\n",
    "            try\n",
    "                @load \"$rwm_hot_start_folder$file\" template_mol template_radii x_init\n",
    "                template_mol = reshape(template_mol,(3,length(template_radii)))\n",
    "                realization = get_flat_realization(x_init, template_mol)\n",
    "                E = MorphoMol.Energies.solvation_free_energy(\n",
    "                    realization, \n",
    "                    length(template_radii),\n",
    "                    [template_radii; template_radii],\n",
    "                    1.4,\n",
    "                    MorphoMol.Energies.get_prefactors(1.4, 0.3665),\n",
    "                    0.0,\n",
    "                    0.85\n",
    "                    )\n",
    "                if E_min_by_mol[mol_type] > E\n",
    "                    E_min_by_mol[mol_type] = E\n",
    "                    min_path_by_mol[mol_type] = \"$rwm_hot_start_folder/$file\"\n",
    "                end\n",
    "            catch e\n",
    "                println(e)\n",
    "            end\n",
    "        end\n",
    "    end\n",
    "end\n",
    "\n",
    "rwm_hot_start_folder = \"assets/input/jld2/2_low/\"\n",
    "for mol_type in mol_types\n",
    "    if min_path_by_mol[mol_type] != \"\"\n",
    "        @load min_path_by_mol[mol_type] template_mol template_radii x_init\n",
    "        template_mol = reshape(template_mol,(3,length(template_radii)))\n",
    "        realization = get_flat_realization(x_init, template_mol)\n",
    "        E = MorphoMol.Energies.solvation_free_energy(\n",
    "            realization, \n",
    "            length(template_radii),\n",
    "            [template_radii; template_radii],\n",
    "            1.4,\n",
    "            MorphoMol.Energies.get_prefactors(1.4, 0.3665),\n",
    "            0.0,\n",
    "            0.85\n",
    "            )\n",
    "        template_mol_sim = deepcopy(template_mol)\n",
    "        x_sim = deepcopy(x_init)\n",
    "        @load \"assets/input/jld2/experimental/2_$(mol_type)_protor.jld2\" template_mol template_radii x_init\n",
    "        println(mol_type, \" \", minimum(E), \" \", average_offset_distance(template_mol_sim, template_mol, x_sim, x_init))\n",
    "    end\n",
    "end\n"
   ]
  },
  {
   "cell_type": "code",
   "execution_count": 14,
   "metadata": {},
   "outputs": [],
   "source": [
    "E_min_by_mol = Dict(\"6r7m\" => Inf, \"6sae\" => Inf, \"6sag\" => Inf, \"2tmv\" => Inf, \"1ei7\" => Inf)\n",
    "min_path_by_mol = Dict(\"6r7m\" => \"\", \"6sae\" => \"\", \"6sag\" => \"\", \"2tmv\" => \"\", \"1ei7\" => \"\")\n",
    "for mol_type in mol_types\n",
    "    E_min = E_min_by_mol[mol_type]\n",
    "    min_file_path = \"\"\n",
    "    for sf in readdir(folder)\n",
    "        for file in readdir(\"$folder$sf\")\n",
    "            if  split(file, \".\")[end] == \"jld2\" && split(file, \"_\")[2] == mol_type\n",
    "                try\n",
    "                    @load \"$folder$sf/$file\" in_out_data\n",
    "                    if E_min > minimum(in_out_data.output.Es)\n",
    "                        E_min = minimum(in_out_data.output.Es)\n",
    "                        min_file_path = \"$folder$sf/$file\"\n",
    "                    end\n",
    "                catch e\n",
    "                    println(e)\n",
    "                end\n",
    "            end\n",
    "        end\n",
    "    end\n",
    "    min_path_by_mol[mol_type] = min_file_path\n",
    "end"
   ]
  },
  {
   "cell_type": "code",
   "execution_count": 15,
   "metadata": {},
   "outputs": [
    {
     "name": "stdout",
     "output_type": "stream",
     "text": [
      "Dict(\"6sag\" => \"assets/hpc_out/6sag_5/3_6sag_5_protor_oj_0_0_os_0_85.jld2\", \"1ei7\" => \"\", \"6r7m\" => \"\", \"6sae\" => \"assets/hpc_out/6sae_13/3_6sae_13_protor_oj_0_0_os_0_85.jld2\", \"2tmv\" => \"\")\n"
     ]
    }
   ],
   "source": [
    "println(min_path_by_mol)"
   ]
  },
  {
   "cell_type": "code",
   "execution_count": 16,
   "metadata": {},
   "outputs": [
    {
     "name": "stdout",
     "output_type": "stream",
     "text": [
      "6sae 8106.102486349152 1.1429573909935333\n",
      "6sag 8092.188608572787 1.1146356769067605\n"
     ]
    }
   ],
   "source": [
    "for mol_type in [\"6r7m\", \"6sae\", \"6sag\", \"2tmv\", \"1ei7\"]\n",
    "    if min_path_by_mol[mol_type] != \"\"\n",
    "        @load min_path_by_mol[mol_type] in_out_data\n",
    "        template_mol_sim = in_out_data.input.template_mol\n",
    "        x_sim = in_out_data.output.states[1]\n",
    "        \n",
    "        @load \"assets/input/jld2/experimental/2_$(mol_type)_protor.jld2\" template_mol template_radii x_init\n",
    "        println(mol_type, \" \", minimum(in_out_data.output.Es), \" \", average_offset_distance(template_mol_sim, template_mol, x_sim, x_init))\n",
    "    end\n",
    "end"
   ]
  }
 ],
 "metadata": {
  "kernelspec": {
   "display_name": "Julia 1.10.4",
   "language": "julia",
   "name": "julia-1.10"
  },
  "language_info": {
   "file_extension": ".jl",
   "mimetype": "application/julia",
   "name": "julia",
   "version": "1.10.4"
  },
  "orig_nbformat": 4
 },
 "nbformat": 4,
 "nbformat_minor": 2
}
