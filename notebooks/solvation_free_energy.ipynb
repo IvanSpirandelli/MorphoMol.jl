{
 "cells": [
  {
   "cell_type": "code",
   "execution_count": 1,
   "metadata": {},
   "outputs": [
    {
     "name": "stderr",
     "output_type": "stream",
     "text": [
      "\u001b[32m\u001b[1m  Activating\u001b[22m\u001b[39m project at `~/Desktop/Doktor/MorphoMol/MorphoMolMonteCarlo`\n"
     ]
    }
   ],
   "source": [
    "import Pkg; \n",
    "\n",
    "if split(pwd(),\"/\")[end] == \"notebooks\"\n",
    "    cd(joinpath(@__DIR__, \"../\"))\n",
    "    Pkg.activate(\"Project.toml\")\n",
    "end\n",
    "\n",
    "using MorphoMol\n",
    "\n",
    "using CairoMakie\n",
    "using LinearAlgebra\n",
    "using Random\n",
    "using Rotations\n",
    "using StaticArrays\n",
    "using Distributions\n",
    "using Distances\n",
    "using BenchmarkTools"
   ]
  },
  {
   "cell_type": "code",
   "execution_count": 53,
   "metadata": {},
   "outputs": [
    {
     "data": {
      "text/plain": [
       "get_flat_realization (generic function with 1 method)"
      ]
     },
     "metadata": {},
     "output_type": "display_data"
    }
   ],
   "source": [
    "function get_flat_realization(x, template_mol)\n",
    "    n_mol = length(x) ÷ 6\n",
    "    [(hvcat((n_mol), [exp(Rotations.RotationVecGenerator(x[i:i+2]...)) * template_mol .+ x[i+3:i+5] for i in 1:6:length(x)]...)...)...]\n",
    "end"
   ]
  },
  {
   "cell_type": "code",
   "execution_count": 88,
   "metadata": {},
   "outputs": [
    {
     "data": {
      "text/plain": [
       "solvation_free_energy_gradient! (generic function with 1 method)"
      ]
     },
     "metadata": {},
     "output_type": "display_data"
    }
   ],
   "source": [
    "function rotation_and_translation_gradient!(∇E, x, ∇FSol, template_mol)\n",
    "    n_atoms_per_mol = size(template_mol)[2]\n",
    "    n_mol = length(x) ÷ 6\n",
    "    for i in 1:n_mol        \n",
    "        R = exp(Rotations.RotationVecGenerator(x[(i-1)*6 + 1:(i-1)*6 + 3]...))\n",
    "        ∇E[(i-1) * 6 + 1] = 0.5 * sum([-v[2]*(R[3,:] ⋅ w) + v[3]*(R[2,:] ⋅ w) for (v,w) in [(∇FSol[:,:,i][:,j], template_mol[:,j]) for j in 1:n_atoms_per_mol]])\n",
    "        ∇E[(i-1) * 6 + 2] = 0.5 * sum([v[1]*(R[3,:] ⋅ w) - v[3]*(R[1,:] ⋅ w) for (v,w) in [(∇FSol[:,:,i][:,j], template_mol[:,j]) for j in 1:n_atoms_per_mol]])\n",
    "        ∇E[(i-1) * 6 + 3] = 0.5 * sum([-v[1]*(R[2,:] ⋅ w) + v[2]*(R[1,:] ⋅ w) for (v,w) in [(∇FSol[:,:,i][:,j], template_mol[:,j]) for j in 1:n_atoms_per_mol]])\n",
    "        ∇E[(i-1) * 6 + 4:(i-1) * 6 + 6] = sum([∇FSol[:,j,i] for j in 1:n_atoms_per_mol])\n",
    "    end\n",
    "    ∇E\n",
    "end\n",
    "\n",
    "function solvation_free_energy_gradient!(∇E, x, template_mol, radii, rs, pf, overlap_slope)\n",
    "    n_atoms_per_mol = size(template_mol)[2]\n",
    "    n_mol = length(x) ÷ 6\n",
    "    flat_realization = get_flat_realization(x, template_mol)\n",
    "    _, dvol, dsurf, dmean, dgauss, dlol = MorphoMol.Energies.get_geometric_measures_and_overlap_value_with_derivatives(\n",
    "        flat_realization,\n",
    "        n_atoms_per_mol,\n",
    "        radii,\n",
    "        rs,\n",
    "        0.0,\n",
    "        overlap_slope\n",
    "    )\n",
    "    ∇FSol = reshape(pf[1] * dvol + pf[2] * dsurf + pf[3] * dmean + pf[4] * dgauss + dlol, (3, n_atoms_per_mol, n_mol))\n",
    "    rotation_and_translation_gradient!(∇E, x, ∇FSol, template_mol)\n",
    "end\n"
   ]
  },
  {
   "cell_type": "code",
   "execution_count": 89,
   "metadata": {},
   "outputs": [
    {
     "data": {
      "text/plain": [
       "solvation_free_energy (generic function with 2 methods)"
      ]
     },
     "metadata": {},
     "output_type": "display_data"
    }
   ],
   "source": [
    "function solvation_free_energy(x::Vector{Float64}, template_mol::Matrix{Float64}, radii::Vector{Float64}, rs::Float64, prefactors::AbstractVector, overlap_jump::Float64, overlap_slope::Float64, delaunay_eps::Float64)\n",
    "    n_mol = length(x) ÷ 6\n",
    "    n_atoms_per_mol = size(template_mol)[2]\n",
    "    flat_realization = get_flat_realization(x, template_mol)\n",
    "    MorphoMol.Energies.solvation_free_energy(flat_realization, n_atoms_per_mol, radii, rs, prefactors, overlap_jump, overlap_slope, delaunay_eps)\n",
    "end"
   ]
  },
  {
   "cell_type": "code",
   "execution_count": 90,
   "metadata": {},
   "outputs": [],
   "source": [
    "n_mol = 20\n",
    "x_init = vcat([[rand(3) * pi; rand(3) * 10.0] for i in 1:n_mol]...)\n",
    "\n",
    "a = 2.0\n",
    "#template_mol = [0.0, 0.0, 0.0, 2*a, 0.0, 0.0, a, sqrt(3)*a, 0.0]\n",
    "template_mol = [0.0, 0.0, 0.0, a, 0.0, 0.0]\n",
    "n_atoms_per_mol = length(template_mol) ÷ 3\n",
    "\n",
    "template_mol = reshape(template_mol,(3,n_atoms_per_mol))\n",
    "template_radii = [1.6, 1.2]\n",
    "radii = vcat([template_radii for i in 1:n_mol]...);\n",
    "\n",
    "flat_realization = get_flat_realization(x_init, template_mol)\n",
    "MorphoMol.Utilities.state_to_poly(flat_realization, radii, \"assets/output/start\", n_mol, n_atoms_per_mol)"
   ]
  },
  {
   "cell_type": "code",
   "execution_count": 100,
   "metadata": {},
   "outputs": [
    {
     "data": {
      "text/plain": [
       "0.8861"
      ]
     },
     "metadata": {},
     "output_type": "display_data"
    }
   ],
   "source": [
    "T = 5.0\n",
    "ε = 0.01\n",
    "L = 4\n",
    "β = 1.0 / T\n",
    "\n",
    "rs = 1.4\n",
    "eta = 0.3665\n",
    "pf = MorphoMol.Energies.get_prefactors(rs, eta)\n",
    "overlap_slope = 10.0\n",
    "\n",
    "σ_r = 0.75\n",
    "σ_t = 0.5\n",
    "\n",
    "draw_perturbation! = () -> vcat([[σ_r * randn(3); σ_t * randn(3)] for _ in 1:n_mol]...)\n",
    "#TODO\n",
    "inner_product = (p) -> (p ⋅ p)\n",
    "\n",
    "\n",
    "energy(x) = solvation_free_energy(x, template_mol, radii, rs, pf, 0.0, overlap_slope, 1.0)\n",
    "energy_gradient!(∇E, x) = solvation_free_energy_gradient!(∇E, x, template_mol, radii, rs, pf, overlap_slope)\n",
    "\n",
    "hmc = MorphoMol.Algorithms.HamiltonianMonteCarlo(energy, energy_gradient!, inner_product, draw_perturbation!, MorphoMol.Algorithms.standard_leapfrog!, β, L, ε)\n",
    "iterations = 10000\n",
    "states, accepted_steps = MorphoMol.Algorithms.simulate!(hmc, deepcopy(x_init), iterations);\n",
    "accepted_steps / iterations"
   ]
  },
  {
   "cell_type": "code",
   "execution_count": 102,
   "metadata": {},
   "outputs": [],
   "source": [
    "for (i, state) in enumerate(states)\n",
    "    MorphoMol.Utilities.state_to_poly(get_flat_realization(state, template_mol), radii, \"assets/output/$(i)\", n_mol, n_atoms_per_mol)\n",
    "end"
   ]
  }
 ],
 "metadata": {
  "kernelspec": {
   "display_name": "Julia 1.8.5",
   "language": "julia",
   "name": "julia-1.8"
  },
  "language_info": {
   "file_extension": ".jl",
   "mimetype": "application/julia",
   "name": "julia",
   "version": "1.8.5"
  },
  "orig_nbformat": 4
 },
 "nbformat": 4,
 "nbformat_minor": 2
}
